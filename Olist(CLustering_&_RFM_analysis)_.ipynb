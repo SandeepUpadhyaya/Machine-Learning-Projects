{
  "nbformat": 4,
  "nbformat_minor": 0,
  "metadata": {
    "kernelspec": {
      "display_name": "Python 3",
      "language": "python",
      "name": "python3"
    },
    "language_info": {
      "codemirror_mode": {
        "name": "ipython",
        "version": 3
      },
      "file_extension": ".py",
      "mimetype": "text/x-python",
      "name": "python",
      "nbconvert_exporter": "python",
      "pygments_lexer": "ipython3",
      "version": "3.8.5"
    },
    "colab": {
      "name": "Olist(CLustering & RFM analysis) .ipynb",
      "provenance": [],
      "collapsed_sections": [
        "EsjCJ-4SUiHA",
        "ld6U-9L8UiHA"
      ],
      "toc_visible": true,
      "include_colab_link": true
    },
    "accelerator": "GPU"
  },
  "cells": [
    {
      "cell_type": "markdown",
      "metadata": {
        "id": "view-in-github",
        "colab_type": "text"
      },
      "source": [
        "<a href=\"https://colab.research.google.com/github/SandeepUpadhyaya/Machine-Learning-Projects/blob/main/Olist(CLustering_%26_RFM_analysis)_.ipynb\" target=\"_parent\"><img src=\"https://colab.research.google.com/assets/colab-badge.svg\" alt=\"Open In Colab\"/></a>"
      ]
    },
    {
      "cell_type": "markdown",
      "metadata": {
        "id": "lACmyFSiUiGG"
      },
      "source": [
        "# Identifying potential customer based from Brazilian E-Commerce Public Dataset"
      ]
    },
    {
      "cell_type": "markdown",
      "metadata": {
        "id": "4Ydi_BlmUiGK"
      },
      "source": [
        "From the above said dataset there were 8 different CSV files was found pertaining customer data, order data, order items, order payments, order reviews, product data, seller data and category name."
      ]
    },
    {
      "cell_type": "markdown",
      "metadata": {
        "id": "h2VAxJ1iNzNd"
      },
      "source": [
        "COlab version"
      ]
    },
    {
      "cell_type": "code",
      "metadata": {
        "id": "6LSt0xiHUiGL"
      },
      "source": [
        "# importing libraries\n",
        "import pandas as pd\n",
        "import numpy as np\n",
        "import datetime as dt\n",
        "import matplotlib.pyplot as plt\n",
        "%matplotlib inline\n",
        "import seaborn as sns\n",
        "from sklearn.preprocessing import StandardScaler\n",
        "from sklearn.cluster import KMeans\n",
        "from sklearn.cluster import KMeans\n",
        "from sklearn.metrics import silhouette_score\n",
        "\n",
        "from scipy.cluster.hierarchy import linkage\n",
        "from scipy.cluster.hierarchy import dendrogram\n",
        "from scipy.cluster.hierarchy import cut_tree\n",
        "import warnings\n",
        "warnings.filterwarnings('ignore')"
      ],
      "execution_count": 1,
      "outputs": []
    },
    {
      "cell_type": "code",
      "metadata": {
        "colab": {
          "base_uri": "https://localhost:8080/"
        },
        "id": "DQu4GoIdU4_3",
        "outputId": "a3ebfef0-6fe9-4387-e7ce-a37cfcdbafb9"
      },
      "source": [
        "from google.colab import drive\n",
        "drive.mount('/content/drive')"
      ],
      "execution_count": 2,
      "outputs": [
        {
          "output_type": "stream",
          "name": "stdout",
          "text": [
            "Mounted at /content/drive\n"
          ]
        }
      ]
    },
    {
      "cell_type": "markdown",
      "metadata": {
        "id": "RpwConnnUiGN"
      },
      "source": [
        "# Products"
      ]
    },
    {
      "cell_type": "code",
      "metadata": {
        "colab": {
          "base_uri": "https://localhost:8080/",
          "height": 226
        },
        "id": "XtI8_1uFVbEv",
        "outputId": "cd0cd9e4-fac6-4be1-8bcc-f2109ed92784"
      },
      "source": [
        "path1 = \"/content/drive/MyDrive/Colab Notebooks/Olist/Olist-drive/olist_products_dataset.csv\"\n",
        "products = pd.read_csv(path1)\n",
        "path2 = \"/content/drive/MyDrive/Colab Notebooks/Olist/Olist-drive/product_category_name_translation.csv\"\n",
        "prod_cat_name_tr = pd.read_csv(path2)\n",
        "products = products.merge(prod_cat_name_tr, on='product_category_name', how='left')\n",
        "products.drop ('product_category_name', axis=1, inplace=True)\n",
        "products.head()"
      ],
      "execution_count": 3,
      "outputs": [
        {
          "output_type": "execute_result",
          "data": {
            "text/html": [
              "<div>\n",
              "<style scoped>\n",
              "    .dataframe tbody tr th:only-of-type {\n",
              "        vertical-align: middle;\n",
              "    }\n",
              "\n",
              "    .dataframe tbody tr th {\n",
              "        vertical-align: top;\n",
              "    }\n",
              "\n",
              "    .dataframe thead th {\n",
              "        text-align: right;\n",
              "    }\n",
              "</style>\n",
              "<table border=\"1\" class=\"dataframe\">\n",
              "  <thead>\n",
              "    <tr style=\"text-align: right;\">\n",
              "      <th></th>\n",
              "      <th>product_id</th>\n",
              "      <th>product_name_lenght</th>\n",
              "      <th>product_description_lenght</th>\n",
              "      <th>product_photos_qty</th>\n",
              "      <th>product_weight_g</th>\n",
              "      <th>product_length_cm</th>\n",
              "      <th>product_height_cm</th>\n",
              "      <th>product_width_cm</th>\n",
              "      <th>product_category_name_english</th>\n",
              "    </tr>\n",
              "  </thead>\n",
              "  <tbody>\n",
              "    <tr>\n",
              "      <th>0</th>\n",
              "      <td>1e9e8ef04dbcff4541ed26657ea517e5</td>\n",
              "      <td>40.0</td>\n",
              "      <td>287.0</td>\n",
              "      <td>1.0</td>\n",
              "      <td>225.0</td>\n",
              "      <td>16.0</td>\n",
              "      <td>10.0</td>\n",
              "      <td>14.0</td>\n",
              "      <td>perfumery</td>\n",
              "    </tr>\n",
              "    <tr>\n",
              "      <th>1</th>\n",
              "      <td>3aa071139cb16b67ca9e5dea641aaa2f</td>\n",
              "      <td>44.0</td>\n",
              "      <td>276.0</td>\n",
              "      <td>1.0</td>\n",
              "      <td>1000.0</td>\n",
              "      <td>30.0</td>\n",
              "      <td>18.0</td>\n",
              "      <td>20.0</td>\n",
              "      <td>art</td>\n",
              "    </tr>\n",
              "    <tr>\n",
              "      <th>2</th>\n",
              "      <td>96bd76ec8810374ed1b65e291975717f</td>\n",
              "      <td>46.0</td>\n",
              "      <td>250.0</td>\n",
              "      <td>1.0</td>\n",
              "      <td>154.0</td>\n",
              "      <td>18.0</td>\n",
              "      <td>9.0</td>\n",
              "      <td>15.0</td>\n",
              "      <td>sports_leisure</td>\n",
              "    </tr>\n",
              "    <tr>\n",
              "      <th>3</th>\n",
              "      <td>cef67bcfe19066a932b7673e239eb23d</td>\n",
              "      <td>27.0</td>\n",
              "      <td>261.0</td>\n",
              "      <td>1.0</td>\n",
              "      <td>371.0</td>\n",
              "      <td>26.0</td>\n",
              "      <td>4.0</td>\n",
              "      <td>26.0</td>\n",
              "      <td>baby</td>\n",
              "    </tr>\n",
              "    <tr>\n",
              "      <th>4</th>\n",
              "      <td>9dc1a7de274444849c219cff195d0b71</td>\n",
              "      <td>37.0</td>\n",
              "      <td>402.0</td>\n",
              "      <td>4.0</td>\n",
              "      <td>625.0</td>\n",
              "      <td>20.0</td>\n",
              "      <td>17.0</td>\n",
              "      <td>13.0</td>\n",
              "      <td>housewares</td>\n",
              "    </tr>\n",
              "  </tbody>\n",
              "</table>\n",
              "</div>"
            ],
            "text/plain": [
              "                         product_id  ...  product_category_name_english\n",
              "0  1e9e8ef04dbcff4541ed26657ea517e5  ...                      perfumery\n",
              "1  3aa071139cb16b67ca9e5dea641aaa2f  ...                            art\n",
              "2  96bd76ec8810374ed1b65e291975717f  ...                 sports_leisure\n",
              "3  cef67bcfe19066a932b7673e239eb23d  ...                           baby\n",
              "4  9dc1a7de274444849c219cff195d0b71  ...                     housewares\n",
              "\n",
              "[5 rows x 9 columns]"
            ]
          },
          "metadata": {},
          "execution_count": 3
        }
      ]
    },
    {
      "cell_type": "code",
      "metadata": {
        "colab": {
          "base_uri": "https://localhost:8080/"
        },
        "id": "gSd0k3ccUiGP",
        "outputId": "af3a2768-c1c7-419f-e50a-98c38bb75a48"
      },
      "source": [
        "products.isnull().sum()"
      ],
      "execution_count": 4,
      "outputs": [
        {
          "output_type": "execute_result",
          "data": {
            "text/plain": [
              "product_id                         0\n",
              "product_name_lenght              610\n",
              "product_description_lenght       610\n",
              "product_photos_qty               610\n",
              "product_weight_g                   2\n",
              "product_length_cm                  2\n",
              "product_height_cm                  2\n",
              "product_width_cm                   2\n",
              "product_category_name_english    623\n",
              "dtype: int64"
            ]
          },
          "metadata": {},
          "execution_count": 4
        }
      ]
    },
    {
      "cell_type": "markdown",
      "metadata": {
        "id": "yVSyMVPmUiGQ"
      },
      "source": [
        "Product name, description and category is missing for more than 600 products, the size details of 2 products is missing we can impute dimension details with the median value or we can drop those 2 row"
      ]
    },
    {
      "cell_type": "code",
      "metadata": {
        "id": "HKSUr2POUiGQ"
      },
      "source": [
        "products=products.rename(columns={'product_name_lenght':'product_name_len','product_description_lenght':'product_description_len'})"
      ],
      "execution_count": 5,
      "outputs": []
    },
    {
      "cell_type": "code",
      "metadata": {
        "colab": {
          "base_uri": "https://localhost:8080/",
          "height": 132
        },
        "id": "gfTLiB68UiGQ",
        "outputId": "47a383f3-c6d9-4685-d2e6-e0522ef9ad0f"
      },
      "source": [
        "products[products['product_weight_g'].isnull()]"
      ],
      "execution_count": 6,
      "outputs": [
        {
          "output_type": "execute_result",
          "data": {
            "text/html": [
              "<div>\n",
              "<style scoped>\n",
              "    .dataframe tbody tr th:only-of-type {\n",
              "        vertical-align: middle;\n",
              "    }\n",
              "\n",
              "    .dataframe tbody tr th {\n",
              "        vertical-align: top;\n",
              "    }\n",
              "\n",
              "    .dataframe thead th {\n",
              "        text-align: right;\n",
              "    }\n",
              "</style>\n",
              "<table border=\"1\" class=\"dataframe\">\n",
              "  <thead>\n",
              "    <tr style=\"text-align: right;\">\n",
              "      <th></th>\n",
              "      <th>product_id</th>\n",
              "      <th>product_name_len</th>\n",
              "      <th>product_description_len</th>\n",
              "      <th>product_photos_qty</th>\n",
              "      <th>product_weight_g</th>\n",
              "      <th>product_length_cm</th>\n",
              "      <th>product_height_cm</th>\n",
              "      <th>product_width_cm</th>\n",
              "      <th>product_category_name_english</th>\n",
              "    </tr>\n",
              "  </thead>\n",
              "  <tbody>\n",
              "    <tr>\n",
              "      <th>8578</th>\n",
              "      <td>09ff539a621711667c43eba6a3bd8466</td>\n",
              "      <td>60.0</td>\n",
              "      <td>865.0</td>\n",
              "      <td>3.0</td>\n",
              "      <td>NaN</td>\n",
              "      <td>NaN</td>\n",
              "      <td>NaN</td>\n",
              "      <td>NaN</td>\n",
              "      <td>baby</td>\n",
              "    </tr>\n",
              "    <tr>\n",
              "      <th>18851</th>\n",
              "      <td>5eb564652db742ff8f28759cd8d2652a</td>\n",
              "      <td>NaN</td>\n",
              "      <td>NaN</td>\n",
              "      <td>NaN</td>\n",
              "      <td>NaN</td>\n",
              "      <td>NaN</td>\n",
              "      <td>NaN</td>\n",
              "      <td>NaN</td>\n",
              "      <td>NaN</td>\n",
              "    </tr>\n",
              "  </tbody>\n",
              "</table>\n",
              "</div>"
            ],
            "text/plain": [
              "                             product_id  ...  product_category_name_english\n",
              "8578   09ff539a621711667c43eba6a3bd8466  ...                           baby\n",
              "18851  5eb564652db742ff8f28759cd8d2652a  ...                            NaN\n",
              "\n",
              "[2 rows x 9 columns]"
            ]
          },
          "metadata": {},
          "execution_count": 6
        }
      ]
    },
    {
      "cell_type": "code",
      "metadata": {
        "id": "WtJrthFxUiGR"
      },
      "source": [
        "products = products[~(products['product_weight_g'].isnull())]"
      ],
      "execution_count": 7,
      "outputs": []
    },
    {
      "cell_type": "markdown",
      "metadata": {
        "id": "JCarypPFUiGR"
      },
      "source": [
        "Lets check the rows where the product name is missing"
      ]
    },
    {
      "cell_type": "code",
      "metadata": {
        "colab": {
          "base_uri": "https://localhost:8080/",
          "height": 226
        },
        "id": "zOCwPfozUiGR",
        "outputId": "55087cad-fc4a-401f-8ba2-0e1b5faa1d6c"
      },
      "source": [
        "products[products['product_name_len'].isnull()].head()"
      ],
      "execution_count": 8,
      "outputs": [
        {
          "output_type": "execute_result",
          "data": {
            "text/html": [
              "<div>\n",
              "<style scoped>\n",
              "    .dataframe tbody tr th:only-of-type {\n",
              "        vertical-align: middle;\n",
              "    }\n",
              "\n",
              "    .dataframe tbody tr th {\n",
              "        vertical-align: top;\n",
              "    }\n",
              "\n",
              "    .dataframe thead th {\n",
              "        text-align: right;\n",
              "    }\n",
              "</style>\n",
              "<table border=\"1\" class=\"dataframe\">\n",
              "  <thead>\n",
              "    <tr style=\"text-align: right;\">\n",
              "      <th></th>\n",
              "      <th>product_id</th>\n",
              "      <th>product_name_len</th>\n",
              "      <th>product_description_len</th>\n",
              "      <th>product_photos_qty</th>\n",
              "      <th>product_weight_g</th>\n",
              "      <th>product_length_cm</th>\n",
              "      <th>product_height_cm</th>\n",
              "      <th>product_width_cm</th>\n",
              "      <th>product_category_name_english</th>\n",
              "    </tr>\n",
              "  </thead>\n",
              "  <tbody>\n",
              "    <tr>\n",
              "      <th>105</th>\n",
              "      <td>a41e356c76fab66334f36de622ecbd3a</td>\n",
              "      <td>NaN</td>\n",
              "      <td>NaN</td>\n",
              "      <td>NaN</td>\n",
              "      <td>650.0</td>\n",
              "      <td>17.0</td>\n",
              "      <td>14.0</td>\n",
              "      <td>12.0</td>\n",
              "      <td>NaN</td>\n",
              "    </tr>\n",
              "    <tr>\n",
              "      <th>128</th>\n",
              "      <td>d8dee61c2034d6d075997acef1870e9b</td>\n",
              "      <td>NaN</td>\n",
              "      <td>NaN</td>\n",
              "      <td>NaN</td>\n",
              "      <td>300.0</td>\n",
              "      <td>16.0</td>\n",
              "      <td>7.0</td>\n",
              "      <td>20.0</td>\n",
              "      <td>NaN</td>\n",
              "    </tr>\n",
              "    <tr>\n",
              "      <th>145</th>\n",
              "      <td>56139431d72cd51f19eb9f7dae4d1617</td>\n",
              "      <td>NaN</td>\n",
              "      <td>NaN</td>\n",
              "      <td>NaN</td>\n",
              "      <td>200.0</td>\n",
              "      <td>20.0</td>\n",
              "      <td>20.0</td>\n",
              "      <td>20.0</td>\n",
              "      <td>NaN</td>\n",
              "    </tr>\n",
              "    <tr>\n",
              "      <th>154</th>\n",
              "      <td>46b48281eb6d663ced748f324108c733</td>\n",
              "      <td>NaN</td>\n",
              "      <td>NaN</td>\n",
              "      <td>NaN</td>\n",
              "      <td>18500.0</td>\n",
              "      <td>41.0</td>\n",
              "      <td>30.0</td>\n",
              "      <td>41.0</td>\n",
              "      <td>NaN</td>\n",
              "    </tr>\n",
              "    <tr>\n",
              "      <th>197</th>\n",
              "      <td>5fb61f482620cb672f5e586bb132eae9</td>\n",
              "      <td>NaN</td>\n",
              "      <td>NaN</td>\n",
              "      <td>NaN</td>\n",
              "      <td>300.0</td>\n",
              "      <td>35.0</td>\n",
              "      <td>7.0</td>\n",
              "      <td>12.0</td>\n",
              "      <td>NaN</td>\n",
              "    </tr>\n",
              "  </tbody>\n",
              "</table>\n",
              "</div>"
            ],
            "text/plain": [
              "                           product_id  ...  product_category_name_english\n",
              "105  a41e356c76fab66334f36de622ecbd3a  ...                            NaN\n",
              "128  d8dee61c2034d6d075997acef1870e9b  ...                            NaN\n",
              "145  56139431d72cd51f19eb9f7dae4d1617  ...                            NaN\n",
              "154  46b48281eb6d663ced748f324108c733  ...                            NaN\n",
              "197  5fb61f482620cb672f5e586bb132eae9  ...                            NaN\n",
              "\n",
              "[5 rows x 9 columns]"
            ]
          },
          "metadata": {},
          "execution_count": 8
        }
      ]
    },
    {
      "cell_type": "markdown",
      "metadata": {
        "id": "aQYOlVWlUiGS"
      },
      "source": [
        "No useful information can be gathered with just dimension and product id. We need to know what that product is. Lets drop these 610 rows"
      ]
    },
    {
      "cell_type": "code",
      "metadata": {
        "colab": {
          "base_uri": "https://localhost:8080/"
        },
        "id": "HvGxcPGHUiGS",
        "outputId": "e9607cc8-6e19-4087-e4b8-e46bf8f9f939"
      },
      "source": [
        "products.info()"
      ],
      "execution_count": 9,
      "outputs": [
        {
          "output_type": "stream",
          "name": "stdout",
          "text": [
            "<class 'pandas.core.frame.DataFrame'>\n",
            "Int64Index: 32949 entries, 0 to 32950\n",
            "Data columns (total 9 columns):\n",
            " #   Column                         Non-Null Count  Dtype  \n",
            "---  ------                         --------------  -----  \n",
            " 0   product_id                     32949 non-null  object \n",
            " 1   product_name_len               32340 non-null  float64\n",
            " 2   product_description_len        32340 non-null  float64\n",
            " 3   product_photos_qty             32340 non-null  float64\n",
            " 4   product_weight_g               32949 non-null  float64\n",
            " 5   product_length_cm              32949 non-null  float64\n",
            " 6   product_height_cm              32949 non-null  float64\n",
            " 7   product_width_cm               32949 non-null  float64\n",
            " 8   product_category_name_english  32327 non-null  object \n",
            "dtypes: float64(7), object(2)\n",
            "memory usage: 2.5+ MB\n"
          ]
        }
      ]
    },
    {
      "cell_type": "markdown",
      "metadata": {
        "id": "g-sx4SUuUiGS"
      },
      "source": [
        "# Order"
      ]
    },
    {
      "cell_type": "code",
      "metadata": {
        "colab": {
          "base_uri": "https://localhost:8080/",
          "height": 226
        },
        "id": "DwyF2dCXUiGT",
        "outputId": "717bfede-28c6-435b-cd63-0417c224548a"
      },
      "source": [
        "path3 = \"/content/drive/MyDrive/Colab Notebooks/Olist/Olist-drive/olist_order_items_dataset.csv\"\n",
        "o_items = pd.read_csv(path3)\n",
        "o_items.head()"
      ],
      "execution_count": 10,
      "outputs": [
        {
          "output_type": "execute_result",
          "data": {
            "text/html": [
              "<div>\n",
              "<style scoped>\n",
              "    .dataframe tbody tr th:only-of-type {\n",
              "        vertical-align: middle;\n",
              "    }\n",
              "\n",
              "    .dataframe tbody tr th {\n",
              "        vertical-align: top;\n",
              "    }\n",
              "\n",
              "    .dataframe thead th {\n",
              "        text-align: right;\n",
              "    }\n",
              "</style>\n",
              "<table border=\"1\" class=\"dataframe\">\n",
              "  <thead>\n",
              "    <tr style=\"text-align: right;\">\n",
              "      <th></th>\n",
              "      <th>order_id</th>\n",
              "      <th>order_item_id</th>\n",
              "      <th>product_id</th>\n",
              "      <th>seller_id</th>\n",
              "      <th>shipping_limit_date</th>\n",
              "      <th>price</th>\n",
              "      <th>freight_value</th>\n",
              "    </tr>\n",
              "  </thead>\n",
              "  <tbody>\n",
              "    <tr>\n",
              "      <th>0</th>\n",
              "      <td>00010242fe8c5a6d1ba2dd792cb16214</td>\n",
              "      <td>1</td>\n",
              "      <td>4244733e06e7ecb4970a6e2683c13e61</td>\n",
              "      <td>48436dade18ac8b2bce089ec2a041202</td>\n",
              "      <td>2017-09-19 09:45:35</td>\n",
              "      <td>58.90</td>\n",
              "      <td>13.29</td>\n",
              "    </tr>\n",
              "    <tr>\n",
              "      <th>1</th>\n",
              "      <td>00018f77f2f0320c557190d7a144bdd3</td>\n",
              "      <td>1</td>\n",
              "      <td>e5f2d52b802189ee658865ca93d83a8f</td>\n",
              "      <td>dd7ddc04e1b6c2c614352b383efe2d36</td>\n",
              "      <td>2017-05-03 11:05:13</td>\n",
              "      <td>239.90</td>\n",
              "      <td>19.93</td>\n",
              "    </tr>\n",
              "    <tr>\n",
              "      <th>2</th>\n",
              "      <td>000229ec398224ef6ca0657da4fc703e</td>\n",
              "      <td>1</td>\n",
              "      <td>c777355d18b72b67abbeef9df44fd0fd</td>\n",
              "      <td>5b51032eddd242adc84c38acab88f23d</td>\n",
              "      <td>2018-01-18 14:48:30</td>\n",
              "      <td>199.00</td>\n",
              "      <td>17.87</td>\n",
              "    </tr>\n",
              "    <tr>\n",
              "      <th>3</th>\n",
              "      <td>00024acbcdf0a6daa1e931b038114c75</td>\n",
              "      <td>1</td>\n",
              "      <td>7634da152a4610f1595efa32f14722fc</td>\n",
              "      <td>9d7a1d34a5052409006425275ba1c2b4</td>\n",
              "      <td>2018-08-15 10:10:18</td>\n",
              "      <td>12.99</td>\n",
              "      <td>12.79</td>\n",
              "    </tr>\n",
              "    <tr>\n",
              "      <th>4</th>\n",
              "      <td>00042b26cf59d7ce69dfabb4e55b4fd9</td>\n",
              "      <td>1</td>\n",
              "      <td>ac6c3623068f30de03045865e4e10089</td>\n",
              "      <td>df560393f3a51e74553ab94004ba5c87</td>\n",
              "      <td>2017-02-13 13:57:51</td>\n",
              "      <td>199.90</td>\n",
              "      <td>18.14</td>\n",
              "    </tr>\n",
              "  </tbody>\n",
              "</table>\n",
              "</div>"
            ],
            "text/plain": [
              "                           order_id  order_item_id  ...   price freight_value\n",
              "0  00010242fe8c5a6d1ba2dd792cb16214              1  ...   58.90         13.29\n",
              "1  00018f77f2f0320c557190d7a144bdd3              1  ...  239.90         19.93\n",
              "2  000229ec398224ef6ca0657da4fc703e              1  ...  199.00         17.87\n",
              "3  00024acbcdf0a6daa1e931b038114c75              1  ...   12.99         12.79\n",
              "4  00042b26cf59d7ce69dfabb4e55b4fd9              1  ...  199.90         18.14\n",
              "\n",
              "[5 rows x 7 columns]"
            ]
          },
          "metadata": {},
          "execution_count": 10
        }
      ]
    },
    {
      "cell_type": "code",
      "metadata": {
        "colab": {
          "base_uri": "https://localhost:8080/"
        },
        "id": "hf4nejGqUiGT",
        "outputId": "7c069bc9-e4c7-4b74-9bc7-a70bfbbd2374"
      },
      "source": [
        "o_items.info()"
      ],
      "execution_count": 11,
      "outputs": [
        {
          "output_type": "stream",
          "name": "stdout",
          "text": [
            "<class 'pandas.core.frame.DataFrame'>\n",
            "RangeIndex: 112650 entries, 0 to 112649\n",
            "Data columns (total 7 columns):\n",
            " #   Column               Non-Null Count   Dtype  \n",
            "---  ------               --------------   -----  \n",
            " 0   order_id             112650 non-null  object \n",
            " 1   order_item_id        112650 non-null  int64  \n",
            " 2   product_id           112650 non-null  object \n",
            " 3   seller_id            112650 non-null  object \n",
            " 4   shipping_limit_date  112650 non-null  object \n",
            " 5   price                112650 non-null  float64\n",
            " 6   freight_value        112650 non-null  float64\n",
            "dtypes: float64(2), int64(1), object(4)\n",
            "memory usage: 6.0+ MB\n"
          ]
        }
      ]
    },
    {
      "cell_type": "code",
      "metadata": {
        "colab": {
          "base_uri": "https://localhost:8080/",
          "height": 226
        },
        "id": "29nu0xULUiGU",
        "outputId": "e499bcbc-fdf3-45bf-ed42-f6b2e2cc55ad"
      },
      "source": [
        "path4 = \"/content/drive/MyDrive/Colab Notebooks/Olist/Olist-drive/olist_orders_dataset.csv\"\n",
        "orders = pd.read_csv(path4,parse_dates = ['order_purchase_timestamp'])\n",
        "orders.head()"
      ],
      "execution_count": 12,
      "outputs": [
        {
          "output_type": "execute_result",
          "data": {
            "text/html": [
              "<div>\n",
              "<style scoped>\n",
              "    .dataframe tbody tr th:only-of-type {\n",
              "        vertical-align: middle;\n",
              "    }\n",
              "\n",
              "    .dataframe tbody tr th {\n",
              "        vertical-align: top;\n",
              "    }\n",
              "\n",
              "    .dataframe thead th {\n",
              "        text-align: right;\n",
              "    }\n",
              "</style>\n",
              "<table border=\"1\" class=\"dataframe\">\n",
              "  <thead>\n",
              "    <tr style=\"text-align: right;\">\n",
              "      <th></th>\n",
              "      <th>order_id</th>\n",
              "      <th>customer_id</th>\n",
              "      <th>order_status</th>\n",
              "      <th>order_purchase_timestamp</th>\n",
              "      <th>order_approved_at</th>\n",
              "      <th>order_delivered_carrier_date</th>\n",
              "      <th>order_delivered_customer_date</th>\n",
              "      <th>order_estimated_delivery_date</th>\n",
              "    </tr>\n",
              "  </thead>\n",
              "  <tbody>\n",
              "    <tr>\n",
              "      <th>0</th>\n",
              "      <td>e481f51cbdc54678b7cc49136f2d6af7</td>\n",
              "      <td>9ef432eb6251297304e76186b10a928d</td>\n",
              "      <td>delivered</td>\n",
              "      <td>2017-10-02 10:56:33</td>\n",
              "      <td>2017-10-02 11:07:15</td>\n",
              "      <td>2017-10-04 19:55:00</td>\n",
              "      <td>2017-10-10 21:25:13</td>\n",
              "      <td>2017-10-18 00:00:00</td>\n",
              "    </tr>\n",
              "    <tr>\n",
              "      <th>1</th>\n",
              "      <td>53cdb2fc8bc7dce0b6741e2150273451</td>\n",
              "      <td>b0830fb4747a6c6d20dea0b8c802d7ef</td>\n",
              "      <td>delivered</td>\n",
              "      <td>2018-07-24 20:41:37</td>\n",
              "      <td>2018-07-26 03:24:27</td>\n",
              "      <td>2018-07-26 14:31:00</td>\n",
              "      <td>2018-08-07 15:27:45</td>\n",
              "      <td>2018-08-13 00:00:00</td>\n",
              "    </tr>\n",
              "    <tr>\n",
              "      <th>2</th>\n",
              "      <td>47770eb9100c2d0c44946d9cf07ec65d</td>\n",
              "      <td>41ce2a54c0b03bf3443c3d931a367089</td>\n",
              "      <td>delivered</td>\n",
              "      <td>2018-08-08 08:38:49</td>\n",
              "      <td>2018-08-08 08:55:23</td>\n",
              "      <td>2018-08-08 13:50:00</td>\n",
              "      <td>2018-08-17 18:06:29</td>\n",
              "      <td>2018-09-04 00:00:00</td>\n",
              "    </tr>\n",
              "    <tr>\n",
              "      <th>3</th>\n",
              "      <td>949d5b44dbf5de918fe9c16f97b45f8a</td>\n",
              "      <td>f88197465ea7920adcdbec7375364d82</td>\n",
              "      <td>delivered</td>\n",
              "      <td>2017-11-18 19:28:06</td>\n",
              "      <td>2017-11-18 19:45:59</td>\n",
              "      <td>2017-11-22 13:39:59</td>\n",
              "      <td>2017-12-02 00:28:42</td>\n",
              "      <td>2017-12-15 00:00:00</td>\n",
              "    </tr>\n",
              "    <tr>\n",
              "      <th>4</th>\n",
              "      <td>ad21c59c0840e6cb83a9ceb5573f8159</td>\n",
              "      <td>8ab97904e6daea8866dbdbc4fb7aad2c</td>\n",
              "      <td>delivered</td>\n",
              "      <td>2018-02-13 21:18:39</td>\n",
              "      <td>2018-02-13 22:20:29</td>\n",
              "      <td>2018-02-14 19:46:34</td>\n",
              "      <td>2018-02-16 18:17:02</td>\n",
              "      <td>2018-02-26 00:00:00</td>\n",
              "    </tr>\n",
              "  </tbody>\n",
              "</table>\n",
              "</div>"
            ],
            "text/plain": [
              "                           order_id  ... order_estimated_delivery_date\n",
              "0  e481f51cbdc54678b7cc49136f2d6af7  ...           2017-10-18 00:00:00\n",
              "1  53cdb2fc8bc7dce0b6741e2150273451  ...           2018-08-13 00:00:00\n",
              "2  47770eb9100c2d0c44946d9cf07ec65d  ...           2018-09-04 00:00:00\n",
              "3  949d5b44dbf5de918fe9c16f97b45f8a  ...           2017-12-15 00:00:00\n",
              "4  ad21c59c0840e6cb83a9ceb5573f8159  ...           2018-02-26 00:00:00\n",
              "\n",
              "[5 rows x 8 columns]"
            ]
          },
          "metadata": {},
          "execution_count": 12
        }
      ]
    },
    {
      "cell_type": "code",
      "metadata": {
        "colab": {
          "base_uri": "https://localhost:8080/"
        },
        "id": "SwICqX2ZUiGV",
        "outputId": "d47552b8-82a2-4c7b-88c9-6ad30822061d"
      },
      "source": [
        "orders.isnull().sum()"
      ],
      "execution_count": 13,
      "outputs": [
        {
          "output_type": "execute_result",
          "data": {
            "text/plain": [
              "order_id                            0\n",
              "customer_id                         0\n",
              "order_status                        0\n",
              "order_purchase_timestamp            0\n",
              "order_approved_at                 160\n",
              "order_delivered_carrier_date     1783\n",
              "order_delivered_customer_date    2965\n",
              "order_estimated_delivery_date       0\n",
              "dtype: int64"
            ]
          },
          "metadata": {},
          "execution_count": 13
        }
      ]
    },
    {
      "cell_type": "raw",
      "metadata": {
        "id": "OIVnYqTIUiGV"
      },
      "source": [
        "All the missing values are timestamp values, these values are\n",
        "\n",
        "approve timestamp\n",
        "carrier delivery timestamp\n",
        "customer delivery timestamp\n",
        "Order approval follows the order purchase and usually happens within a short interval, hence missing approval timestamp can be substituted with the purchase timestamp\n",
        "\n",
        "As per observation the carrier delivery timestamp is often same as the order approval date, so we can substitute the carrier delivery date with the approval date\n",
        "\n",
        "Also it is seen that estimated delivery date is often later than the actual customer delivery date so we can easily substitute the missing customer delivery date with the estimated delivery date"
      ]
    },
    {
      "cell_type": "code",
      "metadata": {
        "id": "OnG9eRssUiGW"
      },
      "source": [
        "orders['order_approved_at'] = orders['order_approved_at'].fillna(orders['order_purchase_timestamp'])\n",
        "orders['order_delivered_carrier_date'] = orders['order_delivered_carrier_date'].fillna(orders['order_approved_at'])\n",
        "orders['order_delivered_customer_date'] = orders['order_delivered_customer_date'].fillna(orders['order_estimated_delivery_date'])"
      ],
      "execution_count": 14,
      "outputs": []
    },
    {
      "cell_type": "code",
      "metadata": {
        "colab": {
          "base_uri": "https://localhost:8080/"
        },
        "id": "SZGFWwIPUiGW",
        "outputId": "e428bfa7-5dbc-4bec-d8ec-197e2258a60f"
      },
      "source": [
        "orders.isnull().sum()"
      ],
      "execution_count": 15,
      "outputs": [
        {
          "output_type": "execute_result",
          "data": {
            "text/plain": [
              "order_id                         0\n",
              "customer_id                      0\n",
              "order_status                     0\n",
              "order_purchase_timestamp         0\n",
              "order_approved_at                0\n",
              "order_delivered_carrier_date     0\n",
              "order_delivered_customer_date    0\n",
              "order_estimated_delivery_date    0\n",
              "dtype: int64"
            ]
          },
          "metadata": {},
          "execution_count": 15
        }
      ]
    },
    {
      "cell_type": "markdown",
      "metadata": {
        "id": "YQVNsfYCUiGW"
      },
      "source": [
        "All the missing values were taken care off."
      ]
    },
    {
      "cell_type": "code",
      "metadata": {
        "colab": {
          "base_uri": "https://localhost:8080/"
        },
        "id": "f3y0VLBQUiGX",
        "outputId": "91b0e63d-7f53-4798-fc0e-8bf9df341ff5"
      },
      "source": [
        "orders.info()"
      ],
      "execution_count": 16,
      "outputs": [
        {
          "output_type": "stream",
          "name": "stdout",
          "text": [
            "<class 'pandas.core.frame.DataFrame'>\n",
            "RangeIndex: 99441 entries, 0 to 99440\n",
            "Data columns (total 8 columns):\n",
            " #   Column                         Non-Null Count  Dtype         \n",
            "---  ------                         --------------  -----         \n",
            " 0   order_id                       99441 non-null  object        \n",
            " 1   customer_id                    99441 non-null  object        \n",
            " 2   order_status                   99441 non-null  object        \n",
            " 3   order_purchase_timestamp       99441 non-null  datetime64[ns]\n",
            " 4   order_approved_at              99441 non-null  object        \n",
            " 5   order_delivered_carrier_date   99441 non-null  object        \n",
            " 6   order_delivered_customer_date  99441 non-null  object        \n",
            " 7   order_estimated_delivery_date  99441 non-null  object        \n",
            "dtypes: datetime64[ns](1), object(7)\n",
            "memory usage: 6.1+ MB\n"
          ]
        }
      ]
    },
    {
      "cell_type": "code",
      "metadata": {
        "colab": {
          "base_uri": "https://localhost:8080/",
          "height": 261
        },
        "id": "rmcOGKmYUiGX",
        "outputId": "3eed4e7c-6c75-4c0e-aefe-fb32f21dacd5"
      },
      "source": [
        "path5 = \"/content/drive/MyDrive/Colab Notebooks/Olist/Olist-drive/olist_order_reviews_dataset.csv\"\n",
        "o_reviews = pd.read_csv(path5)\n",
        "o_reviews.head()"
      ],
      "execution_count": 17,
      "outputs": [
        {
          "output_type": "execute_result",
          "data": {
            "text/html": [
              "<div>\n",
              "<style scoped>\n",
              "    .dataframe tbody tr th:only-of-type {\n",
              "        vertical-align: middle;\n",
              "    }\n",
              "\n",
              "    .dataframe tbody tr th {\n",
              "        vertical-align: top;\n",
              "    }\n",
              "\n",
              "    .dataframe thead th {\n",
              "        text-align: right;\n",
              "    }\n",
              "</style>\n",
              "<table border=\"1\" class=\"dataframe\">\n",
              "  <thead>\n",
              "    <tr style=\"text-align: right;\">\n",
              "      <th></th>\n",
              "      <th>review_id</th>\n",
              "      <th>order_id</th>\n",
              "      <th>review_score</th>\n",
              "      <th>review_comment_title</th>\n",
              "      <th>review_comment_message</th>\n",
              "      <th>review_creation_date</th>\n",
              "      <th>review_answer_timestamp</th>\n",
              "    </tr>\n",
              "  </thead>\n",
              "  <tbody>\n",
              "    <tr>\n",
              "      <th>0</th>\n",
              "      <td>7bc2406110b926393aa56f80a40eba40</td>\n",
              "      <td>73fc7af87114b39712e6da79b0a377eb</td>\n",
              "      <td>4</td>\n",
              "      <td>NaN</td>\n",
              "      <td>NaN</td>\n",
              "      <td>2018-01-18 00:00:00</td>\n",
              "      <td>2018-01-18 21:46:59</td>\n",
              "    </tr>\n",
              "    <tr>\n",
              "      <th>1</th>\n",
              "      <td>80e641a11e56f04c1ad469d5645fdfde</td>\n",
              "      <td>a548910a1c6147796b98fdf73dbeba33</td>\n",
              "      <td>5</td>\n",
              "      <td>NaN</td>\n",
              "      <td>NaN</td>\n",
              "      <td>2018-03-10 00:00:00</td>\n",
              "      <td>2018-03-11 03:05:13</td>\n",
              "    </tr>\n",
              "    <tr>\n",
              "      <th>2</th>\n",
              "      <td>228ce5500dc1d8e020d8d1322874b6f0</td>\n",
              "      <td>f9e4b658b201a9f2ecdecbb34bed034b</td>\n",
              "      <td>5</td>\n",
              "      <td>NaN</td>\n",
              "      <td>NaN</td>\n",
              "      <td>2018-02-17 00:00:00</td>\n",
              "      <td>2018-02-18 14:36:24</td>\n",
              "    </tr>\n",
              "    <tr>\n",
              "      <th>3</th>\n",
              "      <td>e64fb393e7b32834bb789ff8bb30750e</td>\n",
              "      <td>658677c97b385a9be170737859d3511b</td>\n",
              "      <td>5</td>\n",
              "      <td>NaN</td>\n",
              "      <td>Recebi bem antes do prazo estipulado.</td>\n",
              "      <td>2017-04-21 00:00:00</td>\n",
              "      <td>2017-04-21 22:02:06</td>\n",
              "    </tr>\n",
              "    <tr>\n",
              "      <th>4</th>\n",
              "      <td>f7c4243c7fe1938f181bec41a392bdeb</td>\n",
              "      <td>8e6bfb81e283fa7e4f11123a3fb894f1</td>\n",
              "      <td>5</td>\n",
              "      <td>NaN</td>\n",
              "      <td>Parabéns lojas lannister adorei comprar pela I...</td>\n",
              "      <td>2018-03-01 00:00:00</td>\n",
              "      <td>2018-03-02 10:26:53</td>\n",
              "    </tr>\n",
              "  </tbody>\n",
              "</table>\n",
              "</div>"
            ],
            "text/plain": [
              "                          review_id  ... review_answer_timestamp\n",
              "0  7bc2406110b926393aa56f80a40eba40  ...     2018-01-18 21:46:59\n",
              "1  80e641a11e56f04c1ad469d5645fdfde  ...     2018-03-11 03:05:13\n",
              "2  228ce5500dc1d8e020d8d1322874b6f0  ...     2018-02-18 14:36:24\n",
              "3  e64fb393e7b32834bb789ff8bb30750e  ...     2017-04-21 22:02:06\n",
              "4  f7c4243c7fe1938f181bec41a392bdeb  ...     2018-03-02 10:26:53\n",
              "\n",
              "[5 rows x 7 columns]"
            ]
          },
          "metadata": {},
          "execution_count": 17
        }
      ]
    },
    {
      "cell_type": "code",
      "metadata": {
        "colab": {
          "base_uri": "https://localhost:8080/"
        },
        "id": "UXbyJs_LUiGY",
        "outputId": "c0323df9-fa75-4311-b176-2637414dec00"
      },
      "source": [
        "o_reviews.info()"
      ],
      "execution_count": 18,
      "outputs": [
        {
          "output_type": "stream",
          "name": "stdout",
          "text": [
            "<class 'pandas.core.frame.DataFrame'>\n",
            "RangeIndex: 99224 entries, 0 to 99223\n",
            "Data columns (total 7 columns):\n",
            " #   Column                   Non-Null Count  Dtype \n",
            "---  ------                   --------------  ----- \n",
            " 0   review_id                99224 non-null  object\n",
            " 1   order_id                 99224 non-null  object\n",
            " 2   review_score             99224 non-null  int64 \n",
            " 3   review_comment_title     11568 non-null  object\n",
            " 4   review_comment_message   40977 non-null  object\n",
            " 5   review_creation_date     99224 non-null  object\n",
            " 6   review_answer_timestamp  99224 non-null  object\n",
            "dtypes: int64(1), object(6)\n",
            "memory usage: 5.3+ MB\n"
          ]
        }
      ]
    },
    {
      "cell_type": "code",
      "metadata": {
        "colab": {
          "base_uri": "https://localhost:8080/",
          "height": 206
        },
        "id": "n6hhzshcUiGY",
        "outputId": "4dbe8837-50d8-4b96-cf6f-a4d3a3ef11cf"
      },
      "source": [
        "path6 = \"/content/drive/MyDrive/Colab Notebooks/Olist/Olist-drive/olist_order_payments_dataset.csv\"\n",
        "o_payments = pd.read_csv(path6)\n",
        "o_payments.head()"
      ],
      "execution_count": 19,
      "outputs": [
        {
          "output_type": "execute_result",
          "data": {
            "text/html": [
              "<div>\n",
              "<style scoped>\n",
              "    .dataframe tbody tr th:only-of-type {\n",
              "        vertical-align: middle;\n",
              "    }\n",
              "\n",
              "    .dataframe tbody tr th {\n",
              "        vertical-align: top;\n",
              "    }\n",
              "\n",
              "    .dataframe thead th {\n",
              "        text-align: right;\n",
              "    }\n",
              "</style>\n",
              "<table border=\"1\" class=\"dataframe\">\n",
              "  <thead>\n",
              "    <tr style=\"text-align: right;\">\n",
              "      <th></th>\n",
              "      <th>order_id</th>\n",
              "      <th>payment_sequential</th>\n",
              "      <th>payment_type</th>\n",
              "      <th>payment_installments</th>\n",
              "      <th>payment_value</th>\n",
              "    </tr>\n",
              "  </thead>\n",
              "  <tbody>\n",
              "    <tr>\n",
              "      <th>0</th>\n",
              "      <td>b81ef226f3fe1789b1e8b2acac839d17</td>\n",
              "      <td>1</td>\n",
              "      <td>credit_card</td>\n",
              "      <td>8</td>\n",
              "      <td>99.33</td>\n",
              "    </tr>\n",
              "    <tr>\n",
              "      <th>1</th>\n",
              "      <td>a9810da82917af2d9aefd1278f1dcfa0</td>\n",
              "      <td>1</td>\n",
              "      <td>credit_card</td>\n",
              "      <td>1</td>\n",
              "      <td>24.39</td>\n",
              "    </tr>\n",
              "    <tr>\n",
              "      <th>2</th>\n",
              "      <td>25e8ea4e93396b6fa0d3dd708e76c1bd</td>\n",
              "      <td>1</td>\n",
              "      <td>credit_card</td>\n",
              "      <td>1</td>\n",
              "      <td>65.71</td>\n",
              "    </tr>\n",
              "    <tr>\n",
              "      <th>3</th>\n",
              "      <td>ba78997921bbcdc1373bb41e913ab953</td>\n",
              "      <td>1</td>\n",
              "      <td>credit_card</td>\n",
              "      <td>8</td>\n",
              "      <td>107.78</td>\n",
              "    </tr>\n",
              "    <tr>\n",
              "      <th>4</th>\n",
              "      <td>42fdf880ba16b47b59251dd489d4441a</td>\n",
              "      <td>1</td>\n",
              "      <td>credit_card</td>\n",
              "      <td>2</td>\n",
              "      <td>128.45</td>\n",
              "    </tr>\n",
              "  </tbody>\n",
              "</table>\n",
              "</div>"
            ],
            "text/plain": [
              "                           order_id  ...  payment_value\n",
              "0  b81ef226f3fe1789b1e8b2acac839d17  ...          99.33\n",
              "1  a9810da82917af2d9aefd1278f1dcfa0  ...          24.39\n",
              "2  25e8ea4e93396b6fa0d3dd708e76c1bd  ...          65.71\n",
              "3  ba78997921bbcdc1373bb41e913ab953  ...         107.78\n",
              "4  42fdf880ba16b47b59251dd489d4441a  ...         128.45\n",
              "\n",
              "[5 rows x 5 columns]"
            ]
          },
          "metadata": {},
          "execution_count": 19
        }
      ]
    },
    {
      "cell_type": "code",
      "metadata": {
        "colab": {
          "base_uri": "https://localhost:8080/"
        },
        "id": "HzUHG9tlUiGY",
        "outputId": "637e805f-1ae0-46bd-cccf-7dc6e3fdca86"
      },
      "source": [
        "o_payments.info()"
      ],
      "execution_count": 20,
      "outputs": [
        {
          "output_type": "stream",
          "name": "stdout",
          "text": [
            "<class 'pandas.core.frame.DataFrame'>\n",
            "RangeIndex: 103886 entries, 0 to 103885\n",
            "Data columns (total 5 columns):\n",
            " #   Column                Non-Null Count   Dtype  \n",
            "---  ------                --------------   -----  \n",
            " 0   order_id              103886 non-null  object \n",
            " 1   payment_sequential    103886 non-null  int64  \n",
            " 2   payment_type          103886 non-null  object \n",
            " 3   payment_installments  103886 non-null  int64  \n",
            " 4   payment_value         103886 non-null  float64\n",
            "dtypes: float64(1), int64(2), object(2)\n",
            "memory usage: 4.0+ MB\n"
          ]
        }
      ]
    },
    {
      "cell_type": "markdown",
      "metadata": {
        "id": "_vXApNJ5UiGY"
      },
      "source": [
        "# Geolocation"
      ]
    },
    {
      "cell_type": "code",
      "metadata": {
        "colab": {
          "base_uri": "https://localhost:8080/",
          "height": 206
        },
        "id": "JL09lu3ZUiGZ",
        "outputId": "569f6080-9821-417d-9e53-aa869eb58678"
      },
      "source": [
        "path7 = \"/content/drive/MyDrive/Colab Notebooks/Olist/Olist-drive/olist_geolocation_dataset.csv\"\n",
        "geoloc = pd.read_csv(path7)\n",
        "geoloc.head()"
      ],
      "execution_count": 21,
      "outputs": [
        {
          "output_type": "execute_result",
          "data": {
            "text/html": [
              "<div>\n",
              "<style scoped>\n",
              "    .dataframe tbody tr th:only-of-type {\n",
              "        vertical-align: middle;\n",
              "    }\n",
              "\n",
              "    .dataframe tbody tr th {\n",
              "        vertical-align: top;\n",
              "    }\n",
              "\n",
              "    .dataframe thead th {\n",
              "        text-align: right;\n",
              "    }\n",
              "</style>\n",
              "<table border=\"1\" class=\"dataframe\">\n",
              "  <thead>\n",
              "    <tr style=\"text-align: right;\">\n",
              "      <th></th>\n",
              "      <th>geolocation_zip_code_prefix</th>\n",
              "      <th>geolocation_lat</th>\n",
              "      <th>geolocation_lng</th>\n",
              "      <th>geolocation_city</th>\n",
              "      <th>geolocation_state</th>\n",
              "    </tr>\n",
              "  </thead>\n",
              "  <tbody>\n",
              "    <tr>\n",
              "      <th>0</th>\n",
              "      <td>1037</td>\n",
              "      <td>-23.545621</td>\n",
              "      <td>-46.639292</td>\n",
              "      <td>sao paulo</td>\n",
              "      <td>SP</td>\n",
              "    </tr>\n",
              "    <tr>\n",
              "      <th>1</th>\n",
              "      <td>1046</td>\n",
              "      <td>-23.546081</td>\n",
              "      <td>-46.644820</td>\n",
              "      <td>sao paulo</td>\n",
              "      <td>SP</td>\n",
              "    </tr>\n",
              "    <tr>\n",
              "      <th>2</th>\n",
              "      <td>1046</td>\n",
              "      <td>-23.546129</td>\n",
              "      <td>-46.642951</td>\n",
              "      <td>sao paulo</td>\n",
              "      <td>SP</td>\n",
              "    </tr>\n",
              "    <tr>\n",
              "      <th>3</th>\n",
              "      <td>1041</td>\n",
              "      <td>-23.544392</td>\n",
              "      <td>-46.639499</td>\n",
              "      <td>sao paulo</td>\n",
              "      <td>SP</td>\n",
              "    </tr>\n",
              "    <tr>\n",
              "      <th>4</th>\n",
              "      <td>1035</td>\n",
              "      <td>-23.541578</td>\n",
              "      <td>-46.641607</td>\n",
              "      <td>sao paulo</td>\n",
              "      <td>SP</td>\n",
              "    </tr>\n",
              "  </tbody>\n",
              "</table>\n",
              "</div>"
            ],
            "text/plain": [
              "   geolocation_zip_code_prefix  ...  geolocation_state\n",
              "0                         1037  ...                 SP\n",
              "1                         1046  ...                 SP\n",
              "2                         1046  ...                 SP\n",
              "3                         1041  ...                 SP\n",
              "4                         1035  ...                 SP\n",
              "\n",
              "[5 rows x 5 columns]"
            ]
          },
          "metadata": {},
          "execution_count": 21
        }
      ]
    },
    {
      "cell_type": "code",
      "metadata": {
        "colab": {
          "base_uri": "https://localhost:8080/"
        },
        "id": "RU8fioKJUiGZ",
        "outputId": "caa20dff-b2b8-49b3-aa1c-3d9ab44ebe8b"
      },
      "source": [
        "geoloc.info()"
      ],
      "execution_count": 22,
      "outputs": [
        {
          "output_type": "stream",
          "name": "stdout",
          "text": [
            "<class 'pandas.core.frame.DataFrame'>\n",
            "RangeIndex: 1000163 entries, 0 to 1000162\n",
            "Data columns (total 5 columns):\n",
            " #   Column                       Non-Null Count    Dtype  \n",
            "---  ------                       --------------    -----  \n",
            " 0   geolocation_zip_code_prefix  1000163 non-null  int64  \n",
            " 1   geolocation_lat              1000163 non-null  float64\n",
            " 2   geolocation_lng              1000163 non-null  float64\n",
            " 3   geolocation_city             1000163 non-null  object \n",
            " 4   geolocation_state            1000163 non-null  object \n",
            "dtypes: float64(2), int64(1), object(2)\n",
            "memory usage: 38.2+ MB\n"
          ]
        }
      ]
    },
    {
      "cell_type": "markdown",
      "metadata": {
        "id": "rB8RYwXOUiGZ"
      },
      "source": [
        "# Seller"
      ]
    },
    {
      "cell_type": "code",
      "metadata": {
        "colab": {
          "base_uri": "https://localhost:8080/",
          "height": 206
        },
        "id": "3cXfK96VUiGZ",
        "outputId": "b6616150-018a-4bf1-bbe1-11175f81a36b"
      },
      "source": [
        "path8 = \"/content/drive/MyDrive/Colab Notebooks/Olist/Olist-drive/olist_sellers_dataset.csv\"\n",
        "sellers = pd.read_csv(path8)\n",
        "sellers.head()"
      ],
      "execution_count": 23,
      "outputs": [
        {
          "output_type": "execute_result",
          "data": {
            "text/html": [
              "<div>\n",
              "<style scoped>\n",
              "    .dataframe tbody tr th:only-of-type {\n",
              "        vertical-align: middle;\n",
              "    }\n",
              "\n",
              "    .dataframe tbody tr th {\n",
              "        vertical-align: top;\n",
              "    }\n",
              "\n",
              "    .dataframe thead th {\n",
              "        text-align: right;\n",
              "    }\n",
              "</style>\n",
              "<table border=\"1\" class=\"dataframe\">\n",
              "  <thead>\n",
              "    <tr style=\"text-align: right;\">\n",
              "      <th></th>\n",
              "      <th>seller_id</th>\n",
              "      <th>seller_zip_code_prefix</th>\n",
              "      <th>seller_city</th>\n",
              "      <th>seller_state</th>\n",
              "    </tr>\n",
              "  </thead>\n",
              "  <tbody>\n",
              "    <tr>\n",
              "      <th>0</th>\n",
              "      <td>3442f8959a84dea7ee197c632cb2df15</td>\n",
              "      <td>13023</td>\n",
              "      <td>campinas</td>\n",
              "      <td>SP</td>\n",
              "    </tr>\n",
              "    <tr>\n",
              "      <th>1</th>\n",
              "      <td>d1b65fc7debc3361ea86b5f14c68d2e2</td>\n",
              "      <td>13844</td>\n",
              "      <td>mogi guacu</td>\n",
              "      <td>SP</td>\n",
              "    </tr>\n",
              "    <tr>\n",
              "      <th>2</th>\n",
              "      <td>ce3ad9de960102d0677a81f5d0bb7b2d</td>\n",
              "      <td>20031</td>\n",
              "      <td>rio de janeiro</td>\n",
              "      <td>RJ</td>\n",
              "    </tr>\n",
              "    <tr>\n",
              "      <th>3</th>\n",
              "      <td>c0f3eea2e14555b6faeea3dd58c1b1c3</td>\n",
              "      <td>4195</td>\n",
              "      <td>sao paulo</td>\n",
              "      <td>SP</td>\n",
              "    </tr>\n",
              "    <tr>\n",
              "      <th>4</th>\n",
              "      <td>51a04a8a6bdcb23deccc82b0b80742cf</td>\n",
              "      <td>12914</td>\n",
              "      <td>braganca paulista</td>\n",
              "      <td>SP</td>\n",
              "    </tr>\n",
              "  </tbody>\n",
              "</table>\n",
              "</div>"
            ],
            "text/plain": [
              "                          seller_id  ...  seller_state\n",
              "0  3442f8959a84dea7ee197c632cb2df15  ...            SP\n",
              "1  d1b65fc7debc3361ea86b5f14c68d2e2  ...            SP\n",
              "2  ce3ad9de960102d0677a81f5d0bb7b2d  ...            RJ\n",
              "3  c0f3eea2e14555b6faeea3dd58c1b1c3  ...            SP\n",
              "4  51a04a8a6bdcb23deccc82b0b80742cf  ...            SP\n",
              "\n",
              "[5 rows x 4 columns]"
            ]
          },
          "metadata": {},
          "execution_count": 23
        }
      ]
    },
    {
      "cell_type": "code",
      "metadata": {
        "colab": {
          "base_uri": "https://localhost:8080/"
        },
        "id": "XjTMOah2UiGa",
        "outputId": "05078d6f-751b-4382-e508-cb935bb28c6c"
      },
      "source": [
        "sellers.info()"
      ],
      "execution_count": 24,
      "outputs": [
        {
          "output_type": "stream",
          "name": "stdout",
          "text": [
            "<class 'pandas.core.frame.DataFrame'>\n",
            "RangeIndex: 3095 entries, 0 to 3094\n",
            "Data columns (total 4 columns):\n",
            " #   Column                  Non-Null Count  Dtype \n",
            "---  ------                  --------------  ----- \n",
            " 0   seller_id               3095 non-null   object\n",
            " 1   seller_zip_code_prefix  3095 non-null   int64 \n",
            " 2   seller_city             3095 non-null   object\n",
            " 3   seller_state            3095 non-null   object\n",
            "dtypes: int64(1), object(3)\n",
            "memory usage: 96.8+ KB\n"
          ]
        }
      ]
    },
    {
      "cell_type": "markdown",
      "metadata": {
        "id": "Uh1G8QgmUiGf"
      },
      "source": [
        "# Customer"
      ]
    },
    {
      "cell_type": "code",
      "metadata": {
        "colab": {
          "base_uri": "https://localhost:8080/",
          "height": 261
        },
        "id": "xZIERfS0UiGg",
        "outputId": "057a31a4-de25-40d9-99ff-acf7cb07da71"
      },
      "source": [
        "path9 = \"/content/drive/MyDrive/Colab Notebooks/Olist/Olist-drive/olist_customers_dataset.csv\"\n",
        "customers = pd.read_csv(path9)\n",
        "customers.head()"
      ],
      "execution_count": 25,
      "outputs": [
        {
          "output_type": "execute_result",
          "data": {
            "text/html": [
              "<div>\n",
              "<style scoped>\n",
              "    .dataframe tbody tr th:only-of-type {\n",
              "        vertical-align: middle;\n",
              "    }\n",
              "\n",
              "    .dataframe tbody tr th {\n",
              "        vertical-align: top;\n",
              "    }\n",
              "\n",
              "    .dataframe thead th {\n",
              "        text-align: right;\n",
              "    }\n",
              "</style>\n",
              "<table border=\"1\" class=\"dataframe\">\n",
              "  <thead>\n",
              "    <tr style=\"text-align: right;\">\n",
              "      <th></th>\n",
              "      <th>customer_id</th>\n",
              "      <th>customer_unique_id</th>\n",
              "      <th>customer_zip_code_prefix</th>\n",
              "      <th>customer_city</th>\n",
              "      <th>customer_state</th>\n",
              "    </tr>\n",
              "  </thead>\n",
              "  <tbody>\n",
              "    <tr>\n",
              "      <th>0</th>\n",
              "      <td>06b8999e2fba1a1fbc88172c00ba8bc7</td>\n",
              "      <td>861eff4711a542e4b93843c6dd7febb0</td>\n",
              "      <td>14409</td>\n",
              "      <td>franca</td>\n",
              "      <td>SP</td>\n",
              "    </tr>\n",
              "    <tr>\n",
              "      <th>1</th>\n",
              "      <td>18955e83d337fd6b2def6b18a428ac77</td>\n",
              "      <td>290c77bc529b7ac935b93aa66c333dc3</td>\n",
              "      <td>9790</td>\n",
              "      <td>sao bernardo do campo</td>\n",
              "      <td>SP</td>\n",
              "    </tr>\n",
              "    <tr>\n",
              "      <th>2</th>\n",
              "      <td>4e7b3e00288586ebd08712fdd0374a03</td>\n",
              "      <td>060e732b5b29e8181a18229c7b0b2b5e</td>\n",
              "      <td>1151</td>\n",
              "      <td>sao paulo</td>\n",
              "      <td>SP</td>\n",
              "    </tr>\n",
              "    <tr>\n",
              "      <th>3</th>\n",
              "      <td>b2b6027bc5c5109e529d4dc6358b12c3</td>\n",
              "      <td>259dac757896d24d7702b9acbbff3f3c</td>\n",
              "      <td>8775</td>\n",
              "      <td>mogi das cruzes</td>\n",
              "      <td>SP</td>\n",
              "    </tr>\n",
              "    <tr>\n",
              "      <th>4</th>\n",
              "      <td>4f2d8ab171c80ec8364f7c12e35b23ad</td>\n",
              "      <td>345ecd01c38d18a9036ed96c73b8d066</td>\n",
              "      <td>13056</td>\n",
              "      <td>campinas</td>\n",
              "      <td>SP</td>\n",
              "    </tr>\n",
              "  </tbody>\n",
              "</table>\n",
              "</div>"
            ],
            "text/plain": [
              "                        customer_id  ... customer_state\n",
              "0  06b8999e2fba1a1fbc88172c00ba8bc7  ...             SP\n",
              "1  18955e83d337fd6b2def6b18a428ac77  ...             SP\n",
              "2  4e7b3e00288586ebd08712fdd0374a03  ...             SP\n",
              "3  b2b6027bc5c5109e529d4dc6358b12c3  ...             SP\n",
              "4  4f2d8ab171c80ec8364f7c12e35b23ad  ...             SP\n",
              "\n",
              "[5 rows x 5 columns]"
            ]
          },
          "metadata": {},
          "execution_count": 25
        }
      ]
    },
    {
      "cell_type": "code",
      "metadata": {
        "colab": {
          "base_uri": "https://localhost:8080/"
        },
        "id": "V-aA86UHUiGg",
        "outputId": "16f98912-1755-4bd5-98d4-944c367a4100"
      },
      "source": [
        "customers.info()"
      ],
      "execution_count": 26,
      "outputs": [
        {
          "output_type": "stream",
          "name": "stdout",
          "text": [
            "<class 'pandas.core.frame.DataFrame'>\n",
            "RangeIndex: 99441 entries, 0 to 99440\n",
            "Data columns (total 5 columns):\n",
            " #   Column                    Non-Null Count  Dtype \n",
            "---  ------                    --------------  ----- \n",
            " 0   customer_id               99441 non-null  object\n",
            " 1   customer_unique_id        99441 non-null  object\n",
            " 2   customer_zip_code_prefix  99441 non-null  int64 \n",
            " 3   customer_city             99441 non-null  object\n",
            " 4   customer_state            99441 non-null  object\n",
            "dtypes: int64(1), object(4)\n",
            "memory usage: 3.8+ MB\n"
          ]
        }
      ]
    },
    {
      "cell_type": "markdown",
      "metadata": {
        "id": "768zUbiIUiGg"
      },
      "source": [
        "# Merging datasets to one(olist)"
      ]
    },
    {
      "cell_type": "code",
      "metadata": {
        "colab": {
          "base_uri": "https://localhost:8080/",
          "height": 226
        },
        "id": "fUR8yyTqUiGh",
        "outputId": "7c3ff743-3ea5-4d93-e3f0-ef4ed197e6c1"
      },
      "source": [
        "olist = orders.merge(o_items, on='order_id', how='left')\n",
        "olist.head()"
      ],
      "execution_count": 27,
      "outputs": [
        {
          "output_type": "execute_result",
          "data": {
            "text/html": [
              "<div>\n",
              "<style scoped>\n",
              "    .dataframe tbody tr th:only-of-type {\n",
              "        vertical-align: middle;\n",
              "    }\n",
              "\n",
              "    .dataframe tbody tr th {\n",
              "        vertical-align: top;\n",
              "    }\n",
              "\n",
              "    .dataframe thead th {\n",
              "        text-align: right;\n",
              "    }\n",
              "</style>\n",
              "<table border=\"1\" class=\"dataframe\">\n",
              "  <thead>\n",
              "    <tr style=\"text-align: right;\">\n",
              "      <th></th>\n",
              "      <th>order_id</th>\n",
              "      <th>customer_id</th>\n",
              "      <th>order_status</th>\n",
              "      <th>order_purchase_timestamp</th>\n",
              "      <th>order_approved_at</th>\n",
              "      <th>order_delivered_carrier_date</th>\n",
              "      <th>order_delivered_customer_date</th>\n",
              "      <th>order_estimated_delivery_date</th>\n",
              "      <th>order_item_id</th>\n",
              "      <th>product_id</th>\n",
              "      <th>seller_id</th>\n",
              "      <th>shipping_limit_date</th>\n",
              "      <th>price</th>\n",
              "      <th>freight_value</th>\n",
              "    </tr>\n",
              "  </thead>\n",
              "  <tbody>\n",
              "    <tr>\n",
              "      <th>0</th>\n",
              "      <td>e481f51cbdc54678b7cc49136f2d6af7</td>\n",
              "      <td>9ef432eb6251297304e76186b10a928d</td>\n",
              "      <td>delivered</td>\n",
              "      <td>2017-10-02 10:56:33</td>\n",
              "      <td>2017-10-02 11:07:15</td>\n",
              "      <td>2017-10-04 19:55:00</td>\n",
              "      <td>2017-10-10 21:25:13</td>\n",
              "      <td>2017-10-18 00:00:00</td>\n",
              "      <td>1.0</td>\n",
              "      <td>87285b34884572647811a353c7ac498a</td>\n",
              "      <td>3504c0cb71d7fa48d967e0e4c94d59d9</td>\n",
              "      <td>2017-10-06 11:07:15</td>\n",
              "      <td>29.99</td>\n",
              "      <td>8.72</td>\n",
              "    </tr>\n",
              "    <tr>\n",
              "      <th>1</th>\n",
              "      <td>53cdb2fc8bc7dce0b6741e2150273451</td>\n",
              "      <td>b0830fb4747a6c6d20dea0b8c802d7ef</td>\n",
              "      <td>delivered</td>\n",
              "      <td>2018-07-24 20:41:37</td>\n",
              "      <td>2018-07-26 03:24:27</td>\n",
              "      <td>2018-07-26 14:31:00</td>\n",
              "      <td>2018-08-07 15:27:45</td>\n",
              "      <td>2018-08-13 00:00:00</td>\n",
              "      <td>1.0</td>\n",
              "      <td>595fac2a385ac33a80bd5114aec74eb8</td>\n",
              "      <td>289cdb325fb7e7f891c38608bf9e0962</td>\n",
              "      <td>2018-07-30 03:24:27</td>\n",
              "      <td>118.70</td>\n",
              "      <td>22.76</td>\n",
              "    </tr>\n",
              "    <tr>\n",
              "      <th>2</th>\n",
              "      <td>47770eb9100c2d0c44946d9cf07ec65d</td>\n",
              "      <td>41ce2a54c0b03bf3443c3d931a367089</td>\n",
              "      <td>delivered</td>\n",
              "      <td>2018-08-08 08:38:49</td>\n",
              "      <td>2018-08-08 08:55:23</td>\n",
              "      <td>2018-08-08 13:50:00</td>\n",
              "      <td>2018-08-17 18:06:29</td>\n",
              "      <td>2018-09-04 00:00:00</td>\n",
              "      <td>1.0</td>\n",
              "      <td>aa4383b373c6aca5d8797843e5594415</td>\n",
              "      <td>4869f7a5dfa277a7dca6462dcf3b52b2</td>\n",
              "      <td>2018-08-13 08:55:23</td>\n",
              "      <td>159.90</td>\n",
              "      <td>19.22</td>\n",
              "    </tr>\n",
              "    <tr>\n",
              "      <th>3</th>\n",
              "      <td>949d5b44dbf5de918fe9c16f97b45f8a</td>\n",
              "      <td>f88197465ea7920adcdbec7375364d82</td>\n",
              "      <td>delivered</td>\n",
              "      <td>2017-11-18 19:28:06</td>\n",
              "      <td>2017-11-18 19:45:59</td>\n",
              "      <td>2017-11-22 13:39:59</td>\n",
              "      <td>2017-12-02 00:28:42</td>\n",
              "      <td>2017-12-15 00:00:00</td>\n",
              "      <td>1.0</td>\n",
              "      <td>d0b61bfb1de832b15ba9d266ca96e5b0</td>\n",
              "      <td>66922902710d126a0e7d26b0e3805106</td>\n",
              "      <td>2017-11-23 19:45:59</td>\n",
              "      <td>45.00</td>\n",
              "      <td>27.20</td>\n",
              "    </tr>\n",
              "    <tr>\n",
              "      <th>4</th>\n",
              "      <td>ad21c59c0840e6cb83a9ceb5573f8159</td>\n",
              "      <td>8ab97904e6daea8866dbdbc4fb7aad2c</td>\n",
              "      <td>delivered</td>\n",
              "      <td>2018-02-13 21:18:39</td>\n",
              "      <td>2018-02-13 22:20:29</td>\n",
              "      <td>2018-02-14 19:46:34</td>\n",
              "      <td>2018-02-16 18:17:02</td>\n",
              "      <td>2018-02-26 00:00:00</td>\n",
              "      <td>1.0</td>\n",
              "      <td>65266b2da20d04dbe00c5c2d3bb7859e</td>\n",
              "      <td>2c9e548be18521d1c43cde1c582c6de8</td>\n",
              "      <td>2018-02-19 20:31:37</td>\n",
              "      <td>19.90</td>\n",
              "      <td>8.72</td>\n",
              "    </tr>\n",
              "  </tbody>\n",
              "</table>\n",
              "</div>"
            ],
            "text/plain": [
              "                           order_id  ... freight_value\n",
              "0  e481f51cbdc54678b7cc49136f2d6af7  ...          8.72\n",
              "1  53cdb2fc8bc7dce0b6741e2150273451  ...         22.76\n",
              "2  47770eb9100c2d0c44946d9cf07ec65d  ...         19.22\n",
              "3  949d5b44dbf5de918fe9c16f97b45f8a  ...         27.20\n",
              "4  ad21c59c0840e6cb83a9ceb5573f8159  ...          8.72\n",
              "\n",
              "[5 rows x 14 columns]"
            ]
          },
          "metadata": {},
          "execution_count": 27
        }
      ]
    },
    {
      "cell_type": "code",
      "metadata": {
        "colab": {
          "base_uri": "https://localhost:8080/"
        },
        "id": "Ap-Spn_SUiGh",
        "outputId": "2950d0e8-1234-40b2-d19d-968fd934a4c9"
      },
      "source": [
        "olist.shape"
      ],
      "execution_count": 28,
      "outputs": [
        {
          "output_type": "execute_result",
          "data": {
            "text/plain": [
              "(113425, 14)"
            ]
          },
          "metadata": {},
          "execution_count": 28
        }
      ]
    },
    {
      "cell_type": "code",
      "metadata": {
        "colab": {
          "base_uri": "https://localhost:8080/"
        },
        "id": "WAyIXWODUiGh",
        "outputId": "f1ecc6a8-c833-4113-8fd1-c806aa140a92"
      },
      "source": [
        "olist = olist.merge(o_payments, on='order_id', how='outer', validate='m:m')\n",
        "olist.columns"
      ],
      "execution_count": 29,
      "outputs": [
        {
          "output_type": "execute_result",
          "data": {
            "text/plain": [
              "Index(['order_id', 'customer_id', 'order_status', 'order_purchase_timestamp',\n",
              "       'order_approved_at', 'order_delivered_carrier_date',\n",
              "       'order_delivered_customer_date', 'order_estimated_delivery_date',\n",
              "       'order_item_id', 'product_id', 'seller_id', 'shipping_limit_date',\n",
              "       'price', 'freight_value', 'payment_sequential', 'payment_type',\n",
              "       'payment_installments', 'payment_value'],\n",
              "      dtype='object')"
            ]
          },
          "metadata": {},
          "execution_count": 29
        }
      ]
    },
    {
      "cell_type": "code",
      "metadata": {
        "scrolled": true,
        "colab": {
          "base_uri": "https://localhost:8080/"
        },
        "id": "drcT7GdWUiGh",
        "outputId": "f0f8de55-4694-4145-97dc-f2081988b453"
      },
      "source": [
        "olist.shape"
      ],
      "execution_count": 30,
      "outputs": [
        {
          "output_type": "execute_result",
          "data": {
            "text/plain": [
              "(118434, 18)"
            ]
          },
          "metadata": {},
          "execution_count": 30
        }
      ]
    },
    {
      "cell_type": "code",
      "metadata": {
        "id": "tpd6bVJhUiGi"
      },
      "source": [
        "olist = olist.merge(o_reviews, on='order_id', how='outer')"
      ],
      "execution_count": 31,
      "outputs": []
    },
    {
      "cell_type": "code",
      "metadata": {
        "colab": {
          "base_uri": "https://localhost:8080/"
        },
        "id": "5HUAOg0SUiGi",
        "outputId": "162ffc21-0a7e-4e6f-a563-d079301caeee"
      },
      "source": [
        "olist.shape"
      ],
      "execution_count": 32,
      "outputs": [
        {
          "output_type": "execute_result",
          "data": {
            "text/plain": [
              "(119143, 24)"
            ]
          },
          "metadata": {},
          "execution_count": 32
        }
      ]
    },
    {
      "cell_type": "code",
      "metadata": {
        "colab": {
          "base_uri": "https://localhost:8080/"
        },
        "id": "ooWOh0CXUiGi",
        "outputId": "990a7535-7b39-4970-9bb4-3eb0965aa777"
      },
      "source": [
        "olist = olist.merge(products, on='product_id', how='outer')\n",
        "olist.shape"
      ],
      "execution_count": 33,
      "outputs": [
        {
          "output_type": "execute_result",
          "data": {
            "text/plain": [
              "(119143, 32)"
            ]
          },
          "metadata": {},
          "execution_count": 33
        }
      ]
    },
    {
      "cell_type": "code",
      "metadata": {
        "colab": {
          "base_uri": "https://localhost:8080/"
        },
        "id": "kSRxF2J1UiGi",
        "outputId": "dd9f904d-d7ab-473e-9423-05f1c37bb88f"
      },
      "source": [
        "olist = olist.merge(customers, on='customer_id', how='outer')\n",
        "olist.shape"
      ],
      "execution_count": 34,
      "outputs": [
        {
          "output_type": "execute_result",
          "data": {
            "text/plain": [
              "(119143, 36)"
            ]
          },
          "metadata": {},
          "execution_count": 34
        }
      ]
    },
    {
      "cell_type": "code",
      "metadata": {
        "colab": {
          "base_uri": "https://localhost:8080/"
        },
        "id": "AVTYLwBoUiGj",
        "outputId": "1d3cc11a-d38a-4921-bb61-83d123c53fda"
      },
      "source": [
        "olist = olist.merge(sellers, on='seller_id', how='outer')\n",
        "olist.shape"
      ],
      "execution_count": 35,
      "outputs": [
        {
          "output_type": "execute_result",
          "data": {
            "text/plain": [
              "(119143, 39)"
            ]
          },
          "metadata": {},
          "execution_count": 35
        }
      ]
    },
    {
      "cell_type": "code",
      "metadata": {
        "colab": {
          "base_uri": "https://localhost:8080/",
          "height": 313
        },
        "id": "32SPHyE0UiGj",
        "outputId": "bed13a9b-47a7-4022-8b46-e736e350acc7"
      },
      "source": [
        "olist.head()"
      ],
      "execution_count": 36,
      "outputs": [
        {
          "output_type": "execute_result",
          "data": {
            "text/html": [
              "<div>\n",
              "<style scoped>\n",
              "    .dataframe tbody tr th:only-of-type {\n",
              "        vertical-align: middle;\n",
              "    }\n",
              "\n",
              "    .dataframe tbody tr th {\n",
              "        vertical-align: top;\n",
              "    }\n",
              "\n",
              "    .dataframe thead th {\n",
              "        text-align: right;\n",
              "    }\n",
              "</style>\n",
              "<table border=\"1\" class=\"dataframe\">\n",
              "  <thead>\n",
              "    <tr style=\"text-align: right;\">\n",
              "      <th></th>\n",
              "      <th>order_id</th>\n",
              "      <th>customer_id</th>\n",
              "      <th>order_status</th>\n",
              "      <th>order_purchase_timestamp</th>\n",
              "      <th>order_approved_at</th>\n",
              "      <th>order_delivered_carrier_date</th>\n",
              "      <th>order_delivered_customer_date</th>\n",
              "      <th>order_estimated_delivery_date</th>\n",
              "      <th>order_item_id</th>\n",
              "      <th>product_id</th>\n",
              "      <th>seller_id</th>\n",
              "      <th>shipping_limit_date</th>\n",
              "      <th>price</th>\n",
              "      <th>freight_value</th>\n",
              "      <th>payment_sequential</th>\n",
              "      <th>payment_type</th>\n",
              "      <th>payment_installments</th>\n",
              "      <th>payment_value</th>\n",
              "      <th>review_id</th>\n",
              "      <th>review_score</th>\n",
              "      <th>review_comment_title</th>\n",
              "      <th>review_comment_message</th>\n",
              "      <th>review_creation_date</th>\n",
              "      <th>review_answer_timestamp</th>\n",
              "      <th>product_name_len</th>\n",
              "      <th>product_description_len</th>\n",
              "      <th>product_photos_qty</th>\n",
              "      <th>product_weight_g</th>\n",
              "      <th>product_length_cm</th>\n",
              "      <th>product_height_cm</th>\n",
              "      <th>product_width_cm</th>\n",
              "      <th>product_category_name_english</th>\n",
              "      <th>customer_unique_id</th>\n",
              "      <th>customer_zip_code_prefix</th>\n",
              "      <th>customer_city</th>\n",
              "      <th>customer_state</th>\n",
              "      <th>seller_zip_code_prefix</th>\n",
              "      <th>seller_city</th>\n",
              "      <th>seller_state</th>\n",
              "    </tr>\n",
              "  </thead>\n",
              "  <tbody>\n",
              "    <tr>\n",
              "      <th>0</th>\n",
              "      <td>e481f51cbdc54678b7cc49136f2d6af7</td>\n",
              "      <td>9ef432eb6251297304e76186b10a928d</td>\n",
              "      <td>delivered</td>\n",
              "      <td>2017-10-02 10:56:33</td>\n",
              "      <td>2017-10-02 11:07:15</td>\n",
              "      <td>2017-10-04 19:55:00</td>\n",
              "      <td>2017-10-10 21:25:13</td>\n",
              "      <td>2017-10-18 00:00:00</td>\n",
              "      <td>1.0</td>\n",
              "      <td>87285b34884572647811a353c7ac498a</td>\n",
              "      <td>3504c0cb71d7fa48d967e0e4c94d59d9</td>\n",
              "      <td>2017-10-06 11:07:15</td>\n",
              "      <td>29.99</td>\n",
              "      <td>8.72</td>\n",
              "      <td>1.0</td>\n",
              "      <td>credit_card</td>\n",
              "      <td>1.0</td>\n",
              "      <td>18.12</td>\n",
              "      <td>a54f0611adc9ed256b57ede6b6eb5114</td>\n",
              "      <td>4.0</td>\n",
              "      <td>NaN</td>\n",
              "      <td>Não testei o produto ainda, mas ele veio corre...</td>\n",
              "      <td>2017-10-11 00:00:00</td>\n",
              "      <td>2017-10-12 03:43:48</td>\n",
              "      <td>40.0</td>\n",
              "      <td>268.0</td>\n",
              "      <td>4.0</td>\n",
              "      <td>500.0</td>\n",
              "      <td>19.0</td>\n",
              "      <td>8.0</td>\n",
              "      <td>13.0</td>\n",
              "      <td>housewares</td>\n",
              "      <td>7c396fd4830fd04220f754e42b4e5bff</td>\n",
              "      <td>3149</td>\n",
              "      <td>sao paulo</td>\n",
              "      <td>SP</td>\n",
              "      <td>9350.0</td>\n",
              "      <td>maua</td>\n",
              "      <td>SP</td>\n",
              "    </tr>\n",
              "    <tr>\n",
              "      <th>1</th>\n",
              "      <td>e481f51cbdc54678b7cc49136f2d6af7</td>\n",
              "      <td>9ef432eb6251297304e76186b10a928d</td>\n",
              "      <td>delivered</td>\n",
              "      <td>2017-10-02 10:56:33</td>\n",
              "      <td>2017-10-02 11:07:15</td>\n",
              "      <td>2017-10-04 19:55:00</td>\n",
              "      <td>2017-10-10 21:25:13</td>\n",
              "      <td>2017-10-18 00:00:00</td>\n",
              "      <td>1.0</td>\n",
              "      <td>87285b34884572647811a353c7ac498a</td>\n",
              "      <td>3504c0cb71d7fa48d967e0e4c94d59d9</td>\n",
              "      <td>2017-10-06 11:07:15</td>\n",
              "      <td>29.99</td>\n",
              "      <td>8.72</td>\n",
              "      <td>3.0</td>\n",
              "      <td>voucher</td>\n",
              "      <td>1.0</td>\n",
              "      <td>2.00</td>\n",
              "      <td>a54f0611adc9ed256b57ede6b6eb5114</td>\n",
              "      <td>4.0</td>\n",
              "      <td>NaN</td>\n",
              "      <td>Não testei o produto ainda, mas ele veio corre...</td>\n",
              "      <td>2017-10-11 00:00:00</td>\n",
              "      <td>2017-10-12 03:43:48</td>\n",
              "      <td>40.0</td>\n",
              "      <td>268.0</td>\n",
              "      <td>4.0</td>\n",
              "      <td>500.0</td>\n",
              "      <td>19.0</td>\n",
              "      <td>8.0</td>\n",
              "      <td>13.0</td>\n",
              "      <td>housewares</td>\n",
              "      <td>7c396fd4830fd04220f754e42b4e5bff</td>\n",
              "      <td>3149</td>\n",
              "      <td>sao paulo</td>\n",
              "      <td>SP</td>\n",
              "      <td>9350.0</td>\n",
              "      <td>maua</td>\n",
              "      <td>SP</td>\n",
              "    </tr>\n",
              "    <tr>\n",
              "      <th>2</th>\n",
              "      <td>e481f51cbdc54678b7cc49136f2d6af7</td>\n",
              "      <td>9ef432eb6251297304e76186b10a928d</td>\n",
              "      <td>delivered</td>\n",
              "      <td>2017-10-02 10:56:33</td>\n",
              "      <td>2017-10-02 11:07:15</td>\n",
              "      <td>2017-10-04 19:55:00</td>\n",
              "      <td>2017-10-10 21:25:13</td>\n",
              "      <td>2017-10-18 00:00:00</td>\n",
              "      <td>1.0</td>\n",
              "      <td>87285b34884572647811a353c7ac498a</td>\n",
              "      <td>3504c0cb71d7fa48d967e0e4c94d59d9</td>\n",
              "      <td>2017-10-06 11:07:15</td>\n",
              "      <td>29.99</td>\n",
              "      <td>8.72</td>\n",
              "      <td>2.0</td>\n",
              "      <td>voucher</td>\n",
              "      <td>1.0</td>\n",
              "      <td>18.59</td>\n",
              "      <td>a54f0611adc9ed256b57ede6b6eb5114</td>\n",
              "      <td>4.0</td>\n",
              "      <td>NaN</td>\n",
              "      <td>Não testei o produto ainda, mas ele veio corre...</td>\n",
              "      <td>2017-10-11 00:00:00</td>\n",
              "      <td>2017-10-12 03:43:48</td>\n",
              "      <td>40.0</td>\n",
              "      <td>268.0</td>\n",
              "      <td>4.0</td>\n",
              "      <td>500.0</td>\n",
              "      <td>19.0</td>\n",
              "      <td>8.0</td>\n",
              "      <td>13.0</td>\n",
              "      <td>housewares</td>\n",
              "      <td>7c396fd4830fd04220f754e42b4e5bff</td>\n",
              "      <td>3149</td>\n",
              "      <td>sao paulo</td>\n",
              "      <td>SP</td>\n",
              "      <td>9350.0</td>\n",
              "      <td>maua</td>\n",
              "      <td>SP</td>\n",
              "    </tr>\n",
              "    <tr>\n",
              "      <th>3</th>\n",
              "      <td>128e10d95713541c87cd1a2e48201934</td>\n",
              "      <td>a20e8105f23924cd00833fd87daa0831</td>\n",
              "      <td>delivered</td>\n",
              "      <td>2017-08-15 18:29:31</td>\n",
              "      <td>2017-08-15 20:05:16</td>\n",
              "      <td>2017-08-17 15:28:33</td>\n",
              "      <td>2017-08-18 14:44:43</td>\n",
              "      <td>2017-08-28 00:00:00</td>\n",
              "      <td>1.0</td>\n",
              "      <td>87285b34884572647811a353c7ac498a</td>\n",
              "      <td>3504c0cb71d7fa48d967e0e4c94d59d9</td>\n",
              "      <td>2017-08-21 20:05:16</td>\n",
              "      <td>29.99</td>\n",
              "      <td>7.78</td>\n",
              "      <td>1.0</td>\n",
              "      <td>credit_card</td>\n",
              "      <td>3.0</td>\n",
              "      <td>37.77</td>\n",
              "      <td>b46f1e34512b0f4c74a72398b03ca788</td>\n",
              "      <td>4.0</td>\n",
              "      <td>NaN</td>\n",
              "      <td>Deveriam embalar melhor o produto. A caixa vei...</td>\n",
              "      <td>2017-08-19 00:00:00</td>\n",
              "      <td>2017-08-20 15:16:36</td>\n",
              "      <td>40.0</td>\n",
              "      <td>268.0</td>\n",
              "      <td>4.0</td>\n",
              "      <td>500.0</td>\n",
              "      <td>19.0</td>\n",
              "      <td>8.0</td>\n",
              "      <td>13.0</td>\n",
              "      <td>housewares</td>\n",
              "      <td>3a51803cc0d012c3b5dc8b7528cb05f7</td>\n",
              "      <td>3366</td>\n",
              "      <td>sao paulo</td>\n",
              "      <td>SP</td>\n",
              "      <td>9350.0</td>\n",
              "      <td>maua</td>\n",
              "      <td>SP</td>\n",
              "    </tr>\n",
              "    <tr>\n",
              "      <th>4</th>\n",
              "      <td>0e7e841ddf8f8f2de2bad69267ecfbcf</td>\n",
              "      <td>26c7ac168e1433912a51b924fbd34d34</td>\n",
              "      <td>delivered</td>\n",
              "      <td>2017-08-02 18:24:47</td>\n",
              "      <td>2017-08-02 18:43:15</td>\n",
              "      <td>2017-08-04 17:35:43</td>\n",
              "      <td>2017-08-07 18:30:01</td>\n",
              "      <td>2017-08-15 00:00:00</td>\n",
              "      <td>1.0</td>\n",
              "      <td>87285b34884572647811a353c7ac498a</td>\n",
              "      <td>3504c0cb71d7fa48d967e0e4c94d59d9</td>\n",
              "      <td>2017-08-08 18:37:31</td>\n",
              "      <td>29.99</td>\n",
              "      <td>7.78</td>\n",
              "      <td>1.0</td>\n",
              "      <td>credit_card</td>\n",
              "      <td>1.0</td>\n",
              "      <td>37.77</td>\n",
              "      <td>dc90f19c2806f1abba9e72ad3c350073</td>\n",
              "      <td>5.0</td>\n",
              "      <td>NaN</td>\n",
              "      <td>Só achei ela pequena pra seis xícaras ,mais é ...</td>\n",
              "      <td>2017-08-08 00:00:00</td>\n",
              "      <td>2017-08-08 23:26:23</td>\n",
              "      <td>40.0</td>\n",
              "      <td>268.0</td>\n",
              "      <td>4.0</td>\n",
              "      <td>500.0</td>\n",
              "      <td>19.0</td>\n",
              "      <td>8.0</td>\n",
              "      <td>13.0</td>\n",
              "      <td>housewares</td>\n",
              "      <td>ef0996a1a279c26e7ecbd737be23d235</td>\n",
              "      <td>2290</td>\n",
              "      <td>sao paulo</td>\n",
              "      <td>SP</td>\n",
              "      <td>9350.0</td>\n",
              "      <td>maua</td>\n",
              "      <td>SP</td>\n",
              "    </tr>\n",
              "  </tbody>\n",
              "</table>\n",
              "</div>"
            ],
            "text/plain": [
              "                           order_id  ... seller_state\n",
              "0  e481f51cbdc54678b7cc49136f2d6af7  ...           SP\n",
              "1  e481f51cbdc54678b7cc49136f2d6af7  ...           SP\n",
              "2  e481f51cbdc54678b7cc49136f2d6af7  ...           SP\n",
              "3  128e10d95713541c87cd1a2e48201934  ...           SP\n",
              "4  0e7e841ddf8f8f2de2bad69267ecfbcf  ...           SP\n",
              "\n",
              "[5 rows x 39 columns]"
            ]
          },
          "metadata": {},
          "execution_count": 36
        }
      ]
    },
    {
      "cell_type": "code",
      "metadata": {
        "colab": {
          "base_uri": "https://localhost:8080/"
        },
        "id": "UeYlZmnfUiGj",
        "outputId": "e4ed4515-21d3-4af8-f097-794d5b84f9a4"
      },
      "source": [
        "olist.info()"
      ],
      "execution_count": 37,
      "outputs": [
        {
          "output_type": "stream",
          "name": "stdout",
          "text": [
            "<class 'pandas.core.frame.DataFrame'>\n",
            "Int64Index: 119143 entries, 0 to 119142\n",
            "Data columns (total 39 columns):\n",
            " #   Column                         Non-Null Count   Dtype         \n",
            "---  ------                         --------------   -----         \n",
            " 0   order_id                       119143 non-null  object        \n",
            " 1   customer_id                    119143 non-null  object        \n",
            " 2   order_status                   119143 non-null  object        \n",
            " 3   order_purchase_timestamp       119143 non-null  datetime64[ns]\n",
            " 4   order_approved_at              119143 non-null  object        \n",
            " 5   order_delivered_carrier_date   119143 non-null  object        \n",
            " 6   order_delivered_customer_date  119143 non-null  object        \n",
            " 7   order_estimated_delivery_date  119143 non-null  object        \n",
            " 8   order_item_id                  118310 non-null  float64       \n",
            " 9   product_id                     118310 non-null  object        \n",
            " 10  seller_id                      118310 non-null  object        \n",
            " 11  shipping_limit_date            118310 non-null  object        \n",
            " 12  price                          118310 non-null  float64       \n",
            " 13  freight_value                  118310 non-null  float64       \n",
            " 14  payment_sequential             119140 non-null  float64       \n",
            " 15  payment_type                   119140 non-null  object        \n",
            " 16  payment_installments           119140 non-null  float64       \n",
            " 17  payment_value                  119140 non-null  float64       \n",
            " 18  review_id                      118146 non-null  object        \n",
            " 19  review_score                   118146 non-null  float64       \n",
            " 20  review_comment_title           13989 non-null   object        \n",
            " 21  review_comment_message         50245 non-null   object        \n",
            " 22  review_creation_date           118146 non-null  object        \n",
            " 23  review_answer_timestamp        118146 non-null  object        \n",
            " 24  product_name_len               116600 non-null  float64       \n",
            " 25  product_description_len        116600 non-null  float64       \n",
            " 26  product_photos_qty             116600 non-null  float64       \n",
            " 27  product_weight_g               118290 non-null  float64       \n",
            " 28  product_length_cm              118290 non-null  float64       \n",
            " 29  product_height_cm              118290 non-null  float64       \n",
            " 30  product_width_cm               118290 non-null  float64       \n",
            " 31  product_category_name_english  116575 non-null  object        \n",
            " 32  customer_unique_id             119143 non-null  object        \n",
            " 33  customer_zip_code_prefix       119143 non-null  int64         \n",
            " 34  customer_city                  119143 non-null  object        \n",
            " 35  customer_state                 119143 non-null  object        \n",
            " 36  seller_zip_code_prefix         118310 non-null  float64       \n",
            " 37  seller_city                    118310 non-null  object        \n",
            " 38  seller_state                   118310 non-null  object        \n",
            "dtypes: datetime64[ns](1), float64(15), int64(1), object(22)\n",
            "memory usage: 36.4+ MB\n"
          ]
        }
      ]
    },
    {
      "cell_type": "markdown",
      "metadata": {
        "id": "gKt4BY-BUiGj"
      },
      "source": [
        "# <font color='red'> check this"
      ]
    },
    {
      "cell_type": "code",
      "metadata": {
        "colab": {
          "base_uri": "https://localhost:8080/",
          "height": 677
        },
        "id": "y6cMO7x5UiGk",
        "outputId": "8b0bbb98-ec70-49aa-876e-82a7a6363f16"
      },
      "source": [
        "olist['total_payment'] = olist['payment_value']*olist['payment_installments']\n",
        "olist.total_payment.head()\n",
        "pay_compare = olist[['order_id','price','total_payment']]\n",
        "pay_compare.head(20)"
      ],
      "execution_count": 38,
      "outputs": [
        {
          "output_type": "execute_result",
          "data": {
            "text/html": [
              "<div>\n",
              "<style scoped>\n",
              "    .dataframe tbody tr th:only-of-type {\n",
              "        vertical-align: middle;\n",
              "    }\n",
              "\n",
              "    .dataframe tbody tr th {\n",
              "        vertical-align: top;\n",
              "    }\n",
              "\n",
              "    .dataframe thead th {\n",
              "        text-align: right;\n",
              "    }\n",
              "</style>\n",
              "<table border=\"1\" class=\"dataframe\">\n",
              "  <thead>\n",
              "    <tr style=\"text-align: right;\">\n",
              "      <th></th>\n",
              "      <th>order_id</th>\n",
              "      <th>price</th>\n",
              "      <th>total_payment</th>\n",
              "    </tr>\n",
              "  </thead>\n",
              "  <tbody>\n",
              "    <tr>\n",
              "      <th>0</th>\n",
              "      <td>e481f51cbdc54678b7cc49136f2d6af7</td>\n",
              "      <td>29.99</td>\n",
              "      <td>18.12</td>\n",
              "    </tr>\n",
              "    <tr>\n",
              "      <th>1</th>\n",
              "      <td>e481f51cbdc54678b7cc49136f2d6af7</td>\n",
              "      <td>29.99</td>\n",
              "      <td>2.00</td>\n",
              "    </tr>\n",
              "    <tr>\n",
              "      <th>2</th>\n",
              "      <td>e481f51cbdc54678b7cc49136f2d6af7</td>\n",
              "      <td>29.99</td>\n",
              "      <td>18.59</td>\n",
              "    </tr>\n",
              "    <tr>\n",
              "      <th>3</th>\n",
              "      <td>128e10d95713541c87cd1a2e48201934</td>\n",
              "      <td>29.99</td>\n",
              "      <td>113.31</td>\n",
              "    </tr>\n",
              "    <tr>\n",
              "      <th>4</th>\n",
              "      <td>0e7e841ddf8f8f2de2bad69267ecfbcf</td>\n",
              "      <td>29.99</td>\n",
              "      <td>37.77</td>\n",
              "    </tr>\n",
              "    <tr>\n",
              "      <th>5</th>\n",
              "      <td>bfc39df4f36c3693ff3b63fcbea9e90a</td>\n",
              "      <td>29.99</td>\n",
              "      <td>44.09</td>\n",
              "    </tr>\n",
              "    <tr>\n",
              "      <th>6</th>\n",
              "      <td>8736140c61ea584cb4250074756d8f3b</td>\n",
              "      <td>75.90</td>\n",
              "      <td>83.69</td>\n",
              "    </tr>\n",
              "    <tr>\n",
              "      <th>7</th>\n",
              "      <td>88407c8c6e12493ff6e845df39540112</td>\n",
              "      <td>75.90</td>\n",
              "      <td>167.38</td>\n",
              "    </tr>\n",
              "    <tr>\n",
              "      <th>8</th>\n",
              "      <td>4f2acff0b7d2bcc4a408abe5a223d407</td>\n",
              "      <td>75.90</td>\n",
              "      <td>90.18</td>\n",
              "    </tr>\n",
              "    <tr>\n",
              "      <th>9</th>\n",
              "      <td>019aaee09698daf81dcffe9d94a18b5c</td>\n",
              "      <td>75.90</td>\n",
              "      <td>167.38</td>\n",
              "    </tr>\n",
              "    <tr>\n",
              "      <th>10</th>\n",
              "      <td>e37531db8933bdce0f86e9dc3768759e</td>\n",
              "      <td>75.90</td>\n",
              "      <td>90.18</td>\n",
              "    </tr>\n",
              "    <tr>\n",
              "      <th>11</th>\n",
              "      <td>a0151737f2f0c6c0a5fd69d45f66ceea</td>\n",
              "      <td>44.99</td>\n",
              "      <td>105.54</td>\n",
              "    </tr>\n",
              "    <tr>\n",
              "      <th>12</th>\n",
              "      <td>a3bf941183211246f0d42ad757cba127</td>\n",
              "      <td>44.99</td>\n",
              "      <td>105.54</td>\n",
              "    </tr>\n",
              "    <tr>\n",
              "      <th>13</th>\n",
              "      <td>e8f1a30189522698bfce82adf60472e7</td>\n",
              "      <td>44.99</td>\n",
              "      <td>105.54</td>\n",
              "    </tr>\n",
              "    <tr>\n",
              "      <th>14</th>\n",
              "      <td>e71fb32bec49dd4112bcbcc19126d388</td>\n",
              "      <td>44.99</td>\n",
              "      <td>2.77</td>\n",
              "    </tr>\n",
              "    <tr>\n",
              "      <th>15</th>\n",
              "      <td>e71fb32bec49dd4112bcbcc19126d388</td>\n",
              "      <td>44.99</td>\n",
              "      <td>50.00</td>\n",
              "    </tr>\n",
              "    <tr>\n",
              "      <th>16</th>\n",
              "      <td>03eae39a27aeab0f8c9ad5b84555a6d1</td>\n",
              "      <td>48.90</td>\n",
              "      <td>60.63</td>\n",
              "    </tr>\n",
              "    <tr>\n",
              "      <th>17</th>\n",
              "      <td>de01100645b731556de153cfbebc35b1</td>\n",
              "      <td>44.99</td>\n",
              "      <td>300.45</td>\n",
              "    </tr>\n",
              "    <tr>\n",
              "      <th>18</th>\n",
              "      <td>1f201b2bf1eecbd0ad32c3f430846b84</td>\n",
              "      <td>48.90</td>\n",
              "      <td>242.52</td>\n",
              "    </tr>\n",
              "    <tr>\n",
              "      <th>19</th>\n",
              "      <td>84aaa1a774e37a0a7c1a5413dc49e168</td>\n",
              "      <td>44.99</td>\n",
              "      <td>52.77</td>\n",
              "    </tr>\n",
              "  </tbody>\n",
              "</table>\n",
              "</div>"
            ],
            "text/plain": [
              "                            order_id  price  total_payment\n",
              "0   e481f51cbdc54678b7cc49136f2d6af7  29.99          18.12\n",
              "1   e481f51cbdc54678b7cc49136f2d6af7  29.99           2.00\n",
              "2   e481f51cbdc54678b7cc49136f2d6af7  29.99          18.59\n",
              "3   128e10d95713541c87cd1a2e48201934  29.99         113.31\n",
              "4   0e7e841ddf8f8f2de2bad69267ecfbcf  29.99          37.77\n",
              "5   bfc39df4f36c3693ff3b63fcbea9e90a  29.99          44.09\n",
              "6   8736140c61ea584cb4250074756d8f3b  75.90          83.69\n",
              "7   88407c8c6e12493ff6e845df39540112  75.90         167.38\n",
              "8   4f2acff0b7d2bcc4a408abe5a223d407  75.90          90.18\n",
              "9   019aaee09698daf81dcffe9d94a18b5c  75.90         167.38\n",
              "10  e37531db8933bdce0f86e9dc3768759e  75.90          90.18\n",
              "11  a0151737f2f0c6c0a5fd69d45f66ceea  44.99         105.54\n",
              "12  a3bf941183211246f0d42ad757cba127  44.99         105.54\n",
              "13  e8f1a30189522698bfce82adf60472e7  44.99         105.54\n",
              "14  e71fb32bec49dd4112bcbcc19126d388  44.99           2.77\n",
              "15  e71fb32bec49dd4112bcbcc19126d388  44.99          50.00\n",
              "16  03eae39a27aeab0f8c9ad5b84555a6d1  48.90          60.63\n",
              "17  de01100645b731556de153cfbebc35b1  44.99         300.45\n",
              "18  1f201b2bf1eecbd0ad32c3f430846b84  48.90         242.52\n",
              "19  84aaa1a774e37a0a7c1a5413dc49e168  44.99          52.77"
            ]
          },
          "metadata": {},
          "execution_count": 38
        }
      ]
    },
    {
      "cell_type": "code",
      "metadata": {
        "colab": {
          "base_uri": "https://localhost:8080/",
          "height": 1000
        },
        "id": "LCzvpDLVUiGk",
        "outputId": "39876a94-3f28-4670-b2c2-15761ac73a36"
      },
      "source": [
        "olist.describe(include='all').T"
      ],
      "execution_count": 39,
      "outputs": [
        {
          "output_type": "execute_result",
          "data": {
            "text/html": [
              "<div>\n",
              "<style scoped>\n",
              "    .dataframe tbody tr th:only-of-type {\n",
              "        vertical-align: middle;\n",
              "    }\n",
              "\n",
              "    .dataframe tbody tr th {\n",
              "        vertical-align: top;\n",
              "    }\n",
              "\n",
              "    .dataframe thead th {\n",
              "        text-align: right;\n",
              "    }\n",
              "</style>\n",
              "<table border=\"1\" class=\"dataframe\">\n",
              "  <thead>\n",
              "    <tr style=\"text-align: right;\">\n",
              "      <th></th>\n",
              "      <th>count</th>\n",
              "      <th>unique</th>\n",
              "      <th>top</th>\n",
              "      <th>freq</th>\n",
              "      <th>first</th>\n",
              "      <th>last</th>\n",
              "      <th>mean</th>\n",
              "      <th>std</th>\n",
              "      <th>min</th>\n",
              "      <th>25%</th>\n",
              "      <th>50%</th>\n",
              "      <th>75%</th>\n",
              "      <th>max</th>\n",
              "    </tr>\n",
              "  </thead>\n",
              "  <tbody>\n",
              "    <tr>\n",
              "      <th>order_id</th>\n",
              "      <td>119143</td>\n",
              "      <td>99441</td>\n",
              "      <td>895ab968e7bb0d5659d16cd74cd1650c</td>\n",
              "      <td>63</td>\n",
              "      <td>NaT</td>\n",
              "      <td>NaT</td>\n",
              "      <td>NaN</td>\n",
              "      <td>NaN</td>\n",
              "      <td>NaN</td>\n",
              "      <td>NaN</td>\n",
              "      <td>NaN</td>\n",
              "      <td>NaN</td>\n",
              "      <td>NaN</td>\n",
              "    </tr>\n",
              "    <tr>\n",
              "      <th>customer_id</th>\n",
              "      <td>119143</td>\n",
              "      <td>99441</td>\n",
              "      <td>270c23a11d024a44c896d1894b261a83</td>\n",
              "      <td>63</td>\n",
              "      <td>NaT</td>\n",
              "      <td>NaT</td>\n",
              "      <td>NaN</td>\n",
              "      <td>NaN</td>\n",
              "      <td>NaN</td>\n",
              "      <td>NaN</td>\n",
              "      <td>NaN</td>\n",
              "      <td>NaN</td>\n",
              "      <td>NaN</td>\n",
              "    </tr>\n",
              "    <tr>\n",
              "      <th>order_status</th>\n",
              "      <td>119143</td>\n",
              "      <td>8</td>\n",
              "      <td>delivered</td>\n",
              "      <td>115723</td>\n",
              "      <td>NaT</td>\n",
              "      <td>NaT</td>\n",
              "      <td>NaN</td>\n",
              "      <td>NaN</td>\n",
              "      <td>NaN</td>\n",
              "      <td>NaN</td>\n",
              "      <td>NaN</td>\n",
              "      <td>NaN</td>\n",
              "      <td>NaN</td>\n",
              "    </tr>\n",
              "    <tr>\n",
              "      <th>order_purchase_timestamp</th>\n",
              "      <td>119143</td>\n",
              "      <td>98875</td>\n",
              "      <td>2017-08-08 20:26:31</td>\n",
              "      <td>63</td>\n",
              "      <td>2016-09-04 21:15:19</td>\n",
              "      <td>2018-10-17 17:30:18</td>\n",
              "      <td>NaN</td>\n",
              "      <td>NaN</td>\n",
              "      <td>NaN</td>\n",
              "      <td>NaN</td>\n",
              "      <td>NaN</td>\n",
              "      <td>NaN</td>\n",
              "      <td>NaN</td>\n",
              "    </tr>\n",
              "    <tr>\n",
              "      <th>order_approved_at</th>\n",
              "      <td>119143</td>\n",
              "      <td>90893</td>\n",
              "      <td>2017-08-08 20:43:31</td>\n",
              "      <td>63</td>\n",
              "      <td>NaT</td>\n",
              "      <td>NaT</td>\n",
              "      <td>NaN</td>\n",
              "      <td>NaN</td>\n",
              "      <td>NaN</td>\n",
              "      <td>NaN</td>\n",
              "      <td>NaN</td>\n",
              "      <td>NaN</td>\n",
              "      <td>NaN</td>\n",
              "    </tr>\n",
              "    <tr>\n",
              "      <th>order_delivered_carrier_date</th>\n",
              "      <td>119143</td>\n",
              "      <td>82794</td>\n",
              "      <td>2017-08-10 11:58:14</td>\n",
              "      <td>63</td>\n",
              "      <td>NaT</td>\n",
              "      <td>NaT</td>\n",
              "      <td>NaN</td>\n",
              "      <td>NaN</td>\n",
              "      <td>NaN</td>\n",
              "      <td>NaN</td>\n",
              "      <td>NaN</td>\n",
              "      <td>NaN</td>\n",
              "      <td>NaN</td>\n",
              "    </tr>\n",
              "    <tr>\n",
              "      <th>order_delivered_customer_date</th>\n",
              "      <td>119143</td>\n",
              "      <td>96088</td>\n",
              "      <td>2017-08-14 12:46:18</td>\n",
              "      <td>63</td>\n",
              "      <td>NaT</td>\n",
              "      <td>NaT</td>\n",
              "      <td>NaN</td>\n",
              "      <td>NaN</td>\n",
              "      <td>NaN</td>\n",
              "      <td>NaN</td>\n",
              "      <td>NaN</td>\n",
              "      <td>NaN</td>\n",
              "      <td>NaN</td>\n",
              "    </tr>\n",
              "    <tr>\n",
              "      <th>order_estimated_delivery_date</th>\n",
              "      <td>119143</td>\n",
              "      <td>459</td>\n",
              "      <td>2017-12-20 00:00:00</td>\n",
              "      <td>663</td>\n",
              "      <td>NaT</td>\n",
              "      <td>NaT</td>\n",
              "      <td>NaN</td>\n",
              "      <td>NaN</td>\n",
              "      <td>NaN</td>\n",
              "      <td>NaN</td>\n",
              "      <td>NaN</td>\n",
              "      <td>NaN</td>\n",
              "      <td>NaN</td>\n",
              "    </tr>\n",
              "    <tr>\n",
              "      <th>order_item_id</th>\n",
              "      <td>118310</td>\n",
              "      <td>NaN</td>\n",
              "      <td>NaN</td>\n",
              "      <td>NaN</td>\n",
              "      <td>NaT</td>\n",
              "      <td>NaT</td>\n",
              "      <td>1.19654</td>\n",
              "      <td>0.699489</td>\n",
              "      <td>1</td>\n",
              "      <td>1</td>\n",
              "      <td>1</td>\n",
              "      <td>1</td>\n",
              "      <td>21</td>\n",
              "    </tr>\n",
              "    <tr>\n",
              "      <th>product_id</th>\n",
              "      <td>118310</td>\n",
              "      <td>32951</td>\n",
              "      <td>aca2eb7d00ea1a7b8ebd4e68314663af</td>\n",
              "      <td>536</td>\n",
              "      <td>NaT</td>\n",
              "      <td>NaT</td>\n",
              "      <td>NaN</td>\n",
              "      <td>NaN</td>\n",
              "      <td>NaN</td>\n",
              "      <td>NaN</td>\n",
              "      <td>NaN</td>\n",
              "      <td>NaN</td>\n",
              "      <td>NaN</td>\n",
              "    </tr>\n",
              "    <tr>\n",
              "      <th>seller_id</th>\n",
              "      <td>118310</td>\n",
              "      <td>3095</td>\n",
              "      <td>4a3ca9315b744ce9f8e9374361493884</td>\n",
              "      <td>2155</td>\n",
              "      <td>NaT</td>\n",
              "      <td>NaT</td>\n",
              "      <td>NaN</td>\n",
              "      <td>NaN</td>\n",
              "      <td>NaN</td>\n",
              "      <td>NaN</td>\n",
              "      <td>NaN</td>\n",
              "      <td>NaN</td>\n",
              "      <td>NaN</td>\n",
              "    </tr>\n",
              "    <tr>\n",
              "      <th>shipping_limit_date</th>\n",
              "      <td>118310</td>\n",
              "      <td>93318</td>\n",
              "      <td>2017-08-14 20:43:31</td>\n",
              "      <td>63</td>\n",
              "      <td>NaT</td>\n",
              "      <td>NaT</td>\n",
              "      <td>NaN</td>\n",
              "      <td>NaN</td>\n",
              "      <td>NaN</td>\n",
              "      <td>NaN</td>\n",
              "      <td>NaN</td>\n",
              "      <td>NaN</td>\n",
              "      <td>NaN</td>\n",
              "    </tr>\n",
              "    <tr>\n",
              "      <th>price</th>\n",
              "      <td>118310</td>\n",
              "      <td>NaN</td>\n",
              "      <td>NaN</td>\n",
              "      <td>NaN</td>\n",
              "      <td>NaT</td>\n",
              "      <td>NaT</td>\n",
              "      <td>120.647</td>\n",
              "      <td>184.11</td>\n",
              "      <td>0.85</td>\n",
              "      <td>39.9</td>\n",
              "      <td>74.9</td>\n",
              "      <td>134.9</td>\n",
              "      <td>6735</td>\n",
              "    </tr>\n",
              "    <tr>\n",
              "      <th>freight_value</th>\n",
              "      <td>118310</td>\n",
              "      <td>NaN</td>\n",
              "      <td>NaN</td>\n",
              "      <td>NaN</td>\n",
              "      <td>NaT</td>\n",
              "      <td>NaT</td>\n",
              "      <td>20.0324</td>\n",
              "      <td>15.8369</td>\n",
              "      <td>0</td>\n",
              "      <td>13.08</td>\n",
              "      <td>16.28</td>\n",
              "      <td>21.18</td>\n",
              "      <td>409.68</td>\n",
              "    </tr>\n",
              "    <tr>\n",
              "      <th>payment_sequential</th>\n",
              "      <td>119140</td>\n",
              "      <td>NaN</td>\n",
              "      <td>NaN</td>\n",
              "      <td>NaN</td>\n",
              "      <td>NaT</td>\n",
              "      <td>NaT</td>\n",
              "      <td>1.09474</td>\n",
              "      <td>0.730141</td>\n",
              "      <td>1</td>\n",
              "      <td>1</td>\n",
              "      <td>1</td>\n",
              "      <td>1</td>\n",
              "      <td>29</td>\n",
              "    </tr>\n",
              "    <tr>\n",
              "      <th>payment_type</th>\n",
              "      <td>119140</td>\n",
              "      <td>5</td>\n",
              "      <td>credit_card</td>\n",
              "      <td>87776</td>\n",
              "      <td>NaT</td>\n",
              "      <td>NaT</td>\n",
              "      <td>NaN</td>\n",
              "      <td>NaN</td>\n",
              "      <td>NaN</td>\n",
              "      <td>NaN</td>\n",
              "      <td>NaN</td>\n",
              "      <td>NaN</td>\n",
              "      <td>NaN</td>\n",
              "    </tr>\n",
              "    <tr>\n",
              "      <th>payment_installments</th>\n",
              "      <td>119140</td>\n",
              "      <td>NaN</td>\n",
              "      <td>NaN</td>\n",
              "      <td>NaN</td>\n",
              "      <td>NaT</td>\n",
              "      <td>NaT</td>\n",
              "      <td>2.94125</td>\n",
              "      <td>2.77785</td>\n",
              "      <td>0</td>\n",
              "      <td>1</td>\n",
              "      <td>2</td>\n",
              "      <td>4</td>\n",
              "      <td>24</td>\n",
              "    </tr>\n",
              "    <tr>\n",
              "      <th>payment_value</th>\n",
              "      <td>119140</td>\n",
              "      <td>NaN</td>\n",
              "      <td>NaN</td>\n",
              "      <td>NaN</td>\n",
              "      <td>NaT</td>\n",
              "      <td>NaT</td>\n",
              "      <td>172.735</td>\n",
              "      <td>267.776</td>\n",
              "      <td>0</td>\n",
              "      <td>60.85</td>\n",
              "      <td>108.16</td>\n",
              "      <td>189.24</td>\n",
              "      <td>13664.1</td>\n",
              "    </tr>\n",
              "    <tr>\n",
              "      <th>review_id</th>\n",
              "      <td>118146</td>\n",
              "      <td>98410</td>\n",
              "      <td>eef5dbca8d37dfce6db7d7b16dd0525e</td>\n",
              "      <td>63</td>\n",
              "      <td>NaT</td>\n",
              "      <td>NaT</td>\n",
              "      <td>NaN</td>\n",
              "      <td>NaN</td>\n",
              "      <td>NaN</td>\n",
              "      <td>NaN</td>\n",
              "      <td>NaN</td>\n",
              "      <td>NaN</td>\n",
              "      <td>NaN</td>\n",
              "    </tr>\n",
              "    <tr>\n",
              "      <th>review_score</th>\n",
              "      <td>118146</td>\n",
              "      <td>NaN</td>\n",
              "      <td>NaN</td>\n",
              "      <td>NaN</td>\n",
              "      <td>NaT</td>\n",
              "      <td>NaT</td>\n",
              "      <td>4.01558</td>\n",
              "      <td>1.40044</td>\n",
              "      <td>1</td>\n",
              "      <td>4</td>\n",
              "      <td>5</td>\n",
              "      <td>5</td>\n",
              "      <td>5</td>\n",
              "    </tr>\n",
              "    <tr>\n",
              "      <th>review_comment_title</th>\n",
              "      <td>13989</td>\n",
              "      <td>4527</td>\n",
              "      <td>Recomendo</td>\n",
              "      <td>494</td>\n",
              "      <td>NaT</td>\n",
              "      <td>NaT</td>\n",
              "      <td>NaN</td>\n",
              "      <td>NaN</td>\n",
              "      <td>NaN</td>\n",
              "      <td>NaN</td>\n",
              "      <td>NaN</td>\n",
              "      <td>NaN</td>\n",
              "      <td>NaN</td>\n",
              "    </tr>\n",
              "    <tr>\n",
              "      <th>review_comment_message</th>\n",
              "      <td>50245</td>\n",
              "      <td>36159</td>\n",
              "      <td>Muito bom</td>\n",
              "      <td>259</td>\n",
              "      <td>NaT</td>\n",
              "      <td>NaT</td>\n",
              "      <td>NaN</td>\n",
              "      <td>NaN</td>\n",
              "      <td>NaN</td>\n",
              "      <td>NaN</td>\n",
              "      <td>NaN</td>\n",
              "      <td>NaN</td>\n",
              "      <td>NaN</td>\n",
              "    </tr>\n",
              "    <tr>\n",
              "      <th>review_creation_date</th>\n",
              "      <td>118146</td>\n",
              "      <td>636</td>\n",
              "      <td>2017-12-19 00:00:00</td>\n",
              "      <td>547</td>\n",
              "      <td>NaT</td>\n",
              "      <td>NaT</td>\n",
              "      <td>NaN</td>\n",
              "      <td>NaN</td>\n",
              "      <td>NaN</td>\n",
              "      <td>NaN</td>\n",
              "      <td>NaN</td>\n",
              "      <td>NaN</td>\n",
              "      <td>NaN</td>\n",
              "    </tr>\n",
              "    <tr>\n",
              "      <th>review_answer_timestamp</th>\n",
              "      <td>118146</td>\n",
              "      <td>98248</td>\n",
              "      <td>2017-08-17 22:17:55</td>\n",
              "      <td>63</td>\n",
              "      <td>NaT</td>\n",
              "      <td>NaT</td>\n",
              "      <td>NaN</td>\n",
              "      <td>NaN</td>\n",
              "      <td>NaN</td>\n",
              "      <td>NaN</td>\n",
              "      <td>NaN</td>\n",
              "      <td>NaN</td>\n",
              "      <td>NaN</td>\n",
              "    </tr>\n",
              "    <tr>\n",
              "      <th>product_name_len</th>\n",
              "      <td>116600</td>\n",
              "      <td>NaN</td>\n",
              "      <td>NaN</td>\n",
              "      <td>NaN</td>\n",
              "      <td>NaT</td>\n",
              "      <td>NaT</td>\n",
              "      <td>48.7674</td>\n",
              "      <td>10.0335</td>\n",
              "      <td>5</td>\n",
              "      <td>42</td>\n",
              "      <td>52</td>\n",
              "      <td>57</td>\n",
              "      <td>76</td>\n",
              "    </tr>\n",
              "    <tr>\n",
              "      <th>product_description_len</th>\n",
              "      <td>116600</td>\n",
              "      <td>NaN</td>\n",
              "      <td>NaN</td>\n",
              "      <td>NaN</td>\n",
              "      <td>NaT</td>\n",
              "      <td>NaT</td>\n",
              "      <td>785.967</td>\n",
              "      <td>652.587</td>\n",
              "      <td>4</td>\n",
              "      <td>346</td>\n",
              "      <td>600</td>\n",
              "      <td>983.25</td>\n",
              "      <td>3992</td>\n",
              "    </tr>\n",
              "    <tr>\n",
              "      <th>product_photos_qty</th>\n",
              "      <td>116600</td>\n",
              "      <td>NaN</td>\n",
              "      <td>NaN</td>\n",
              "      <td>NaN</td>\n",
              "      <td>NaT</td>\n",
              "      <td>NaT</td>\n",
              "      <td>2.20515</td>\n",
              "      <td>1.71746</td>\n",
              "      <td>1</td>\n",
              "      <td>1</td>\n",
              "      <td>1</td>\n",
              "      <td>3</td>\n",
              "      <td>20</td>\n",
              "    </tr>\n",
              "    <tr>\n",
              "      <th>product_weight_g</th>\n",
              "      <td>118290</td>\n",
              "      <td>NaN</td>\n",
              "      <td>NaN</td>\n",
              "      <td>NaN</td>\n",
              "      <td>NaT</td>\n",
              "      <td>NaT</td>\n",
              "      <td>2112.25</td>\n",
              "      <td>3786.7</td>\n",
              "      <td>0</td>\n",
              "      <td>300</td>\n",
              "      <td>700</td>\n",
              "      <td>1800</td>\n",
              "      <td>40425</td>\n",
              "    </tr>\n",
              "    <tr>\n",
              "      <th>product_length_cm</th>\n",
              "      <td>118290</td>\n",
              "      <td>NaN</td>\n",
              "      <td>NaN</td>\n",
              "      <td>NaN</td>\n",
              "      <td>NaT</td>\n",
              "      <td>NaT</td>\n",
              "      <td>30.2651</td>\n",
              "      <td>16.1894</td>\n",
              "      <td>7</td>\n",
              "      <td>18</td>\n",
              "      <td>25</td>\n",
              "      <td>38</td>\n",
              "      <td>105</td>\n",
              "    </tr>\n",
              "    <tr>\n",
              "      <th>product_height_cm</th>\n",
              "      <td>118290</td>\n",
              "      <td>NaN</td>\n",
              "      <td>NaN</td>\n",
              "      <td>NaN</td>\n",
              "      <td>NaT</td>\n",
              "      <td>NaT</td>\n",
              "      <td>16.6197</td>\n",
              "      <td>13.4536</td>\n",
              "      <td>2</td>\n",
              "      <td>8</td>\n",
              "      <td>13</td>\n",
              "      <td>20</td>\n",
              "      <td>105</td>\n",
              "    </tr>\n",
              "    <tr>\n",
              "      <th>product_width_cm</th>\n",
              "      <td>118290</td>\n",
              "      <td>NaN</td>\n",
              "      <td>NaN</td>\n",
              "      <td>NaN</td>\n",
              "      <td>NaT</td>\n",
              "      <td>NaT</td>\n",
              "      <td>23.0748</td>\n",
              "      <td>11.7491</td>\n",
              "      <td>6</td>\n",
              "      <td>15</td>\n",
              "      <td>20</td>\n",
              "      <td>30</td>\n",
              "      <td>118</td>\n",
              "    </tr>\n",
              "    <tr>\n",
              "      <th>product_category_name_english</th>\n",
              "      <td>116575</td>\n",
              "      <td>71</td>\n",
              "      <td>bed_bath_table</td>\n",
              "      <td>11988</td>\n",
              "      <td>NaT</td>\n",
              "      <td>NaT</td>\n",
              "      <td>NaN</td>\n",
              "      <td>NaN</td>\n",
              "      <td>NaN</td>\n",
              "      <td>NaN</td>\n",
              "      <td>NaN</td>\n",
              "      <td>NaN</td>\n",
              "      <td>NaN</td>\n",
              "    </tr>\n",
              "    <tr>\n",
              "      <th>customer_unique_id</th>\n",
              "      <td>119143</td>\n",
              "      <td>96096</td>\n",
              "      <td>9a736b248f67d166d2fbb006bcb877c3</td>\n",
              "      <td>75</td>\n",
              "      <td>NaT</td>\n",
              "      <td>NaT</td>\n",
              "      <td>NaN</td>\n",
              "      <td>NaN</td>\n",
              "      <td>NaN</td>\n",
              "      <td>NaN</td>\n",
              "      <td>NaN</td>\n",
              "      <td>NaN</td>\n",
              "      <td>NaN</td>\n",
              "    </tr>\n",
              "    <tr>\n",
              "      <th>customer_zip_code_prefix</th>\n",
              "      <td>119143</td>\n",
              "      <td>NaN</td>\n",
              "      <td>NaN</td>\n",
              "      <td>NaN</td>\n",
              "      <td>NaT</td>\n",
              "      <td>NaT</td>\n",
              "      <td>35033.5</td>\n",
              "      <td>29823.2</td>\n",
              "      <td>1003</td>\n",
              "      <td>11250</td>\n",
              "      <td>24240</td>\n",
              "      <td>58475</td>\n",
              "      <td>99990</td>\n",
              "    </tr>\n",
              "    <tr>\n",
              "      <th>customer_city</th>\n",
              "      <td>119143</td>\n",
              "      <td>4119</td>\n",
              "      <td>sao paulo</td>\n",
              "      <td>18875</td>\n",
              "      <td>NaT</td>\n",
              "      <td>NaT</td>\n",
              "      <td>NaN</td>\n",
              "      <td>NaN</td>\n",
              "      <td>NaN</td>\n",
              "      <td>NaN</td>\n",
              "      <td>NaN</td>\n",
              "      <td>NaN</td>\n",
              "      <td>NaN</td>\n",
              "    </tr>\n",
              "    <tr>\n",
              "      <th>customer_state</th>\n",
              "      <td>119143</td>\n",
              "      <td>27</td>\n",
              "      <td>SP</td>\n",
              "      <td>50265</td>\n",
              "      <td>NaT</td>\n",
              "      <td>NaT</td>\n",
              "      <td>NaN</td>\n",
              "      <td>NaN</td>\n",
              "      <td>NaN</td>\n",
              "      <td>NaN</td>\n",
              "      <td>NaN</td>\n",
              "      <td>NaN</td>\n",
              "      <td>NaN</td>\n",
              "    </tr>\n",
              "    <tr>\n",
              "      <th>seller_zip_code_prefix</th>\n",
              "      <td>118310</td>\n",
              "      <td>NaN</td>\n",
              "      <td>NaN</td>\n",
              "      <td>NaN</td>\n",
              "      <td>NaT</td>\n",
              "      <td>NaT</td>\n",
              "      <td>24442.4</td>\n",
              "      <td>27573</td>\n",
              "      <td>1001</td>\n",
              "      <td>6429</td>\n",
              "      <td>13660</td>\n",
              "      <td>27972</td>\n",
              "      <td>99730</td>\n",
              "    </tr>\n",
              "    <tr>\n",
              "      <th>seller_city</th>\n",
              "      <td>118310</td>\n",
              "      <td>611</td>\n",
              "      <td>sao paulo</td>\n",
              "      <td>29293</td>\n",
              "      <td>NaT</td>\n",
              "      <td>NaT</td>\n",
              "      <td>NaN</td>\n",
              "      <td>NaN</td>\n",
              "      <td>NaN</td>\n",
              "      <td>NaN</td>\n",
              "      <td>NaN</td>\n",
              "      <td>NaN</td>\n",
              "      <td>NaN</td>\n",
              "    </tr>\n",
              "    <tr>\n",
              "      <th>seller_state</th>\n",
              "      <td>118310</td>\n",
              "      <td>23</td>\n",
              "      <td>SP</td>\n",
              "      <td>84377</td>\n",
              "      <td>NaT</td>\n",
              "      <td>NaT</td>\n",
              "      <td>NaN</td>\n",
              "      <td>NaN</td>\n",
              "      <td>NaN</td>\n",
              "      <td>NaN</td>\n",
              "      <td>NaN</td>\n",
              "      <td>NaN</td>\n",
              "      <td>NaN</td>\n",
              "    </tr>\n",
              "    <tr>\n",
              "      <th>total_payment</th>\n",
              "      <td>119140</td>\n",
              "      <td>NaN</td>\n",
              "      <td>NaN</td>\n",
              "      <td>NaN</td>\n",
              "      <td>NaT</td>\n",
              "      <td>NaT</td>\n",
              "      <td>711.605</td>\n",
              "      <td>1799.8</td>\n",
              "      <td>0</td>\n",
              "      <td>76.37</td>\n",
              "      <td>193.675</td>\n",
              "      <td>583.92</td>\n",
              "      <td>55434.5</td>\n",
              "    </tr>\n",
              "  </tbody>\n",
              "</table>\n",
              "</div>"
            ],
            "text/plain": [
              "                                count unique  ...     75%      max\n",
              "order_id                       119143  99441  ...     NaN      NaN\n",
              "customer_id                    119143  99441  ...     NaN      NaN\n",
              "order_status                   119143      8  ...     NaN      NaN\n",
              "order_purchase_timestamp       119143  98875  ...     NaN      NaN\n",
              "order_approved_at              119143  90893  ...     NaN      NaN\n",
              "order_delivered_carrier_date   119143  82794  ...     NaN      NaN\n",
              "order_delivered_customer_date  119143  96088  ...     NaN      NaN\n",
              "order_estimated_delivery_date  119143    459  ...     NaN      NaN\n",
              "order_item_id                  118310    NaN  ...       1       21\n",
              "product_id                     118310  32951  ...     NaN      NaN\n",
              "seller_id                      118310   3095  ...     NaN      NaN\n",
              "shipping_limit_date            118310  93318  ...     NaN      NaN\n",
              "price                          118310    NaN  ...   134.9     6735\n",
              "freight_value                  118310    NaN  ...   21.18   409.68\n",
              "payment_sequential             119140    NaN  ...       1       29\n",
              "payment_type                   119140      5  ...     NaN      NaN\n",
              "payment_installments           119140    NaN  ...       4       24\n",
              "payment_value                  119140    NaN  ...  189.24  13664.1\n",
              "review_id                      118146  98410  ...     NaN      NaN\n",
              "review_score                   118146    NaN  ...       5        5\n",
              "review_comment_title            13989   4527  ...     NaN      NaN\n",
              "review_comment_message          50245  36159  ...     NaN      NaN\n",
              "review_creation_date           118146    636  ...     NaN      NaN\n",
              "review_answer_timestamp        118146  98248  ...     NaN      NaN\n",
              "product_name_len               116600    NaN  ...      57       76\n",
              "product_description_len        116600    NaN  ...  983.25     3992\n",
              "product_photos_qty             116600    NaN  ...       3       20\n",
              "product_weight_g               118290    NaN  ...    1800    40425\n",
              "product_length_cm              118290    NaN  ...      38      105\n",
              "product_height_cm              118290    NaN  ...      20      105\n",
              "product_width_cm               118290    NaN  ...      30      118\n",
              "product_category_name_english  116575     71  ...     NaN      NaN\n",
              "customer_unique_id             119143  96096  ...     NaN      NaN\n",
              "customer_zip_code_prefix       119143    NaN  ...   58475    99990\n",
              "customer_city                  119143   4119  ...     NaN      NaN\n",
              "customer_state                 119143     27  ...     NaN      NaN\n",
              "seller_zip_code_prefix         118310    NaN  ...   27972    99730\n",
              "seller_city                    118310    611  ...     NaN      NaN\n",
              "seller_state                   118310     23  ...     NaN      NaN\n",
              "total_payment                  119140    NaN  ...  583.92  55434.5\n",
              "\n",
              "[40 rows x 13 columns]"
            ]
          },
          "metadata": {},
          "execution_count": 39
        }
      ]
    },
    {
      "cell_type": "markdown",
      "metadata": {
        "id": "6985IS1UUiGk"
      },
      "source": [
        "# Analysis based on customer "
      ]
    },
    {
      "cell_type": "code",
      "metadata": {
        "colab": {
          "base_uri": "https://localhost:8080/"
        },
        "id": "giNKr9ZpUiGk",
        "outputId": "c64c091a-1bd4-497a-c25c-519e5432fa5d"
      },
      "source": [
        "customers.info()"
      ],
      "execution_count": 40,
      "outputs": [
        {
          "output_type": "stream",
          "name": "stdout",
          "text": [
            "<class 'pandas.core.frame.DataFrame'>\n",
            "RangeIndex: 99441 entries, 0 to 99440\n",
            "Data columns (total 5 columns):\n",
            " #   Column                    Non-Null Count  Dtype \n",
            "---  ------                    --------------  ----- \n",
            " 0   customer_id               99441 non-null  object\n",
            " 1   customer_unique_id        99441 non-null  object\n",
            " 2   customer_zip_code_prefix  99441 non-null  int64 \n",
            " 3   customer_city             99441 non-null  object\n",
            " 4   customer_state            99441 non-null  object\n",
            "dtypes: int64(1), object(4)\n",
            "memory usage: 3.8+ MB\n"
          ]
        }
      ]
    },
    {
      "cell_type": "code",
      "metadata": {
        "colab": {
          "base_uri": "https://localhost:8080/",
          "height": 226
        },
        "id": "zPKmiPZHUiGl",
        "outputId": "2bab16a1-01ce-43a0-b4cc-fe7466c85b07"
      },
      "source": [
        "customers.describe(include='all').T"
      ],
      "execution_count": 41,
      "outputs": [
        {
          "output_type": "execute_result",
          "data": {
            "text/html": [
              "<div>\n",
              "<style scoped>\n",
              "    .dataframe tbody tr th:only-of-type {\n",
              "        vertical-align: middle;\n",
              "    }\n",
              "\n",
              "    .dataframe tbody tr th {\n",
              "        vertical-align: top;\n",
              "    }\n",
              "\n",
              "    .dataframe thead th {\n",
              "        text-align: right;\n",
              "    }\n",
              "</style>\n",
              "<table border=\"1\" class=\"dataframe\">\n",
              "  <thead>\n",
              "    <tr style=\"text-align: right;\">\n",
              "      <th></th>\n",
              "      <th>count</th>\n",
              "      <th>unique</th>\n",
              "      <th>top</th>\n",
              "      <th>freq</th>\n",
              "      <th>mean</th>\n",
              "      <th>std</th>\n",
              "      <th>min</th>\n",
              "      <th>25%</th>\n",
              "      <th>50%</th>\n",
              "      <th>75%</th>\n",
              "      <th>max</th>\n",
              "    </tr>\n",
              "  </thead>\n",
              "  <tbody>\n",
              "    <tr>\n",
              "      <th>customer_id</th>\n",
              "      <td>99441</td>\n",
              "      <td>99441</td>\n",
              "      <td>e73b0f49d0f8244b5fc363b88584ec43</td>\n",
              "      <td>1</td>\n",
              "      <td>NaN</td>\n",
              "      <td>NaN</td>\n",
              "      <td>NaN</td>\n",
              "      <td>NaN</td>\n",
              "      <td>NaN</td>\n",
              "      <td>NaN</td>\n",
              "      <td>NaN</td>\n",
              "    </tr>\n",
              "    <tr>\n",
              "      <th>customer_unique_id</th>\n",
              "      <td>99441</td>\n",
              "      <td>96096</td>\n",
              "      <td>8d50f5eadf50201ccdcedfb9e2ac8455</td>\n",
              "      <td>17</td>\n",
              "      <td>NaN</td>\n",
              "      <td>NaN</td>\n",
              "      <td>NaN</td>\n",
              "      <td>NaN</td>\n",
              "      <td>NaN</td>\n",
              "      <td>NaN</td>\n",
              "      <td>NaN</td>\n",
              "    </tr>\n",
              "    <tr>\n",
              "      <th>customer_zip_code_prefix</th>\n",
              "      <td>99441</td>\n",
              "      <td>NaN</td>\n",
              "      <td>NaN</td>\n",
              "      <td>NaN</td>\n",
              "      <td>35137.5</td>\n",
              "      <td>29797.9</td>\n",
              "      <td>1003</td>\n",
              "      <td>11347</td>\n",
              "      <td>24416</td>\n",
              "      <td>58900</td>\n",
              "      <td>99990</td>\n",
              "    </tr>\n",
              "    <tr>\n",
              "      <th>customer_city</th>\n",
              "      <td>99441</td>\n",
              "      <td>4119</td>\n",
              "      <td>sao paulo</td>\n",
              "      <td>15540</td>\n",
              "      <td>NaN</td>\n",
              "      <td>NaN</td>\n",
              "      <td>NaN</td>\n",
              "      <td>NaN</td>\n",
              "      <td>NaN</td>\n",
              "      <td>NaN</td>\n",
              "      <td>NaN</td>\n",
              "    </tr>\n",
              "    <tr>\n",
              "      <th>customer_state</th>\n",
              "      <td>99441</td>\n",
              "      <td>27</td>\n",
              "      <td>SP</td>\n",
              "      <td>41746</td>\n",
              "      <td>NaN</td>\n",
              "      <td>NaN</td>\n",
              "      <td>NaN</td>\n",
              "      <td>NaN</td>\n",
              "      <td>NaN</td>\n",
              "      <td>NaN</td>\n",
              "      <td>NaN</td>\n",
              "    </tr>\n",
              "  </tbody>\n",
              "</table>\n",
              "</div>"
            ],
            "text/plain": [
              "                          count unique  ...    75%    max\n",
              "customer_id               99441  99441  ...    NaN    NaN\n",
              "customer_unique_id        99441  96096  ...    NaN    NaN\n",
              "customer_zip_code_prefix  99441    NaN  ...  58900  99990\n",
              "customer_city             99441   4119  ...    NaN    NaN\n",
              "customer_state            99441     27  ...    NaN    NaN\n",
              "\n",
              "[5 rows x 11 columns]"
            ]
          },
          "metadata": {},
          "execution_count": 41
        }
      ]
    },
    {
      "cell_type": "code",
      "metadata": {
        "colab": {
          "base_uri": "https://localhost:8080/",
          "height": 206
        },
        "id": "ObPIOZq-UiGl",
        "outputId": "7ad94d1e-5e13-4de3-e31e-25da00dbcd65"
      },
      "source": [
        "cust1 = customers[['customer_id', 'customer_unique_id']]\n",
        "cust1.head()"
      ],
      "execution_count": 42,
      "outputs": [
        {
          "output_type": "execute_result",
          "data": {
            "text/html": [
              "<div>\n",
              "<style scoped>\n",
              "    .dataframe tbody tr th:only-of-type {\n",
              "        vertical-align: middle;\n",
              "    }\n",
              "\n",
              "    .dataframe tbody tr th {\n",
              "        vertical-align: top;\n",
              "    }\n",
              "\n",
              "    .dataframe thead th {\n",
              "        text-align: right;\n",
              "    }\n",
              "</style>\n",
              "<table border=\"1\" class=\"dataframe\">\n",
              "  <thead>\n",
              "    <tr style=\"text-align: right;\">\n",
              "      <th></th>\n",
              "      <th>customer_id</th>\n",
              "      <th>customer_unique_id</th>\n",
              "    </tr>\n",
              "  </thead>\n",
              "  <tbody>\n",
              "    <tr>\n",
              "      <th>0</th>\n",
              "      <td>06b8999e2fba1a1fbc88172c00ba8bc7</td>\n",
              "      <td>861eff4711a542e4b93843c6dd7febb0</td>\n",
              "    </tr>\n",
              "    <tr>\n",
              "      <th>1</th>\n",
              "      <td>18955e83d337fd6b2def6b18a428ac77</td>\n",
              "      <td>290c77bc529b7ac935b93aa66c333dc3</td>\n",
              "    </tr>\n",
              "    <tr>\n",
              "      <th>2</th>\n",
              "      <td>4e7b3e00288586ebd08712fdd0374a03</td>\n",
              "      <td>060e732b5b29e8181a18229c7b0b2b5e</td>\n",
              "    </tr>\n",
              "    <tr>\n",
              "      <th>3</th>\n",
              "      <td>b2b6027bc5c5109e529d4dc6358b12c3</td>\n",
              "      <td>259dac757896d24d7702b9acbbff3f3c</td>\n",
              "    </tr>\n",
              "    <tr>\n",
              "      <th>4</th>\n",
              "      <td>4f2d8ab171c80ec8364f7c12e35b23ad</td>\n",
              "      <td>345ecd01c38d18a9036ed96c73b8d066</td>\n",
              "    </tr>\n",
              "  </tbody>\n",
              "</table>\n",
              "</div>"
            ],
            "text/plain": [
              "                        customer_id                customer_unique_id\n",
              "0  06b8999e2fba1a1fbc88172c00ba8bc7  861eff4711a542e4b93843c6dd7febb0\n",
              "1  18955e83d337fd6b2def6b18a428ac77  290c77bc529b7ac935b93aa66c333dc3\n",
              "2  4e7b3e00288586ebd08712fdd0374a03  060e732b5b29e8181a18229c7b0b2b5e\n",
              "3  b2b6027bc5c5109e529d4dc6358b12c3  259dac757896d24d7702b9acbbff3f3c\n",
              "4  4f2d8ab171c80ec8364f7c12e35b23ad  345ecd01c38d18a9036ed96c73b8d066"
            ]
          },
          "metadata": {},
          "execution_count": 42
        }
      ]
    },
    {
      "cell_type": "code",
      "metadata": {
        "colab": {
          "base_uri": "https://localhost:8080/"
        },
        "id": "P38J6EdzUiGl",
        "outputId": "d50e3077-d19e-4b4c-8e77-b61bee3ed866"
      },
      "source": [
        "cust1.groupby('customer_unique_id').size().value_counts()"
      ],
      "execution_count": 43,
      "outputs": [
        {
          "output_type": "execute_result",
          "data": {
            "text/plain": [
              "1     93099\n",
              "2      2745\n",
              "3       203\n",
              "4        30\n",
              "5         8\n",
              "6         6\n",
              "7         3\n",
              "17        1\n",
              "9         1\n",
              "dtype: int64"
            ]
          },
          "metadata": {},
          "execution_count": 43
        }
      ]
    },
    {
      "cell_type": "markdown",
      "metadata": {
        "id": "cc9pjMPBUiGl"
      },
      "source": [
        "Majority of the customer made single purchase."
      ]
    },
    {
      "cell_type": "code",
      "metadata": {
        "colab": {
          "base_uri": "https://localhost:8080/"
        },
        "id": "ZyqSl2D8UiGm",
        "outputId": "e2e67af4-8a3a-48e9-cb22-738a64ff7688"
      },
      "source": [
        "orders.info()"
      ],
      "execution_count": 44,
      "outputs": [
        {
          "output_type": "stream",
          "name": "stdout",
          "text": [
            "<class 'pandas.core.frame.DataFrame'>\n",
            "RangeIndex: 99441 entries, 0 to 99440\n",
            "Data columns (total 8 columns):\n",
            " #   Column                         Non-Null Count  Dtype         \n",
            "---  ------                         --------------  -----         \n",
            " 0   order_id                       99441 non-null  object        \n",
            " 1   customer_id                    99441 non-null  object        \n",
            " 2   order_status                   99441 non-null  object        \n",
            " 3   order_purchase_timestamp       99441 non-null  datetime64[ns]\n",
            " 4   order_approved_at              99441 non-null  object        \n",
            " 5   order_delivered_carrier_date   99441 non-null  object        \n",
            " 6   order_delivered_customer_date  99441 non-null  object        \n",
            " 7   order_estimated_delivery_date  99441 non-null  object        \n",
            "dtypes: datetime64[ns](1), object(7)\n",
            "memory usage: 6.1+ MB\n"
          ]
        }
      ]
    },
    {
      "cell_type": "code",
      "metadata": {
        "colab": {
          "base_uri": "https://localhost:8080/",
          "height": 300
        },
        "id": "GJmd7q91UiGm",
        "outputId": "138595d4-f387-44ac-abb2-de35be99ce61"
      },
      "source": [
        "orders.describe(include='all').T"
      ],
      "execution_count": 45,
      "outputs": [
        {
          "output_type": "execute_result",
          "data": {
            "text/html": [
              "<div>\n",
              "<style scoped>\n",
              "    .dataframe tbody tr th:only-of-type {\n",
              "        vertical-align: middle;\n",
              "    }\n",
              "\n",
              "    .dataframe tbody tr th {\n",
              "        vertical-align: top;\n",
              "    }\n",
              "\n",
              "    .dataframe thead th {\n",
              "        text-align: right;\n",
              "    }\n",
              "</style>\n",
              "<table border=\"1\" class=\"dataframe\">\n",
              "  <thead>\n",
              "    <tr style=\"text-align: right;\">\n",
              "      <th></th>\n",
              "      <th>count</th>\n",
              "      <th>unique</th>\n",
              "      <th>top</th>\n",
              "      <th>freq</th>\n",
              "      <th>first</th>\n",
              "      <th>last</th>\n",
              "    </tr>\n",
              "  </thead>\n",
              "  <tbody>\n",
              "    <tr>\n",
              "      <th>order_id</th>\n",
              "      <td>99441</td>\n",
              "      <td>99441</td>\n",
              "      <td>74dd410abd613e48dcee781aeb269181</td>\n",
              "      <td>1</td>\n",
              "      <td>NaT</td>\n",
              "      <td>NaT</td>\n",
              "    </tr>\n",
              "    <tr>\n",
              "      <th>customer_id</th>\n",
              "      <td>99441</td>\n",
              "      <td>99441</td>\n",
              "      <td>b34c248b00a925d02d3d4a1c5877e482</td>\n",
              "      <td>1</td>\n",
              "      <td>NaT</td>\n",
              "      <td>NaT</td>\n",
              "    </tr>\n",
              "    <tr>\n",
              "      <th>order_status</th>\n",
              "      <td>99441</td>\n",
              "      <td>8</td>\n",
              "      <td>delivered</td>\n",
              "      <td>96478</td>\n",
              "      <td>NaT</td>\n",
              "      <td>NaT</td>\n",
              "    </tr>\n",
              "    <tr>\n",
              "      <th>order_purchase_timestamp</th>\n",
              "      <td>99441</td>\n",
              "      <td>98875</td>\n",
              "      <td>2018-03-31 15:08:21</td>\n",
              "      <td>3</td>\n",
              "      <td>2016-09-04 21:15:19</td>\n",
              "      <td>2018-10-17 17:30:18</td>\n",
              "    </tr>\n",
              "    <tr>\n",
              "      <th>order_approved_at</th>\n",
              "      <td>99441</td>\n",
              "      <td>90893</td>\n",
              "      <td>2018-02-27 04:31:10</td>\n",
              "      <td>9</td>\n",
              "      <td>NaT</td>\n",
              "      <td>NaT</td>\n",
              "    </tr>\n",
              "    <tr>\n",
              "      <th>order_delivered_carrier_date</th>\n",
              "      <td>99441</td>\n",
              "      <td>82794</td>\n",
              "      <td>2018-05-09 15:48:00</td>\n",
              "      <td>47</td>\n",
              "      <td>NaT</td>\n",
              "      <td>NaT</td>\n",
              "    </tr>\n",
              "    <tr>\n",
              "      <th>order_delivered_customer_date</th>\n",
              "      <td>99441</td>\n",
              "      <td>96088</td>\n",
              "      <td>2018-02-06 00:00:00</td>\n",
              "      <td>20</td>\n",
              "      <td>NaT</td>\n",
              "      <td>NaT</td>\n",
              "    </tr>\n",
              "    <tr>\n",
              "      <th>order_estimated_delivery_date</th>\n",
              "      <td>99441</td>\n",
              "      <td>459</td>\n",
              "      <td>2017-12-20 00:00:00</td>\n",
              "      <td>522</td>\n",
              "      <td>NaT</td>\n",
              "      <td>NaT</td>\n",
              "    </tr>\n",
              "  </tbody>\n",
              "</table>\n",
              "</div>"
            ],
            "text/plain": [
              "                               count  ...                last\n",
              "order_id                       99441  ...                 NaT\n",
              "customer_id                    99441  ...                 NaT\n",
              "order_status                   99441  ...                 NaT\n",
              "order_purchase_timestamp       99441  ... 2018-10-17 17:30:18\n",
              "order_approved_at              99441  ...                 NaT\n",
              "order_delivered_carrier_date   99441  ...                 NaT\n",
              "order_delivered_customer_date  99441  ...                 NaT\n",
              "order_estimated_delivery_date  99441  ...                 NaT\n",
              "\n",
              "[8 rows x 6 columns]"
            ]
          },
          "metadata": {},
          "execution_count": 45
        }
      ]
    },
    {
      "cell_type": "markdown",
      "metadata": {
        "id": "8Rc1v0USUiGm"
      },
      "source": [
        "Filter orders by order_status. Here we will exclude orders with 'canceled' as order_status. We have to consider fraud in real live situation. Since we don't have much information about the status in this dataset, we are going to be inclusive about the orders.\n",
        "\n",
        "We will use order_purchase_timestamp as date"
      ]
    },
    {
      "cell_type": "code",
      "metadata": {
        "colab": {
          "base_uri": "https://localhost:8080/"
        },
        "id": "4v-xu6S3UiGm",
        "outputId": "32c5fd6a-c609-4d2b-feb3-bf3a2db27f7a"
      },
      "source": [
        "orders['order_status'].unique()"
      ],
      "execution_count": 46,
      "outputs": [
        {
          "output_type": "execute_result",
          "data": {
            "text/plain": [
              "array(['delivered', 'invoiced', 'shipped', 'processing', 'unavailable',\n",
              "       'canceled', 'created', 'approved'], dtype=object)"
            ]
          },
          "metadata": {},
          "execution_count": 46
        }
      ]
    },
    {
      "cell_type": "code",
      "metadata": {
        "id": "2v1KsPiJUiGn"
      },
      "source": [
        "orders = orders[orders.order_status != 'canceled']\n",
        "orders['date'] = pd.to_datetime(orders['order_purchase_timestamp']).dt.date"
      ],
      "execution_count": 47,
      "outputs": []
    },
    {
      "cell_type": "code",
      "metadata": {
        "colab": {
          "base_uri": "https://localhost:8080/",
          "height": 206
        },
        "id": "XfIB9ZTCUiGn",
        "outputId": "71943915-6b27-4fee-e4a7-6f7507ecaad2"
      },
      "source": [
        "order1 = orders[['order_id', 'customer_id','date']]\n",
        "order1.head()"
      ],
      "execution_count": 48,
      "outputs": [
        {
          "output_type": "execute_result",
          "data": {
            "text/html": [
              "<div>\n",
              "<style scoped>\n",
              "    .dataframe tbody tr th:only-of-type {\n",
              "        vertical-align: middle;\n",
              "    }\n",
              "\n",
              "    .dataframe tbody tr th {\n",
              "        vertical-align: top;\n",
              "    }\n",
              "\n",
              "    .dataframe thead th {\n",
              "        text-align: right;\n",
              "    }\n",
              "</style>\n",
              "<table border=\"1\" class=\"dataframe\">\n",
              "  <thead>\n",
              "    <tr style=\"text-align: right;\">\n",
              "      <th></th>\n",
              "      <th>order_id</th>\n",
              "      <th>customer_id</th>\n",
              "      <th>date</th>\n",
              "    </tr>\n",
              "  </thead>\n",
              "  <tbody>\n",
              "    <tr>\n",
              "      <th>0</th>\n",
              "      <td>e481f51cbdc54678b7cc49136f2d6af7</td>\n",
              "      <td>9ef432eb6251297304e76186b10a928d</td>\n",
              "      <td>2017-10-02</td>\n",
              "    </tr>\n",
              "    <tr>\n",
              "      <th>1</th>\n",
              "      <td>53cdb2fc8bc7dce0b6741e2150273451</td>\n",
              "      <td>b0830fb4747a6c6d20dea0b8c802d7ef</td>\n",
              "      <td>2018-07-24</td>\n",
              "    </tr>\n",
              "    <tr>\n",
              "      <th>2</th>\n",
              "      <td>47770eb9100c2d0c44946d9cf07ec65d</td>\n",
              "      <td>41ce2a54c0b03bf3443c3d931a367089</td>\n",
              "      <td>2018-08-08</td>\n",
              "    </tr>\n",
              "    <tr>\n",
              "      <th>3</th>\n",
              "      <td>949d5b44dbf5de918fe9c16f97b45f8a</td>\n",
              "      <td>f88197465ea7920adcdbec7375364d82</td>\n",
              "      <td>2017-11-18</td>\n",
              "    </tr>\n",
              "    <tr>\n",
              "      <th>4</th>\n",
              "      <td>ad21c59c0840e6cb83a9ceb5573f8159</td>\n",
              "      <td>8ab97904e6daea8866dbdbc4fb7aad2c</td>\n",
              "      <td>2018-02-13</td>\n",
              "    </tr>\n",
              "  </tbody>\n",
              "</table>\n",
              "</div>"
            ],
            "text/plain": [
              "                           order_id  ...        date\n",
              "0  e481f51cbdc54678b7cc49136f2d6af7  ...  2017-10-02\n",
              "1  53cdb2fc8bc7dce0b6741e2150273451  ...  2018-07-24\n",
              "2  47770eb9100c2d0c44946d9cf07ec65d  ...  2018-08-08\n",
              "3  949d5b44dbf5de918fe9c16f97b45f8a  ...  2017-11-18\n",
              "4  ad21c59c0840e6cb83a9ceb5573f8159  ...  2018-02-13\n",
              "\n",
              "[5 rows x 3 columns]"
            ]
          },
          "metadata": {},
          "execution_count": 48
        }
      ]
    },
    {
      "cell_type": "code",
      "metadata": {
        "colab": {
          "base_uri": "https://localhost:8080/",
          "height": 226
        },
        "id": "sV35-I2eUiGn",
        "outputId": "36e5b791-4b01-47d3-8d53-b24bde04c9e1"
      },
      "source": [
        "o_items.head()"
      ],
      "execution_count": 49,
      "outputs": [
        {
          "output_type": "execute_result",
          "data": {
            "text/html": [
              "<div>\n",
              "<style scoped>\n",
              "    .dataframe tbody tr th:only-of-type {\n",
              "        vertical-align: middle;\n",
              "    }\n",
              "\n",
              "    .dataframe tbody tr th {\n",
              "        vertical-align: top;\n",
              "    }\n",
              "\n",
              "    .dataframe thead th {\n",
              "        text-align: right;\n",
              "    }\n",
              "</style>\n",
              "<table border=\"1\" class=\"dataframe\">\n",
              "  <thead>\n",
              "    <tr style=\"text-align: right;\">\n",
              "      <th></th>\n",
              "      <th>order_id</th>\n",
              "      <th>order_item_id</th>\n",
              "      <th>product_id</th>\n",
              "      <th>seller_id</th>\n",
              "      <th>shipping_limit_date</th>\n",
              "      <th>price</th>\n",
              "      <th>freight_value</th>\n",
              "    </tr>\n",
              "  </thead>\n",
              "  <tbody>\n",
              "    <tr>\n",
              "      <th>0</th>\n",
              "      <td>00010242fe8c5a6d1ba2dd792cb16214</td>\n",
              "      <td>1</td>\n",
              "      <td>4244733e06e7ecb4970a6e2683c13e61</td>\n",
              "      <td>48436dade18ac8b2bce089ec2a041202</td>\n",
              "      <td>2017-09-19 09:45:35</td>\n",
              "      <td>58.90</td>\n",
              "      <td>13.29</td>\n",
              "    </tr>\n",
              "    <tr>\n",
              "      <th>1</th>\n",
              "      <td>00018f77f2f0320c557190d7a144bdd3</td>\n",
              "      <td>1</td>\n",
              "      <td>e5f2d52b802189ee658865ca93d83a8f</td>\n",
              "      <td>dd7ddc04e1b6c2c614352b383efe2d36</td>\n",
              "      <td>2017-05-03 11:05:13</td>\n",
              "      <td>239.90</td>\n",
              "      <td>19.93</td>\n",
              "    </tr>\n",
              "    <tr>\n",
              "      <th>2</th>\n",
              "      <td>000229ec398224ef6ca0657da4fc703e</td>\n",
              "      <td>1</td>\n",
              "      <td>c777355d18b72b67abbeef9df44fd0fd</td>\n",
              "      <td>5b51032eddd242adc84c38acab88f23d</td>\n",
              "      <td>2018-01-18 14:48:30</td>\n",
              "      <td>199.00</td>\n",
              "      <td>17.87</td>\n",
              "    </tr>\n",
              "    <tr>\n",
              "      <th>3</th>\n",
              "      <td>00024acbcdf0a6daa1e931b038114c75</td>\n",
              "      <td>1</td>\n",
              "      <td>7634da152a4610f1595efa32f14722fc</td>\n",
              "      <td>9d7a1d34a5052409006425275ba1c2b4</td>\n",
              "      <td>2018-08-15 10:10:18</td>\n",
              "      <td>12.99</td>\n",
              "      <td>12.79</td>\n",
              "    </tr>\n",
              "    <tr>\n",
              "      <th>4</th>\n",
              "      <td>00042b26cf59d7ce69dfabb4e55b4fd9</td>\n",
              "      <td>1</td>\n",
              "      <td>ac6c3623068f30de03045865e4e10089</td>\n",
              "      <td>df560393f3a51e74553ab94004ba5c87</td>\n",
              "      <td>2017-02-13 13:57:51</td>\n",
              "      <td>199.90</td>\n",
              "      <td>18.14</td>\n",
              "    </tr>\n",
              "  </tbody>\n",
              "</table>\n",
              "</div>"
            ],
            "text/plain": [
              "                           order_id  order_item_id  ...   price freight_value\n",
              "0  00010242fe8c5a6d1ba2dd792cb16214              1  ...   58.90         13.29\n",
              "1  00018f77f2f0320c557190d7a144bdd3              1  ...  239.90         19.93\n",
              "2  000229ec398224ef6ca0657da4fc703e              1  ...  199.00         17.87\n",
              "3  00024acbcdf0a6daa1e931b038114c75              1  ...   12.99         12.79\n",
              "4  00042b26cf59d7ce69dfabb4e55b4fd9              1  ...  199.90         18.14\n",
              "\n",
              "[5 rows x 7 columns]"
            ]
          },
          "metadata": {},
          "execution_count": 49
        }
      ]
    },
    {
      "cell_type": "code",
      "metadata": {
        "colab": {
          "base_uri": "https://localhost:8080/"
        },
        "id": "SeBeXRahUiGn",
        "outputId": "1b517350-eb03-4603-c4e3-8e450d8ed924"
      },
      "source": [
        "o_items.info()"
      ],
      "execution_count": 50,
      "outputs": [
        {
          "output_type": "stream",
          "name": "stdout",
          "text": [
            "<class 'pandas.core.frame.DataFrame'>\n",
            "RangeIndex: 112650 entries, 0 to 112649\n",
            "Data columns (total 7 columns):\n",
            " #   Column               Non-Null Count   Dtype  \n",
            "---  ------               --------------   -----  \n",
            " 0   order_id             112650 non-null  object \n",
            " 1   order_item_id        112650 non-null  int64  \n",
            " 2   product_id           112650 non-null  object \n",
            " 3   seller_id            112650 non-null  object \n",
            " 4   shipping_limit_date  112650 non-null  object \n",
            " 5   price                112650 non-null  float64\n",
            " 6   freight_value        112650 non-null  float64\n",
            "dtypes: float64(2), int64(1), object(4)\n",
            "memory usage: 6.0+ MB\n"
          ]
        }
      ]
    },
    {
      "cell_type": "code",
      "metadata": {
        "colab": {
          "base_uri": "https://localhost:8080/",
          "height": 289
        },
        "id": "pFYoD773UiGn",
        "outputId": "8aa31dbf-869c-4377-ff71-a78eba71ecc7"
      },
      "source": [
        "o_items.describe(include='all').T"
      ],
      "execution_count": 51,
      "outputs": [
        {
          "output_type": "execute_result",
          "data": {
            "text/html": [
              "<div>\n",
              "<style scoped>\n",
              "    .dataframe tbody tr th:only-of-type {\n",
              "        vertical-align: middle;\n",
              "    }\n",
              "\n",
              "    .dataframe tbody tr th {\n",
              "        vertical-align: top;\n",
              "    }\n",
              "\n",
              "    .dataframe thead th {\n",
              "        text-align: right;\n",
              "    }\n",
              "</style>\n",
              "<table border=\"1\" class=\"dataframe\">\n",
              "  <thead>\n",
              "    <tr style=\"text-align: right;\">\n",
              "      <th></th>\n",
              "      <th>count</th>\n",
              "      <th>unique</th>\n",
              "      <th>top</th>\n",
              "      <th>freq</th>\n",
              "      <th>mean</th>\n",
              "      <th>std</th>\n",
              "      <th>min</th>\n",
              "      <th>25%</th>\n",
              "      <th>50%</th>\n",
              "      <th>75%</th>\n",
              "      <th>max</th>\n",
              "    </tr>\n",
              "  </thead>\n",
              "  <tbody>\n",
              "    <tr>\n",
              "      <th>order_id</th>\n",
              "      <td>112650</td>\n",
              "      <td>98666</td>\n",
              "      <td>8272b63d03f5f79c56e9e4120aec44ef</td>\n",
              "      <td>21</td>\n",
              "      <td>NaN</td>\n",
              "      <td>NaN</td>\n",
              "      <td>NaN</td>\n",
              "      <td>NaN</td>\n",
              "      <td>NaN</td>\n",
              "      <td>NaN</td>\n",
              "      <td>NaN</td>\n",
              "    </tr>\n",
              "    <tr>\n",
              "      <th>order_item_id</th>\n",
              "      <td>112650</td>\n",
              "      <td>NaN</td>\n",
              "      <td>NaN</td>\n",
              "      <td>NaN</td>\n",
              "      <td>1.19783</td>\n",
              "      <td>0.705124</td>\n",
              "      <td>1</td>\n",
              "      <td>1</td>\n",
              "      <td>1</td>\n",
              "      <td>1</td>\n",
              "      <td>21</td>\n",
              "    </tr>\n",
              "    <tr>\n",
              "      <th>product_id</th>\n",
              "      <td>112650</td>\n",
              "      <td>32951</td>\n",
              "      <td>aca2eb7d00ea1a7b8ebd4e68314663af</td>\n",
              "      <td>527</td>\n",
              "      <td>NaN</td>\n",
              "      <td>NaN</td>\n",
              "      <td>NaN</td>\n",
              "      <td>NaN</td>\n",
              "      <td>NaN</td>\n",
              "      <td>NaN</td>\n",
              "      <td>NaN</td>\n",
              "    </tr>\n",
              "    <tr>\n",
              "      <th>seller_id</th>\n",
              "      <td>112650</td>\n",
              "      <td>3095</td>\n",
              "      <td>6560211a19b47992c3666cc44a7e94c0</td>\n",
              "      <td>2033</td>\n",
              "      <td>NaN</td>\n",
              "      <td>NaN</td>\n",
              "      <td>NaN</td>\n",
              "      <td>NaN</td>\n",
              "      <td>NaN</td>\n",
              "      <td>NaN</td>\n",
              "      <td>NaN</td>\n",
              "    </tr>\n",
              "    <tr>\n",
              "      <th>shipping_limit_date</th>\n",
              "      <td>112650</td>\n",
              "      <td>93318</td>\n",
              "      <td>2017-07-21 18:25:23</td>\n",
              "      <td>21</td>\n",
              "      <td>NaN</td>\n",
              "      <td>NaN</td>\n",
              "      <td>NaN</td>\n",
              "      <td>NaN</td>\n",
              "      <td>NaN</td>\n",
              "      <td>NaN</td>\n",
              "      <td>NaN</td>\n",
              "    </tr>\n",
              "    <tr>\n",
              "      <th>price</th>\n",
              "      <td>112650</td>\n",
              "      <td>NaN</td>\n",
              "      <td>NaN</td>\n",
              "      <td>NaN</td>\n",
              "      <td>120.654</td>\n",
              "      <td>183.634</td>\n",
              "      <td>0.85</td>\n",
              "      <td>39.9</td>\n",
              "      <td>74.99</td>\n",
              "      <td>134.9</td>\n",
              "      <td>6735</td>\n",
              "    </tr>\n",
              "    <tr>\n",
              "      <th>freight_value</th>\n",
              "      <td>112650</td>\n",
              "      <td>NaN</td>\n",
              "      <td>NaN</td>\n",
              "      <td>NaN</td>\n",
              "      <td>19.9903</td>\n",
              "      <td>15.8064</td>\n",
              "      <td>0</td>\n",
              "      <td>13.08</td>\n",
              "      <td>16.26</td>\n",
              "      <td>21.15</td>\n",
              "      <td>409.68</td>\n",
              "    </tr>\n",
              "  </tbody>\n",
              "</table>\n",
              "</div>"
            ],
            "text/plain": [
              "                      count unique  ...    75%     max\n",
              "order_id             112650  98666  ...    NaN     NaN\n",
              "order_item_id        112650    NaN  ...      1      21\n",
              "product_id           112650  32951  ...    NaN     NaN\n",
              "seller_id            112650   3095  ...    NaN     NaN\n",
              "shipping_limit_date  112650  93318  ...    NaN     NaN\n",
              "price                112650    NaN  ...  134.9    6735\n",
              "freight_value        112650    NaN  ...  21.15  409.68\n",
              "\n",
              "[7 rows x 11 columns]"
            ]
          },
          "metadata": {},
          "execution_count": 51
        }
      ]
    },
    {
      "cell_type": "code",
      "metadata": {
        "colab": {
          "base_uri": "https://localhost:8080/"
        },
        "id": "LIAmAu_GUiGo",
        "outputId": "d2c3a250-6d49-4742-d4df-4075d61d0367"
      },
      "source": [
        "o_items['order_id'].nunique()"
      ],
      "execution_count": 52,
      "outputs": [
        {
          "output_type": "execute_result",
          "data": {
            "text/plain": [
              "98666"
            ]
          },
          "metadata": {},
          "execution_count": 52
        }
      ]
    },
    {
      "cell_type": "code",
      "metadata": {
        "colab": {
          "base_uri": "https://localhost:8080/",
          "height": 206
        },
        "id": "r4l8cwe2UiGo",
        "outputId": "a409c399-6558-483e-eb76-598b06c55f75"
      },
      "source": [
        "orderTrans = o_items.groupby(['order_id']).agg({'price':'sum'}).reset_index()\n",
        "orderTrans.head()"
      ],
      "execution_count": 53,
      "outputs": [
        {
          "output_type": "execute_result",
          "data": {
            "text/html": [
              "<div>\n",
              "<style scoped>\n",
              "    .dataframe tbody tr th:only-of-type {\n",
              "        vertical-align: middle;\n",
              "    }\n",
              "\n",
              "    .dataframe tbody tr th {\n",
              "        vertical-align: top;\n",
              "    }\n",
              "\n",
              "    .dataframe thead th {\n",
              "        text-align: right;\n",
              "    }\n",
              "</style>\n",
              "<table border=\"1\" class=\"dataframe\">\n",
              "  <thead>\n",
              "    <tr style=\"text-align: right;\">\n",
              "      <th></th>\n",
              "      <th>order_id</th>\n",
              "      <th>price</th>\n",
              "    </tr>\n",
              "  </thead>\n",
              "  <tbody>\n",
              "    <tr>\n",
              "      <th>0</th>\n",
              "      <td>00010242fe8c5a6d1ba2dd792cb16214</td>\n",
              "      <td>58.90</td>\n",
              "    </tr>\n",
              "    <tr>\n",
              "      <th>1</th>\n",
              "      <td>00018f77f2f0320c557190d7a144bdd3</td>\n",
              "      <td>239.90</td>\n",
              "    </tr>\n",
              "    <tr>\n",
              "      <th>2</th>\n",
              "      <td>000229ec398224ef6ca0657da4fc703e</td>\n",
              "      <td>199.00</td>\n",
              "    </tr>\n",
              "    <tr>\n",
              "      <th>3</th>\n",
              "      <td>00024acbcdf0a6daa1e931b038114c75</td>\n",
              "      <td>12.99</td>\n",
              "    </tr>\n",
              "    <tr>\n",
              "      <th>4</th>\n",
              "      <td>00042b26cf59d7ce69dfabb4e55b4fd9</td>\n",
              "      <td>199.90</td>\n",
              "    </tr>\n",
              "  </tbody>\n",
              "</table>\n",
              "</div>"
            ],
            "text/plain": [
              "                           order_id   price\n",
              "0  00010242fe8c5a6d1ba2dd792cb16214   58.90\n",
              "1  00018f77f2f0320c557190d7a144bdd3  239.90\n",
              "2  000229ec398224ef6ca0657da4fc703e  199.00\n",
              "3  00024acbcdf0a6daa1e931b038114c75   12.99\n",
              "4  00042b26cf59d7ce69dfabb4e55b4fd9  199.90"
            ]
          },
          "metadata": {},
          "execution_count": 53
        }
      ]
    },
    {
      "cell_type": "code",
      "metadata": {
        "colab": {
          "base_uri": "https://localhost:8080/",
          "height": 206
        },
        "id": "ILKjdYbMUiGo",
        "outputId": "c220c1e6-7d68-45e2-8dc4-63c21d00f053"
      },
      "source": [
        "orderTrans.rename(columns={'price':'revenue'}, inplace = True)\n",
        "orderTrans.head()"
      ],
      "execution_count": 54,
      "outputs": [
        {
          "output_type": "execute_result",
          "data": {
            "text/html": [
              "<div>\n",
              "<style scoped>\n",
              "    .dataframe tbody tr th:only-of-type {\n",
              "        vertical-align: middle;\n",
              "    }\n",
              "\n",
              "    .dataframe tbody tr th {\n",
              "        vertical-align: top;\n",
              "    }\n",
              "\n",
              "    .dataframe thead th {\n",
              "        text-align: right;\n",
              "    }\n",
              "</style>\n",
              "<table border=\"1\" class=\"dataframe\">\n",
              "  <thead>\n",
              "    <tr style=\"text-align: right;\">\n",
              "      <th></th>\n",
              "      <th>order_id</th>\n",
              "      <th>revenue</th>\n",
              "    </tr>\n",
              "  </thead>\n",
              "  <tbody>\n",
              "    <tr>\n",
              "      <th>0</th>\n",
              "      <td>00010242fe8c5a6d1ba2dd792cb16214</td>\n",
              "      <td>58.90</td>\n",
              "    </tr>\n",
              "    <tr>\n",
              "      <th>1</th>\n",
              "      <td>00018f77f2f0320c557190d7a144bdd3</td>\n",
              "      <td>239.90</td>\n",
              "    </tr>\n",
              "    <tr>\n",
              "      <th>2</th>\n",
              "      <td>000229ec398224ef6ca0657da4fc703e</td>\n",
              "      <td>199.00</td>\n",
              "    </tr>\n",
              "    <tr>\n",
              "      <th>3</th>\n",
              "      <td>00024acbcdf0a6daa1e931b038114c75</td>\n",
              "      <td>12.99</td>\n",
              "    </tr>\n",
              "    <tr>\n",
              "      <th>4</th>\n",
              "      <td>00042b26cf59d7ce69dfabb4e55b4fd9</td>\n",
              "      <td>199.90</td>\n",
              "    </tr>\n",
              "  </tbody>\n",
              "</table>\n",
              "</div>"
            ],
            "text/plain": [
              "                           order_id  revenue\n",
              "0  00010242fe8c5a6d1ba2dd792cb16214    58.90\n",
              "1  00018f77f2f0320c557190d7a144bdd3   239.90\n",
              "2  000229ec398224ef6ca0657da4fc703e   199.00\n",
              "3  00024acbcdf0a6daa1e931b038114c75    12.99\n",
              "4  00042b26cf59d7ce69dfabb4e55b4fd9   199.90"
            ]
          },
          "metadata": {},
          "execution_count": 54
        }
      ]
    },
    {
      "cell_type": "markdown",
      "metadata": {
        "id": "T-ERRm92UiGo"
      },
      "source": [
        "Combine Orders dataset with OrderItems dataset to get the revenue of each orders"
      ]
    },
    {
      "cell_type": "code",
      "metadata": {
        "colab": {
          "base_uri": "https://localhost:8080/",
          "height": 424
        },
        "id": "Db722SVyUiGp",
        "outputId": "d9507223-c68f-4e35-b8da-8d870c394a7f"
      },
      "source": [
        "orderDetails = pd.merge(order1, orderTrans, on = 'order_id', how = 'left')\n",
        "orderDetails"
      ],
      "execution_count": 55,
      "outputs": [
        {
          "output_type": "execute_result",
          "data": {
            "text/html": [
              "<div>\n",
              "<style scoped>\n",
              "    .dataframe tbody tr th:only-of-type {\n",
              "        vertical-align: middle;\n",
              "    }\n",
              "\n",
              "    .dataframe tbody tr th {\n",
              "        vertical-align: top;\n",
              "    }\n",
              "\n",
              "    .dataframe thead th {\n",
              "        text-align: right;\n",
              "    }\n",
              "</style>\n",
              "<table border=\"1\" class=\"dataframe\">\n",
              "  <thead>\n",
              "    <tr style=\"text-align: right;\">\n",
              "      <th></th>\n",
              "      <th>order_id</th>\n",
              "      <th>customer_id</th>\n",
              "      <th>date</th>\n",
              "      <th>revenue</th>\n",
              "    </tr>\n",
              "  </thead>\n",
              "  <tbody>\n",
              "    <tr>\n",
              "      <th>0</th>\n",
              "      <td>e481f51cbdc54678b7cc49136f2d6af7</td>\n",
              "      <td>9ef432eb6251297304e76186b10a928d</td>\n",
              "      <td>2017-10-02</td>\n",
              "      <td>29.99</td>\n",
              "    </tr>\n",
              "    <tr>\n",
              "      <th>1</th>\n",
              "      <td>53cdb2fc8bc7dce0b6741e2150273451</td>\n",
              "      <td>b0830fb4747a6c6d20dea0b8c802d7ef</td>\n",
              "      <td>2018-07-24</td>\n",
              "      <td>118.70</td>\n",
              "    </tr>\n",
              "    <tr>\n",
              "      <th>2</th>\n",
              "      <td>47770eb9100c2d0c44946d9cf07ec65d</td>\n",
              "      <td>41ce2a54c0b03bf3443c3d931a367089</td>\n",
              "      <td>2018-08-08</td>\n",
              "      <td>159.90</td>\n",
              "    </tr>\n",
              "    <tr>\n",
              "      <th>3</th>\n",
              "      <td>949d5b44dbf5de918fe9c16f97b45f8a</td>\n",
              "      <td>f88197465ea7920adcdbec7375364d82</td>\n",
              "      <td>2017-11-18</td>\n",
              "      <td>45.00</td>\n",
              "    </tr>\n",
              "    <tr>\n",
              "      <th>4</th>\n",
              "      <td>ad21c59c0840e6cb83a9ceb5573f8159</td>\n",
              "      <td>8ab97904e6daea8866dbdbc4fb7aad2c</td>\n",
              "      <td>2018-02-13</td>\n",
              "      <td>19.90</td>\n",
              "    </tr>\n",
              "    <tr>\n",
              "      <th>...</th>\n",
              "      <td>...</td>\n",
              "      <td>...</td>\n",
              "      <td>...</td>\n",
              "      <td>...</td>\n",
              "    </tr>\n",
              "    <tr>\n",
              "      <th>98811</th>\n",
              "      <td>9c5dedf39a927c1b2549525ed64a053c</td>\n",
              "      <td>39bd1228ee8140590ac3aca26f2dfe00</td>\n",
              "      <td>2017-03-09</td>\n",
              "      <td>72.00</td>\n",
              "    </tr>\n",
              "    <tr>\n",
              "      <th>98812</th>\n",
              "      <td>63943bddc261676b46f01ca7ac2f7bd8</td>\n",
              "      <td>1fca14ff2861355f6e5f14306ff977a7</td>\n",
              "      <td>2018-02-06</td>\n",
              "      <td>174.90</td>\n",
              "    </tr>\n",
              "    <tr>\n",
              "      <th>98813</th>\n",
              "      <td>83c1379a015df1e13d02aae0204711ab</td>\n",
              "      <td>1aa71eb042121263aafbe80c1b562c9c</td>\n",
              "      <td>2017-08-27</td>\n",
              "      <td>205.99</td>\n",
              "    </tr>\n",
              "    <tr>\n",
              "      <th>98814</th>\n",
              "      <td>11c177c8e97725db2631073c19f07b62</td>\n",
              "      <td>b331b74b18dc79bcdf6532d51e1637c1</td>\n",
              "      <td>2018-01-08</td>\n",
              "      <td>359.98</td>\n",
              "    </tr>\n",
              "    <tr>\n",
              "      <th>98815</th>\n",
              "      <td>66dea50a8b16d9b4dee7af250b4be1a5</td>\n",
              "      <td>edb027a75a1449115f6b43211ae02a24</td>\n",
              "      <td>2018-03-08</td>\n",
              "      <td>68.50</td>\n",
              "    </tr>\n",
              "  </tbody>\n",
              "</table>\n",
              "<p>98816 rows × 4 columns</p>\n",
              "</div>"
            ],
            "text/plain": [
              "                               order_id  ... revenue\n",
              "0      e481f51cbdc54678b7cc49136f2d6af7  ...   29.99\n",
              "1      53cdb2fc8bc7dce0b6741e2150273451  ...  118.70\n",
              "2      47770eb9100c2d0c44946d9cf07ec65d  ...  159.90\n",
              "3      949d5b44dbf5de918fe9c16f97b45f8a  ...   45.00\n",
              "4      ad21c59c0840e6cb83a9ceb5573f8159  ...   19.90\n",
              "...                                 ...  ...     ...\n",
              "98811  9c5dedf39a927c1b2549525ed64a053c  ...   72.00\n",
              "98812  63943bddc261676b46f01ca7ac2f7bd8  ...  174.90\n",
              "98813  83c1379a015df1e13d02aae0204711ab  ...  205.99\n",
              "98814  11c177c8e97725db2631073c19f07b62  ...  359.98\n",
              "98815  66dea50a8b16d9b4dee7af250b4be1a5  ...   68.50\n",
              "\n",
              "[98816 rows x 4 columns]"
            ]
          },
          "metadata": {},
          "execution_count": 55
        }
      ]
    },
    {
      "cell_type": "code",
      "metadata": {
        "colab": {
          "base_uri": "https://localhost:8080/",
          "height": 617
        },
        "id": "-yM73ZvbUiGp",
        "outputId": "f48b8fe2-c57e-45ed-d331-0638a857b948"
      },
      "source": [
        "orderCusDetails_raw = pd.merge(cust1, orderDetails, on = 'customer_id', how = 'left')\n",
        "orderCusDetails_raw"
      ],
      "execution_count": 56,
      "outputs": [
        {
          "output_type": "execute_result",
          "data": {
            "text/html": [
              "<div>\n",
              "<style scoped>\n",
              "    .dataframe tbody tr th:only-of-type {\n",
              "        vertical-align: middle;\n",
              "    }\n",
              "\n",
              "    .dataframe tbody tr th {\n",
              "        vertical-align: top;\n",
              "    }\n",
              "\n",
              "    .dataframe thead th {\n",
              "        text-align: right;\n",
              "    }\n",
              "</style>\n",
              "<table border=\"1\" class=\"dataframe\">\n",
              "  <thead>\n",
              "    <tr style=\"text-align: right;\">\n",
              "      <th></th>\n",
              "      <th>customer_id</th>\n",
              "      <th>customer_unique_id</th>\n",
              "      <th>order_id</th>\n",
              "      <th>date</th>\n",
              "      <th>revenue</th>\n",
              "    </tr>\n",
              "  </thead>\n",
              "  <tbody>\n",
              "    <tr>\n",
              "      <th>0</th>\n",
              "      <td>06b8999e2fba1a1fbc88172c00ba8bc7</td>\n",
              "      <td>861eff4711a542e4b93843c6dd7febb0</td>\n",
              "      <td>00e7ee1b050b8499577073aeb2a297a1</td>\n",
              "      <td>2017-05-16</td>\n",
              "      <td>124.99</td>\n",
              "    </tr>\n",
              "    <tr>\n",
              "      <th>1</th>\n",
              "      <td>18955e83d337fd6b2def6b18a428ac77</td>\n",
              "      <td>290c77bc529b7ac935b93aa66c333dc3</td>\n",
              "      <td>29150127e6685892b6eab3eec79f59c7</td>\n",
              "      <td>2018-01-12</td>\n",
              "      <td>289.00</td>\n",
              "    </tr>\n",
              "    <tr>\n",
              "      <th>2</th>\n",
              "      <td>4e7b3e00288586ebd08712fdd0374a03</td>\n",
              "      <td>060e732b5b29e8181a18229c7b0b2b5e</td>\n",
              "      <td>b2059ed67ce144a36e2aa97d2c9e9ad2</td>\n",
              "      <td>2018-05-19</td>\n",
              "      <td>139.94</td>\n",
              "    </tr>\n",
              "    <tr>\n",
              "      <th>3</th>\n",
              "      <td>b2b6027bc5c5109e529d4dc6358b12c3</td>\n",
              "      <td>259dac757896d24d7702b9acbbff3f3c</td>\n",
              "      <td>951670f92359f4fe4a63112aa7306eba</td>\n",
              "      <td>2018-03-13</td>\n",
              "      <td>149.94</td>\n",
              "    </tr>\n",
              "    <tr>\n",
              "      <th>4</th>\n",
              "      <td>4f2d8ab171c80ec8364f7c12e35b23ad</td>\n",
              "      <td>345ecd01c38d18a9036ed96c73b8d066</td>\n",
              "      <td>6b7d50bd145f6fc7f33cebabd7e49d0f</td>\n",
              "      <td>2018-07-29</td>\n",
              "      <td>230.00</td>\n",
              "    </tr>\n",
              "    <tr>\n",
              "      <th>...</th>\n",
              "      <td>...</td>\n",
              "      <td>...</td>\n",
              "      <td>...</td>\n",
              "      <td>...</td>\n",
              "      <td>...</td>\n",
              "    </tr>\n",
              "    <tr>\n",
              "      <th>99436</th>\n",
              "      <td>17ddf5dd5d51696bb3d7c6291687be6f</td>\n",
              "      <td>1a29b476fee25c95fbafc67c5ac95cf8</td>\n",
              "      <td>6760e20addcf0121e9d58f2f1ff14298</td>\n",
              "      <td>2018-04-07</td>\n",
              "      <td>74.90</td>\n",
              "    </tr>\n",
              "    <tr>\n",
              "      <th>99437</th>\n",
              "      <td>e7b71a9017aa05c9a7fd292d714858e8</td>\n",
              "      <td>d52a67c98be1cf6a5c84435bd38d095d</td>\n",
              "      <td>9ec0c8947d973db4f4e8dcf1fbfa8f1b</td>\n",
              "      <td>2018-04-04</td>\n",
              "      <td>114.90</td>\n",
              "    </tr>\n",
              "    <tr>\n",
              "      <th>99438</th>\n",
              "      <td>5e28dfe12db7fb50a4b2f691faecea5e</td>\n",
              "      <td>e9f50caf99f032f0bf3c55141f019d99</td>\n",
              "      <td>fed4434add09a6f332ea398efd656a5c</td>\n",
              "      <td>2018-04-08</td>\n",
              "      <td>37.00</td>\n",
              "    </tr>\n",
              "    <tr>\n",
              "      <th>99439</th>\n",
              "      <td>56b18e2166679b8a959d72dd06da27f9</td>\n",
              "      <td>73c2643a0a458b49f58cea58833b192e</td>\n",
              "      <td>e31ec91cea1ecf97797787471f98a8c2</td>\n",
              "      <td>2017-11-03</td>\n",
              "      <td>689.00</td>\n",
              "    </tr>\n",
              "    <tr>\n",
              "      <th>99440</th>\n",
              "      <td>274fa6071e5e17fe303b9748641082c8</td>\n",
              "      <td>84732c5050c01db9b23e19ba39899398</td>\n",
              "      <td>28db69209a75e59f20ccbb5c36a20b90</td>\n",
              "      <td>2017-12-19</td>\n",
              "      <td>13.99</td>\n",
              "    </tr>\n",
              "  </tbody>\n",
              "</table>\n",
              "<p>99441 rows × 5 columns</p>\n",
              "</div>"
            ],
            "text/plain": [
              "                            customer_id  ... revenue\n",
              "0      06b8999e2fba1a1fbc88172c00ba8bc7  ...  124.99\n",
              "1      18955e83d337fd6b2def6b18a428ac77  ...  289.00\n",
              "2      4e7b3e00288586ebd08712fdd0374a03  ...  139.94\n",
              "3      b2b6027bc5c5109e529d4dc6358b12c3  ...  149.94\n",
              "4      4f2d8ab171c80ec8364f7c12e35b23ad  ...  230.00\n",
              "...                                 ...  ...     ...\n",
              "99436  17ddf5dd5d51696bb3d7c6291687be6f  ...   74.90\n",
              "99437  e7b71a9017aa05c9a7fd292d714858e8  ...  114.90\n",
              "99438  5e28dfe12db7fb50a4b2f691faecea5e  ...   37.00\n",
              "99439  56b18e2166679b8a959d72dd06da27f9  ...  689.00\n",
              "99440  274fa6071e5e17fe303b9748641082c8  ...   13.99\n",
              "\n",
              "[99441 rows x 5 columns]"
            ]
          },
          "metadata": {},
          "execution_count": 56
        }
      ]
    },
    {
      "cell_type": "code",
      "metadata": {
        "colab": {
          "base_uri": "https://localhost:8080/",
          "height": 342
        },
        "id": "aDEN05o1UiGp",
        "outputId": "832c32aa-b603-461c-ce1a-8415583113c0"
      },
      "source": [
        "# extracting based on customer_unique_id\n",
        "orderCusDetails_raw[orderCusDetails_raw['customer_unique_id'] == '12f5d6e1cbf93dafd9dcc19095df0b3d']"
      ],
      "execution_count": 57,
      "outputs": [
        {
          "output_type": "execute_result",
          "data": {
            "text/html": [
              "<div>\n",
              "<style scoped>\n",
              "    .dataframe tbody tr th:only-of-type {\n",
              "        vertical-align: middle;\n",
              "    }\n",
              "\n",
              "    .dataframe tbody tr th {\n",
              "        vertical-align: top;\n",
              "    }\n",
              "\n",
              "    .dataframe thead th {\n",
              "        text-align: right;\n",
              "    }\n",
              "</style>\n",
              "<table border=\"1\" class=\"dataframe\">\n",
              "  <thead>\n",
              "    <tr style=\"text-align: right;\">\n",
              "      <th></th>\n",
              "      <th>customer_id</th>\n",
              "      <th>customer_unique_id</th>\n",
              "      <th>order_id</th>\n",
              "      <th>date</th>\n",
              "      <th>revenue</th>\n",
              "    </tr>\n",
              "  </thead>\n",
              "  <tbody>\n",
              "    <tr>\n",
              "      <th>28432</th>\n",
              "      <td>6152d0774bbbf74f7140541c0569dafa</td>\n",
              "      <td>12f5d6e1cbf93dafd9dcc19095df0b3d</td>\n",
              "      <td>9b91ddcbd6cbceb83d4fd2462ca1f95e</td>\n",
              "      <td>2017-01-05</td>\n",
              "      <td>10.9</td>\n",
              "    </tr>\n",
              "    <tr>\n",
              "      <th>35693</th>\n",
              "      <td>588047d7101d88c333691e47659d7099</td>\n",
              "      <td>12f5d6e1cbf93dafd9dcc19095df0b3d</td>\n",
              "      <td>ca5a215980675471f0cf8199c041909a</td>\n",
              "      <td>2017-01-05</td>\n",
              "      <td>10.9</td>\n",
              "    </tr>\n",
              "    <tr>\n",
              "      <th>71569</th>\n",
              "      <td>c0352e94059e3e5a714c9ad0c8306a54</td>\n",
              "      <td>12f5d6e1cbf93dafd9dcc19095df0b3d</td>\n",
              "      <td>17fed53ba6dfef9b594ee2268642e2aa</td>\n",
              "      <td>2017-01-05</td>\n",
              "      <td>9.9</td>\n",
              "    </tr>\n",
              "    <tr>\n",
              "      <th>89230</th>\n",
              "      <td>27129ce1ebca4ffa23a049c51cc8ec95</td>\n",
              "      <td>12f5d6e1cbf93dafd9dcc19095df0b3d</td>\n",
              "      <td>464de32dc84484c1d26df3e8e38e708b</td>\n",
              "      <td>2017-01-05</td>\n",
              "      <td>6.9</td>\n",
              "    </tr>\n",
              "    <tr>\n",
              "      <th>97034</th>\n",
              "      <td>ed1793d2d1e4175d5846ce7ebb4a01f5</td>\n",
              "      <td>12f5d6e1cbf93dafd9dcc19095df0b3d</td>\n",
              "      <td>747996a66f5aa711deb8ae58f5ae46a0</td>\n",
              "      <td>2017-01-05</td>\n",
              "      <td>9.9</td>\n",
              "    </tr>\n",
              "    <tr>\n",
              "      <th>98493</th>\n",
              "      <td>a969b9f8d923bc7fd97b578f7c499194</td>\n",
              "      <td>12f5d6e1cbf93dafd9dcc19095df0b3d</td>\n",
              "      <td>8a784d47854e4cbc5562362393d504db</td>\n",
              "      <td>2017-01-05</td>\n",
              "      <td>9.9</td>\n",
              "    </tr>\n",
              "  </tbody>\n",
              "</table>\n",
              "</div>"
            ],
            "text/plain": [
              "                            customer_id  ... revenue\n",
              "28432  6152d0774bbbf74f7140541c0569dafa  ...    10.9\n",
              "35693  588047d7101d88c333691e47659d7099  ...    10.9\n",
              "71569  c0352e94059e3e5a714c9ad0c8306a54  ...     9.9\n",
              "89230  27129ce1ebca4ffa23a049c51cc8ec95  ...     6.9\n",
              "97034  ed1793d2d1e4175d5846ce7ebb4a01f5  ...     9.9\n",
              "98493  a969b9f8d923bc7fd97b578f7c499194  ...     9.9\n",
              "\n",
              "[6 rows x 5 columns]"
            ]
          },
          "metadata": {},
          "execution_count": 57
        }
      ]
    },
    {
      "cell_type": "markdown",
      "metadata": {
        "id": "2pZW4evlUiGp"
      },
      "source": [
        "From this we can extract purchases made by desired customer based on unique_customer_id. "
      ]
    },
    {
      "cell_type": "code",
      "metadata": {
        "colab": {
          "base_uri": "https://localhost:8080/",
          "height": 98
        },
        "id": "hWLaW_VSUiGq",
        "outputId": "4df851b4-7dd3-4ed0-dc7e-275e4b5b7e68"
      },
      "source": [
        "# extracting based on customer_id\n",
        "orderCusDetails_raw[orderCusDetails_raw['customer_id'] == '6152d0774bbbf74f7140541c0569dafa']"
      ],
      "execution_count": 58,
      "outputs": [
        {
          "output_type": "execute_result",
          "data": {
            "text/html": [
              "<div>\n",
              "<style scoped>\n",
              "    .dataframe tbody tr th:only-of-type {\n",
              "        vertical-align: middle;\n",
              "    }\n",
              "\n",
              "    .dataframe tbody tr th {\n",
              "        vertical-align: top;\n",
              "    }\n",
              "\n",
              "    .dataframe thead th {\n",
              "        text-align: right;\n",
              "    }\n",
              "</style>\n",
              "<table border=\"1\" class=\"dataframe\">\n",
              "  <thead>\n",
              "    <tr style=\"text-align: right;\">\n",
              "      <th></th>\n",
              "      <th>customer_id</th>\n",
              "      <th>customer_unique_id</th>\n",
              "      <th>order_id</th>\n",
              "      <th>date</th>\n",
              "      <th>revenue</th>\n",
              "    </tr>\n",
              "  </thead>\n",
              "  <tbody>\n",
              "    <tr>\n",
              "      <th>28432</th>\n",
              "      <td>6152d0774bbbf74f7140541c0569dafa</td>\n",
              "      <td>12f5d6e1cbf93dafd9dcc19095df0b3d</td>\n",
              "      <td>9b91ddcbd6cbceb83d4fd2462ca1f95e</td>\n",
              "      <td>2017-01-05</td>\n",
              "      <td>10.9</td>\n",
              "    </tr>\n",
              "  </tbody>\n",
              "</table>\n",
              "</div>"
            ],
            "text/plain": [
              "                            customer_id  ... revenue\n",
              "28432  6152d0774bbbf74f7140541c0569dafa  ...    10.9\n",
              "\n",
              "[1 rows x 5 columns]"
            ]
          },
          "metadata": {},
          "execution_count": 58
        }
      ]
    },
    {
      "cell_type": "markdown",
      "metadata": {
        "id": "spQZ2b6UUiGq"
      },
      "source": [
        "Also we can extract the information details based on customer_id also."
      ]
    },
    {
      "cell_type": "code",
      "metadata": {
        "colab": {
          "base_uri": "https://localhost:8080/",
          "height": 424
        },
        "id": "LcVLgoGAUiGq",
        "outputId": "da09e448-f23a-4185-b4a9-148ee3772c06"
      },
      "source": [
        "orderCusDetails = orderCusDetails_raw.groupby(['customer_unique_id','date']).agg({'revenue':'sum'}).reset_index()\n",
        "orderCusDetails"
      ],
      "execution_count": 59,
      "outputs": [
        {
          "output_type": "execute_result",
          "data": {
            "text/html": [
              "<div>\n",
              "<style scoped>\n",
              "    .dataframe tbody tr th:only-of-type {\n",
              "        vertical-align: middle;\n",
              "    }\n",
              "\n",
              "    .dataframe tbody tr th {\n",
              "        vertical-align: top;\n",
              "    }\n",
              "\n",
              "    .dataframe thead th {\n",
              "        text-align: right;\n",
              "    }\n",
              "</style>\n",
              "<table border=\"1\" class=\"dataframe\">\n",
              "  <thead>\n",
              "    <tr style=\"text-align: right;\">\n",
              "      <th></th>\n",
              "      <th>customer_unique_id</th>\n",
              "      <th>date</th>\n",
              "      <th>revenue</th>\n",
              "    </tr>\n",
              "  </thead>\n",
              "  <tbody>\n",
              "    <tr>\n",
              "      <th>0</th>\n",
              "      <td>0000366f3b9a7992bf8c76cfdf3221e2</td>\n",
              "      <td>2018-05-10</td>\n",
              "      <td>129.90</td>\n",
              "    </tr>\n",
              "    <tr>\n",
              "      <th>1</th>\n",
              "      <td>0000b849f77a49e4a4ce2b2a4ca5be3f</td>\n",
              "      <td>2018-05-07</td>\n",
              "      <td>18.90</td>\n",
              "    </tr>\n",
              "    <tr>\n",
              "      <th>2</th>\n",
              "      <td>0000f46a3911fa3c0805444483337064</td>\n",
              "      <td>2017-03-10</td>\n",
              "      <td>69.00</td>\n",
              "    </tr>\n",
              "    <tr>\n",
              "      <th>3</th>\n",
              "      <td>0000f6ccb0745a6a4b88665a16c9f078</td>\n",
              "      <td>2017-10-12</td>\n",
              "      <td>25.99</td>\n",
              "    </tr>\n",
              "    <tr>\n",
              "      <th>4</th>\n",
              "      <td>0004aac84e0df4da2b147fca70cf8255</td>\n",
              "      <td>2017-11-14</td>\n",
              "      <td>180.00</td>\n",
              "    </tr>\n",
              "    <tr>\n",
              "      <th>...</th>\n",
              "      <td>...</td>\n",
              "      <td>...</td>\n",
              "      <td>...</td>\n",
              "    </tr>\n",
              "    <tr>\n",
              "      <th>97872</th>\n",
              "      <td>fffcf5a5ff07b0908bd4e2dbc735a684</td>\n",
              "      <td>2017-06-08</td>\n",
              "      <td>1570.00</td>\n",
              "    </tr>\n",
              "    <tr>\n",
              "      <th>97873</th>\n",
              "      <td>fffea47cd6d3cc0a88bd621562a9d061</td>\n",
              "      <td>2017-12-10</td>\n",
              "      <td>64.89</td>\n",
              "    </tr>\n",
              "    <tr>\n",
              "      <th>97874</th>\n",
              "      <td>ffff371b4d645b6ecea244b27531430a</td>\n",
              "      <td>2017-02-07</td>\n",
              "      <td>89.90</td>\n",
              "    </tr>\n",
              "    <tr>\n",
              "      <th>97875</th>\n",
              "      <td>ffff5962728ec6157033ef9805bacc48</td>\n",
              "      <td>2018-05-02</td>\n",
              "      <td>115.00</td>\n",
              "    </tr>\n",
              "    <tr>\n",
              "      <th>97876</th>\n",
              "      <td>ffffd2657e2aad2907e67c3e9daecbeb</td>\n",
              "      <td>2017-05-02</td>\n",
              "      <td>56.99</td>\n",
              "    </tr>\n",
              "  </tbody>\n",
              "</table>\n",
              "<p>97877 rows × 3 columns</p>\n",
              "</div>"
            ],
            "text/plain": [
              "                     customer_unique_id        date  revenue\n",
              "0      0000366f3b9a7992bf8c76cfdf3221e2  2018-05-10   129.90\n",
              "1      0000b849f77a49e4a4ce2b2a4ca5be3f  2018-05-07    18.90\n",
              "2      0000f46a3911fa3c0805444483337064  2017-03-10    69.00\n",
              "3      0000f6ccb0745a6a4b88665a16c9f078  2017-10-12    25.99\n",
              "4      0004aac84e0df4da2b147fca70cf8255  2017-11-14   180.00\n",
              "...                                 ...         ...      ...\n",
              "97872  fffcf5a5ff07b0908bd4e2dbc735a684  2017-06-08  1570.00\n",
              "97873  fffea47cd6d3cc0a88bd621562a9d061  2017-12-10    64.89\n",
              "97874  ffff371b4d645b6ecea244b27531430a  2017-02-07    89.90\n",
              "97875  ffff5962728ec6157033ef9805bacc48  2018-05-02   115.00\n",
              "97876  ffffd2657e2aad2907e67c3e9daecbeb  2017-05-02    56.99\n",
              "\n",
              "[97877 rows x 3 columns]"
            ]
          },
          "metadata": {},
          "execution_count": 59
        }
      ]
    },
    {
      "cell_type": "code",
      "metadata": {
        "colab": {
          "base_uri": "https://localhost:8080/",
          "height": 81
        },
        "id": "cXHNOV8XUiGq",
        "outputId": "71945ae2-fd0a-4d24-c97b-f07087b157cc"
      },
      "source": [
        "# Testing\n",
        "orderCusDetails[orderCusDetails['customer_unique_id'] == '12f5d6e1cbf93dafd9dcc19095df0b3d']"
      ],
      "execution_count": 60,
      "outputs": [
        {
          "output_type": "execute_result",
          "data": {
            "text/html": [
              "<div>\n",
              "<style scoped>\n",
              "    .dataframe tbody tr th:only-of-type {\n",
              "        vertical-align: middle;\n",
              "    }\n",
              "\n",
              "    .dataframe tbody tr th {\n",
              "        vertical-align: top;\n",
              "    }\n",
              "\n",
              "    .dataframe thead th {\n",
              "        text-align: right;\n",
              "    }\n",
              "</style>\n",
              "<table border=\"1\" class=\"dataframe\">\n",
              "  <thead>\n",
              "    <tr style=\"text-align: right;\">\n",
              "      <th></th>\n",
              "      <th>customer_unique_id</th>\n",
              "      <th>date</th>\n",
              "      <th>revenue</th>\n",
              "    </tr>\n",
              "  </thead>\n",
              "  <tbody>\n",
              "    <tr>\n",
              "      <th>7299</th>\n",
              "      <td>12f5d6e1cbf93dafd9dcc19095df0b3d</td>\n",
              "      <td>2017-01-05</td>\n",
              "      <td>58.4</td>\n",
              "    </tr>\n",
              "  </tbody>\n",
              "</table>\n",
              "</div>"
            ],
            "text/plain": [
              "                    customer_unique_id        date  revenue\n",
              "7299  12f5d6e1cbf93dafd9dcc19095df0b3d  2017-01-05     58.4"
            ]
          },
          "metadata": {},
          "execution_count": 60
        }
      ]
    },
    {
      "cell_type": "markdown",
      "metadata": {
        "id": "z1YJAxr8UiGq"
      },
      "source": [
        "# Identifying customer based on revenue"
      ]
    },
    {
      "cell_type": "code",
      "metadata": {
        "colab": {
          "base_uri": "https://localhost:8080/",
          "height": 424
        },
        "id": "hEOm3JIyUiGr",
        "outputId": "78765f0c-319a-4523-e97a-9aeb1deaff9c"
      },
      "source": [
        "# extracting customer_unique_id based on revenue\n",
        "threshold =1000\n",
        "orderCusDetails[(orderCusDetails.revenue > threshold)]"
      ],
      "execution_count": 61,
      "outputs": [
        {
          "output_type": "execute_result",
          "data": {
            "text/html": [
              "<div>\n",
              "<style scoped>\n",
              "    .dataframe tbody tr th:only-of-type {\n",
              "        vertical-align: middle;\n",
              "    }\n",
              "\n",
              "    .dataframe tbody tr th {\n",
              "        vertical-align: top;\n",
              "    }\n",
              "\n",
              "    .dataframe thead th {\n",
              "        text-align: right;\n",
              "    }\n",
              "</style>\n",
              "<table border=\"1\" class=\"dataframe\">\n",
              "  <thead>\n",
              "    <tr style=\"text-align: right;\">\n",
              "      <th></th>\n",
              "      <th>customer_unique_id</th>\n",
              "      <th>date</th>\n",
              "      <th>revenue</th>\n",
              "    </tr>\n",
              "  </thead>\n",
              "  <tbody>\n",
              "    <tr>\n",
              "      <th>135</th>\n",
              "      <td>005226be8d5b972d0f72b4e8a79f322b</td>\n",
              "      <td>2018-04-01</td>\n",
              "      <td>1561.0</td>\n",
              "    </tr>\n",
              "    <tr>\n",
              "      <th>264</th>\n",
              "      <td>00adeda9b742746c0c66e10d00ea1b74</td>\n",
              "      <td>2017-11-07</td>\n",
              "      <td>2078.5</td>\n",
              "    </tr>\n",
              "    <tr>\n",
              "      <th>297</th>\n",
              "      <td>00c07da5ba0e07b4f248a3a373b07476</td>\n",
              "      <td>2018-07-27</td>\n",
              "      <td>2258.0</td>\n",
              "    </tr>\n",
              "    <tr>\n",
              "      <th>428</th>\n",
              "      <td>011875f0176909c5cf0b14a9138bb691</td>\n",
              "      <td>2017-03-18</td>\n",
              "      <td>3999.9</td>\n",
              "    </tr>\n",
              "    <tr>\n",
              "      <th>451</th>\n",
              "      <td>0129d48dce554d95f641d01eaa88904a</td>\n",
              "      <td>2018-03-15</td>\n",
              "      <td>1390.0</td>\n",
              "    </tr>\n",
              "    <tr>\n",
              "      <th>...</th>\n",
              "      <td>...</td>\n",
              "      <td>...</td>\n",
              "      <td>...</td>\n",
              "    </tr>\n",
              "    <tr>\n",
              "      <th>97586</th>\n",
              "      <td>ff4159b92c40ebe40454e3e6a7c35ed6</td>\n",
              "      <td>2017-05-24</td>\n",
              "      <td>6499.0</td>\n",
              "    </tr>\n",
              "    <tr>\n",
              "      <th>97655</th>\n",
              "      <td>ff6c9c45f6cee4ec0785650b18322d73</td>\n",
              "      <td>2018-07-18</td>\n",
              "      <td>1499.0</td>\n",
              "    </tr>\n",
              "    <tr>\n",
              "      <th>97778</th>\n",
              "      <td>ffba9f9dff87b05e310ecc46c8591044</td>\n",
              "      <td>2017-02-27</td>\n",
              "      <td>1591.2</td>\n",
              "    </tr>\n",
              "    <tr>\n",
              "      <th>97864</th>\n",
              "      <td>fff5eb4918b2bf4b2da476788d42051c</td>\n",
              "      <td>2018-07-02</td>\n",
              "      <td>1050.0</td>\n",
              "    </tr>\n",
              "    <tr>\n",
              "      <th>97872</th>\n",
              "      <td>fffcf5a5ff07b0908bd4e2dbc735a684</td>\n",
              "      <td>2017-06-08</td>\n",
              "      <td>1570.0</td>\n",
              "    </tr>\n",
              "  </tbody>\n",
              "</table>\n",
              "<p>927 rows × 3 columns</p>\n",
              "</div>"
            ],
            "text/plain": [
              "                     customer_unique_id        date  revenue\n",
              "135    005226be8d5b972d0f72b4e8a79f322b  2018-04-01   1561.0\n",
              "264    00adeda9b742746c0c66e10d00ea1b74  2017-11-07   2078.5\n",
              "297    00c07da5ba0e07b4f248a3a373b07476  2018-07-27   2258.0\n",
              "428    011875f0176909c5cf0b14a9138bb691  2017-03-18   3999.9\n",
              "451    0129d48dce554d95f641d01eaa88904a  2018-03-15   1390.0\n",
              "...                                 ...         ...      ...\n",
              "97586  ff4159b92c40ebe40454e3e6a7c35ed6  2017-05-24   6499.0\n",
              "97655  ff6c9c45f6cee4ec0785650b18322d73  2018-07-18   1499.0\n",
              "97778  ffba9f9dff87b05e310ecc46c8591044  2017-02-27   1591.2\n",
              "97864  fff5eb4918b2bf4b2da476788d42051c  2018-07-02   1050.0\n",
              "97872  fffcf5a5ff07b0908bd4e2dbc735a684  2017-06-08   1570.0\n",
              "\n",
              "[927 rows x 3 columns]"
            ]
          },
          "metadata": {},
          "execution_count": 61
        }
      ]
    },
    {
      "cell_type": "markdown",
      "metadata": {
        "id": "3-5lqfzsUiGr"
      },
      "source": [
        "extracting customer_unique_id based on some threshold limit example considering only customer who's revenue is greater than $100"
      ]
    },
    {
      "cell_type": "code",
      "metadata": {
        "colab": {
          "base_uri": "https://localhost:8080/"
        },
        "id": "0roAG7InUiGr",
        "outputId": "84823424-a6fd-4898-be99-49eb98cb89bb"
      },
      "source": [
        "orderCusDetails['customer_unique_id'].nunique()"
      ],
      "execution_count": 62,
      "outputs": [
        {
          "output_type": "execute_result",
          "data": {
            "text/plain": [
              "95560"
            ]
          },
          "metadata": {},
          "execution_count": 62
        }
      ]
    },
    {
      "cell_type": "code",
      "metadata": {
        "id": "7oCNq8kBUiGr"
      },
      "source": [
        "# making copy of the dataframe\n",
        "df = orderCusDetails.copy()"
      ],
      "execution_count": 63,
      "outputs": []
    },
    {
      "cell_type": "code",
      "metadata": {
        "colab": {
          "base_uri": "https://localhost:8080/"
        },
        "id": "d25QoCq9UiGs",
        "outputId": "2ecf8cfb-cf49-415e-84a7-3615b4bea600"
      },
      "source": [
        "# Getting the older and newer purchase date\n",
        "print('Older purchase date:{}, Latest purchase date:{}'.format(min(df['date']),max(df['date'])))\n",
        "lastDate = max(df['date']) + dt.timedelta(1)\n",
        "print(lastDate)"
      ],
      "execution_count": 64,
      "outputs": [
        {
          "output_type": "stream",
          "name": "stdout",
          "text": [
            "Older purchase date:2016-09-04, Latest purchase date:2018-09-03\n",
            "2018-09-04\n"
          ]
        }
      ]
    },
    {
      "cell_type": "markdown",
      "metadata": {
        "id": "0JpyFQjnUiGs"
      },
      "source": [
        "# <font color='red'>Sorting the customer based on Duration"
      ]
    },
    {
      "cell_type": "raw",
      "metadata": {
        "id": "FkV6h-KsUiGs"
      },
      "source": [
        "'Duration' represents the age of the customer in days. This is  duration between a customer’s first purchase and the end of the period under study."
      ]
    },
    {
      "cell_type": "code",
      "metadata": {
        "colab": {
          "base_uri": "https://localhost:8080/",
          "height": 424
        },
        "id": "uVVjsVuOUiG0",
        "outputId": "33789d57-76a7-4a4b-f45d-218048fb2a49"
      },
      "source": [
        "df1 = df.groupby('customer_unique_id') .agg({'date': lambda x:(lastDate - x.min()).days}).reset_index()\n",
        "df1.rename(columns = {'date':'Duration'}, inplace = True)\n",
        "df1"
      ],
      "execution_count": 65,
      "outputs": [
        {
          "output_type": "execute_result",
          "data": {
            "text/html": [
              "<div>\n",
              "<style scoped>\n",
              "    .dataframe tbody tr th:only-of-type {\n",
              "        vertical-align: middle;\n",
              "    }\n",
              "\n",
              "    .dataframe tbody tr th {\n",
              "        vertical-align: top;\n",
              "    }\n",
              "\n",
              "    .dataframe thead th {\n",
              "        text-align: right;\n",
              "    }\n",
              "</style>\n",
              "<table border=\"1\" class=\"dataframe\">\n",
              "  <thead>\n",
              "    <tr style=\"text-align: right;\">\n",
              "      <th></th>\n",
              "      <th>customer_unique_id</th>\n",
              "      <th>Duration</th>\n",
              "    </tr>\n",
              "  </thead>\n",
              "  <tbody>\n",
              "    <tr>\n",
              "      <th>0</th>\n",
              "      <td>0000366f3b9a7992bf8c76cfdf3221e2</td>\n",
              "      <td>117</td>\n",
              "    </tr>\n",
              "    <tr>\n",
              "      <th>1</th>\n",
              "      <td>0000b849f77a49e4a4ce2b2a4ca5be3f</td>\n",
              "      <td>120</td>\n",
              "    </tr>\n",
              "    <tr>\n",
              "      <th>2</th>\n",
              "      <td>0000f46a3911fa3c0805444483337064</td>\n",
              "      <td>543</td>\n",
              "    </tr>\n",
              "    <tr>\n",
              "      <th>3</th>\n",
              "      <td>0000f6ccb0745a6a4b88665a16c9f078</td>\n",
              "      <td>327</td>\n",
              "    </tr>\n",
              "    <tr>\n",
              "      <th>4</th>\n",
              "      <td>0004aac84e0df4da2b147fca70cf8255</td>\n",
              "      <td>294</td>\n",
              "    </tr>\n",
              "    <tr>\n",
              "      <th>...</th>\n",
              "      <td>...</td>\n",
              "      <td>...</td>\n",
              "    </tr>\n",
              "    <tr>\n",
              "      <th>95555</th>\n",
              "      <td>fffcf5a5ff07b0908bd4e2dbc735a684</td>\n",
              "      <td>453</td>\n",
              "    </tr>\n",
              "    <tr>\n",
              "      <th>95556</th>\n",
              "      <td>fffea47cd6d3cc0a88bd621562a9d061</td>\n",
              "      <td>268</td>\n",
              "    </tr>\n",
              "    <tr>\n",
              "      <th>95557</th>\n",
              "      <td>ffff371b4d645b6ecea244b27531430a</td>\n",
              "      <td>574</td>\n",
              "    </tr>\n",
              "    <tr>\n",
              "      <th>95558</th>\n",
              "      <td>ffff5962728ec6157033ef9805bacc48</td>\n",
              "      <td>125</td>\n",
              "    </tr>\n",
              "    <tr>\n",
              "      <th>95559</th>\n",
              "      <td>ffffd2657e2aad2907e67c3e9daecbeb</td>\n",
              "      <td>490</td>\n",
              "    </tr>\n",
              "  </tbody>\n",
              "</table>\n",
              "<p>95560 rows × 2 columns</p>\n",
              "</div>"
            ],
            "text/plain": [
              "                     customer_unique_id  Duration\n",
              "0      0000366f3b9a7992bf8c76cfdf3221e2       117\n",
              "1      0000b849f77a49e4a4ce2b2a4ca5be3f       120\n",
              "2      0000f46a3911fa3c0805444483337064       543\n",
              "3      0000f6ccb0745a6a4b88665a16c9f078       327\n",
              "4      0004aac84e0df4da2b147fca70cf8255       294\n",
              "...                                 ...       ...\n",
              "95555  fffcf5a5ff07b0908bd4e2dbc735a684       453\n",
              "95556  fffea47cd6d3cc0a88bd621562a9d061       268\n",
              "95557  ffff371b4d645b6ecea244b27531430a       574\n",
              "95558  ffff5962728ec6157033ef9805bacc48       125\n",
              "95559  ffffd2657e2aad2907e67c3e9daecbeb       490\n",
              "\n",
              "[95560 rows x 2 columns]"
            ]
          },
          "metadata": {},
          "execution_count": 65
        }
      ]
    },
    {
      "cell_type": "markdown",
      "metadata": {
        "id": "saIBRohzUiG1"
      },
      "source": [
        "This analysis tells us how long the customer is involved in the shopping."
      ]
    },
    {
      "cell_type": "code",
      "metadata": {
        "colab": {
          "base_uri": "https://localhost:8080/",
          "height": 424
        },
        "id": "-G2RzQYqUiG1",
        "outputId": "f6410d4c-0c2d-49cd-85fe-aa5545362a1b"
      },
      "source": [
        "test = df1.sort_values(by=['Duration'],ascending=False)\n",
        "test"
      ],
      "execution_count": 66,
      "outputs": [
        {
          "output_type": "execute_result",
          "data": {
            "text/html": [
              "<div>\n",
              "<style scoped>\n",
              "    .dataframe tbody tr th:only-of-type {\n",
              "        vertical-align: middle;\n",
              "    }\n",
              "\n",
              "    .dataframe tbody tr th {\n",
              "        vertical-align: top;\n",
              "    }\n",
              "\n",
              "    .dataframe thead th {\n",
              "        text-align: right;\n",
              "    }\n",
              "</style>\n",
              "<table border=\"1\" class=\"dataframe\">\n",
              "  <thead>\n",
              "    <tr style=\"text-align: right;\">\n",
              "      <th></th>\n",
              "      <th>customer_unique_id</th>\n",
              "      <th>Duration</th>\n",
              "    </tr>\n",
              "  </thead>\n",
              "  <tbody>\n",
              "    <tr>\n",
              "      <th>68711</th>\n",
              "      <td>b7d76e111c89f7ebf14761390f0f7d17</td>\n",
              "      <td>730</td>\n",
              "    </tr>\n",
              "    <tr>\n",
              "      <th>49038</th>\n",
              "      <td>830d5b7aaa3b6f1e9ad63703bec97d23</td>\n",
              "      <td>719</td>\n",
              "    </tr>\n",
              "    <tr>\n",
              "      <th>17772</th>\n",
              "      <td>2f64e403852e6893ae37485d5fcacdaf</td>\n",
              "      <td>701</td>\n",
              "    </tr>\n",
              "    <tr>\n",
              "      <th>36687</th>\n",
              "      <td>61db744d2f835035a5625b59350c6b63</td>\n",
              "      <td>701</td>\n",
              "    </tr>\n",
              "    <tr>\n",
              "      <th>50608</th>\n",
              "      <td>87776adb449c551e74c13fc34f036105</td>\n",
              "      <td>701</td>\n",
              "    </tr>\n",
              "    <tr>\n",
              "      <th>...</th>\n",
              "      <td>...</td>\n",
              "      <td>...</td>\n",
              "    </tr>\n",
              "    <tr>\n",
              "      <th>4689</th>\n",
              "      <td>0c6d7218d5f3fa14514fd29865269993</td>\n",
              "      <td>6</td>\n",
              "    </tr>\n",
              "    <tr>\n",
              "      <th>45660</th>\n",
              "      <td>7a22d14aa3c3599238509ddca4b93b01</td>\n",
              "      <td>6</td>\n",
              "    </tr>\n",
              "    <tr>\n",
              "      <th>47867</th>\n",
              "      <td>7febafa06d9d8f232a900a2937f04338</td>\n",
              "      <td>6</td>\n",
              "    </tr>\n",
              "    <tr>\n",
              "      <th>1545</th>\n",
              "      <td>0421e7a23f21e5d54efed456aedbc513</td>\n",
              "      <td>6</td>\n",
              "    </tr>\n",
              "    <tr>\n",
              "      <th>13752</th>\n",
              "      <td>24ac2b4327e25baf39f2119e4228976a</td>\n",
              "      <td>6</td>\n",
              "    </tr>\n",
              "  </tbody>\n",
              "</table>\n",
              "<p>95560 rows × 2 columns</p>\n",
              "</div>"
            ],
            "text/plain": [
              "                     customer_unique_id  Duration\n",
              "68711  b7d76e111c89f7ebf14761390f0f7d17       730\n",
              "49038  830d5b7aaa3b6f1e9ad63703bec97d23       719\n",
              "17772  2f64e403852e6893ae37485d5fcacdaf       701\n",
              "36687  61db744d2f835035a5625b59350c6b63       701\n",
              "50608  87776adb449c551e74c13fc34f036105       701\n",
              "...                                 ...       ...\n",
              "4689   0c6d7218d5f3fa14514fd29865269993         6\n",
              "45660  7a22d14aa3c3599238509ddca4b93b01         6\n",
              "47867  7febafa06d9d8f232a900a2937f04338         6\n",
              "1545   0421e7a23f21e5d54efed456aedbc513         6\n",
              "13752  24ac2b4327e25baf39f2119e4228976a         6\n",
              "\n",
              "[95560 rows x 2 columns]"
            ]
          },
          "metadata": {},
          "execution_count": 66
        }
      ]
    },
    {
      "cell_type": "markdown",
      "metadata": {
        "id": "yJttCoRLUiG1"
      },
      "source": [
        "Sorting based on number of days the customer actively involved in shopping."
      ]
    },
    {
      "cell_type": "markdown",
      "metadata": {
        "id": "l4xIZW1NUiG1"
      },
      "source": [
        "# <font color='red'>Sorting the customer based on Recency"
      ]
    },
    {
      "cell_type": "raw",
      "metadata": {
        "id": "AWFkbQ4yUiG2"
      },
      "source": [
        "'Recency' represents the age of the customer when they made their most recent purchases. This is equal to the duration between a customer’s first purchase and their latest purchase. (Thus if they have made only 1 purchase, the recency is 0.)"
      ]
    },
    {
      "cell_type": "code",
      "metadata": {
        "colab": {
          "base_uri": "https://localhost:8080/",
          "height": 424
        },
        "id": "_vHOga90UiG2",
        "outputId": "f4edd709-ac54-48f0-ed0f-710de0b4338c"
      },
      "source": [
        "df2 = df.groupby('customer_unique_id').agg({'date': lambda x:(x.max() - x.min()).days}).reset_index()\n",
        "df2.rename(columns = {'date':'recency'}, inplace = True)\n",
        "df2"
      ],
      "execution_count": 67,
      "outputs": [
        {
          "output_type": "execute_result",
          "data": {
            "text/html": [
              "<div>\n",
              "<style scoped>\n",
              "    .dataframe tbody tr th:only-of-type {\n",
              "        vertical-align: middle;\n",
              "    }\n",
              "\n",
              "    .dataframe tbody tr th {\n",
              "        vertical-align: top;\n",
              "    }\n",
              "\n",
              "    .dataframe thead th {\n",
              "        text-align: right;\n",
              "    }\n",
              "</style>\n",
              "<table border=\"1\" class=\"dataframe\">\n",
              "  <thead>\n",
              "    <tr style=\"text-align: right;\">\n",
              "      <th></th>\n",
              "      <th>customer_unique_id</th>\n",
              "      <th>recency</th>\n",
              "    </tr>\n",
              "  </thead>\n",
              "  <tbody>\n",
              "    <tr>\n",
              "      <th>0</th>\n",
              "      <td>0000366f3b9a7992bf8c76cfdf3221e2</td>\n",
              "      <td>0</td>\n",
              "    </tr>\n",
              "    <tr>\n",
              "      <th>1</th>\n",
              "      <td>0000b849f77a49e4a4ce2b2a4ca5be3f</td>\n",
              "      <td>0</td>\n",
              "    </tr>\n",
              "    <tr>\n",
              "      <th>2</th>\n",
              "      <td>0000f46a3911fa3c0805444483337064</td>\n",
              "      <td>0</td>\n",
              "    </tr>\n",
              "    <tr>\n",
              "      <th>3</th>\n",
              "      <td>0000f6ccb0745a6a4b88665a16c9f078</td>\n",
              "      <td>0</td>\n",
              "    </tr>\n",
              "    <tr>\n",
              "      <th>4</th>\n",
              "      <td>0004aac84e0df4da2b147fca70cf8255</td>\n",
              "      <td>0</td>\n",
              "    </tr>\n",
              "    <tr>\n",
              "      <th>...</th>\n",
              "      <td>...</td>\n",
              "      <td>...</td>\n",
              "    </tr>\n",
              "    <tr>\n",
              "      <th>95555</th>\n",
              "      <td>fffcf5a5ff07b0908bd4e2dbc735a684</td>\n",
              "      <td>0</td>\n",
              "    </tr>\n",
              "    <tr>\n",
              "      <th>95556</th>\n",
              "      <td>fffea47cd6d3cc0a88bd621562a9d061</td>\n",
              "      <td>0</td>\n",
              "    </tr>\n",
              "    <tr>\n",
              "      <th>95557</th>\n",
              "      <td>ffff371b4d645b6ecea244b27531430a</td>\n",
              "      <td>0</td>\n",
              "    </tr>\n",
              "    <tr>\n",
              "      <th>95558</th>\n",
              "      <td>ffff5962728ec6157033ef9805bacc48</td>\n",
              "      <td>0</td>\n",
              "    </tr>\n",
              "    <tr>\n",
              "      <th>95559</th>\n",
              "      <td>ffffd2657e2aad2907e67c3e9daecbeb</td>\n",
              "      <td>0</td>\n",
              "    </tr>\n",
              "  </tbody>\n",
              "</table>\n",
              "<p>95560 rows × 2 columns</p>\n",
              "</div>"
            ],
            "text/plain": [
              "                     customer_unique_id  recency\n",
              "0      0000366f3b9a7992bf8c76cfdf3221e2        0\n",
              "1      0000b849f77a49e4a4ce2b2a4ca5be3f        0\n",
              "2      0000f46a3911fa3c0805444483337064        0\n",
              "3      0000f6ccb0745a6a4b88665a16c9f078        0\n",
              "4      0004aac84e0df4da2b147fca70cf8255        0\n",
              "...                                 ...      ...\n",
              "95555  fffcf5a5ff07b0908bd4e2dbc735a684        0\n",
              "95556  fffea47cd6d3cc0a88bd621562a9d061        0\n",
              "95557  ffff371b4d645b6ecea244b27531430a        0\n",
              "95558  ffff5962728ec6157033ef9805bacc48        0\n",
              "95559  ffffd2657e2aad2907e67c3e9daecbeb        0\n",
              "\n",
              "[95560 rows x 2 columns]"
            ]
          },
          "metadata": {},
          "execution_count": 67
        }
      ]
    },
    {
      "cell_type": "code",
      "metadata": {
        "colab": {
          "base_uri": "https://localhost:8080/",
          "height": 81
        },
        "id": "VhKaOgVxUiG2",
        "outputId": "d015296b-2f15-41dc-f85d-f9bb3aa8ef53"
      },
      "source": [
        "# checking recency \n",
        "df2[df2['customer_unique_id'] == '12f5d6e1cbf93dafd9dcc19095df0b3d']"
      ],
      "execution_count": 68,
      "outputs": [
        {
          "output_type": "execute_result",
          "data": {
            "text/html": [
              "<div>\n",
              "<style scoped>\n",
              "    .dataframe tbody tr th:only-of-type {\n",
              "        vertical-align: middle;\n",
              "    }\n",
              "\n",
              "    .dataframe tbody tr th {\n",
              "        vertical-align: top;\n",
              "    }\n",
              "\n",
              "    .dataframe thead th {\n",
              "        text-align: right;\n",
              "    }\n",
              "</style>\n",
              "<table border=\"1\" class=\"dataframe\">\n",
              "  <thead>\n",
              "    <tr style=\"text-align: right;\">\n",
              "      <th></th>\n",
              "      <th>customer_unique_id</th>\n",
              "      <th>recency</th>\n",
              "    </tr>\n",
              "  </thead>\n",
              "  <tbody>\n",
              "    <tr>\n",
              "      <th>7131</th>\n",
              "      <td>12f5d6e1cbf93dafd9dcc19095df0b3d</td>\n",
              "      <td>0</td>\n",
              "    </tr>\n",
              "  </tbody>\n",
              "</table>\n",
              "</div>"
            ],
            "text/plain": [
              "                    customer_unique_id  recency\n",
              "7131  12f5d6e1cbf93dafd9dcc19095df0b3d        0"
            ]
          },
          "metadata": {},
          "execution_count": 68
        }
      ]
    },
    {
      "cell_type": "markdown",
      "metadata": {
        "id": "d4ARIOO3UiG3"
      },
      "source": [
        "recency can be found for the selecting customer."
      ]
    },
    {
      "cell_type": "code",
      "metadata": {
        "colab": {
          "base_uri": "https://localhost:8080/",
          "height": 424
        },
        "id": "ao0m5kYuUiG3",
        "outputId": "348728a7-110a-47b0-b8cc-439c4f2c1edb"
      },
      "source": [
        "# considering the customer who has made more than one purchase.\n",
        "df2[df2['recency'] != 0]"
      ],
      "execution_count": 69,
      "outputs": [
        {
          "output_type": "execute_result",
          "data": {
            "text/html": [
              "<div>\n",
              "<style scoped>\n",
              "    .dataframe tbody tr th:only-of-type {\n",
              "        vertical-align: middle;\n",
              "    }\n",
              "\n",
              "    .dataframe tbody tr th {\n",
              "        vertical-align: top;\n",
              "    }\n",
              "\n",
              "    .dataframe thead th {\n",
              "        text-align: right;\n",
              "    }\n",
              "</style>\n",
              "<table border=\"1\" class=\"dataframe\">\n",
              "  <thead>\n",
              "    <tr style=\"text-align: right;\">\n",
              "      <th></th>\n",
              "      <th>customer_unique_id</th>\n",
              "      <th>recency</th>\n",
              "    </tr>\n",
              "  </thead>\n",
              "  <tbody>\n",
              "    <tr>\n",
              "      <th>106</th>\n",
              "      <td>004288347e5e88a27ded2bb23747066c</td>\n",
              "      <td>171</td>\n",
              "    </tr>\n",
              "    <tr>\n",
              "      <th>124</th>\n",
              "      <td>004b45ec5c64187465168251cd1c9c2f</td>\n",
              "      <td>267</td>\n",
              "    </tr>\n",
              "    <tr>\n",
              "      <th>248</th>\n",
              "      <td>00a39521eb40f7012db50455bf083460</td>\n",
              "      <td>11</td>\n",
              "    </tr>\n",
              "    <tr>\n",
              "      <th>412</th>\n",
              "      <td>011575986092c30523ecb71ff10cb473</td>\n",
              "      <td>60</td>\n",
              "    </tr>\n",
              "    <tr>\n",
              "      <th>427</th>\n",
              "      <td>011b4adcd54683b480c4d841250a987f</td>\n",
              "      <td>177</td>\n",
              "    </tr>\n",
              "    <tr>\n",
              "      <th>...</th>\n",
              "      <td>...</td>\n",
              "      <td>...</td>\n",
              "    </tr>\n",
              "    <tr>\n",
              "      <th>95107</th>\n",
              "      <td>fed519569d16e690df6f89cb99d4e682</td>\n",
              "      <td>88</td>\n",
              "    </tr>\n",
              "    <tr>\n",
              "      <th>95175</th>\n",
              "      <td>ff03923ad1eb9e32304deb7f9b2a45c9</td>\n",
              "      <td>33</td>\n",
              "    </tr>\n",
              "    <tr>\n",
              "      <th>95223</th>\n",
              "      <td>ff22e30958c13ffe219db7d711e8f564</td>\n",
              "      <td>10</td>\n",
              "    </tr>\n",
              "    <tr>\n",
              "      <th>95382</th>\n",
              "      <td>ff8892f7c26aa0446da53d01b18df463</td>\n",
              "      <td>186</td>\n",
              "    </tr>\n",
              "    <tr>\n",
              "      <th>95400</th>\n",
              "      <td>ff922bdd6bafcdf99cb90d7f39cea5b3</td>\n",
              "      <td>204</td>\n",
              "    </tr>\n",
              "  </tbody>\n",
              "</table>\n",
              "<p>2092 rows × 2 columns</p>\n",
              "</div>"
            ],
            "text/plain": [
              "                     customer_unique_id  recency\n",
              "106    004288347e5e88a27ded2bb23747066c      171\n",
              "124    004b45ec5c64187465168251cd1c9c2f      267\n",
              "248    00a39521eb40f7012db50455bf083460       11\n",
              "412    011575986092c30523ecb71ff10cb473       60\n",
              "427    011b4adcd54683b480c4d841250a987f      177\n",
              "...                                 ...      ...\n",
              "95107  fed519569d16e690df6f89cb99d4e682       88\n",
              "95175  ff03923ad1eb9e32304deb7f9b2a45c9       33\n",
              "95223  ff22e30958c13ffe219db7d711e8f564       10\n",
              "95382  ff8892f7c26aa0446da53d01b18df463      186\n",
              "95400  ff922bdd6bafcdf99cb90d7f39cea5b3      204\n",
              "\n",
              "[2092 rows x 2 columns]"
            ]
          },
          "metadata": {},
          "execution_count": 69
        }
      ]
    },
    {
      "cell_type": "markdown",
      "metadata": {
        "id": "p5HyCJX_UiG3"
      },
      "source": [
        "The above analysis shows the purchase made by the customer more than once."
      ]
    },
    {
      "cell_type": "code",
      "metadata": {
        "colab": {
          "base_uri": "https://localhost:8080/",
          "height": 1000
        },
        "id": "54jxRIjSUiG3",
        "outputId": "649ba71e-cbc3-41a0-dd71-fff877dba83e"
      },
      "source": [
        "df2.sort_values(by=['recency'],ascending=False).head(50)"
      ],
      "execution_count": 70,
      "outputs": [
        {
          "output_type": "execute_result",
          "data": {
            "text/html": [
              "<div>\n",
              "<style scoped>\n",
              "    .dataframe tbody tr th:only-of-type {\n",
              "        vertical-align: middle;\n",
              "    }\n",
              "\n",
              "    .dataframe tbody tr th {\n",
              "        vertical-align: top;\n",
              "    }\n",
              "\n",
              "    .dataframe thead th {\n",
              "        text-align: right;\n",
              "    }\n",
              "</style>\n",
              "<table border=\"1\" class=\"dataframe\">\n",
              "  <thead>\n",
              "    <tr style=\"text-align: right;\">\n",
              "      <th></th>\n",
              "      <th>customer_unique_id</th>\n",
              "      <th>recency</th>\n",
              "    </tr>\n",
              "  </thead>\n",
              "  <tbody>\n",
              "    <tr>\n",
              "      <th>19056</th>\n",
              "      <td>32ea3bdedab835c3aa6cb68ce66565ef</td>\n",
              "      <td>633</td>\n",
              "    </tr>\n",
              "    <tr>\n",
              "      <th>76491</th>\n",
              "      <td>ccafc1c3f270410521c3c6f3b249870f</td>\n",
              "      <td>609</td>\n",
              "    </tr>\n",
              "    <tr>\n",
              "      <th>81074</th>\n",
              "      <td>d8f3c4f441a9b59a29f977df16724f38</td>\n",
              "      <td>583</td>\n",
              "    </tr>\n",
              "    <tr>\n",
              "      <th>55554</th>\n",
              "      <td>94e5ea5a8c1bf546db2739673060c43f</td>\n",
              "      <td>581</td>\n",
              "    </tr>\n",
              "    <tr>\n",
              "      <th>50699</th>\n",
              "      <td>87b3f231705783eb2217e25851c0a45d</td>\n",
              "      <td>573</td>\n",
              "    </tr>\n",
              "    <tr>\n",
              "      <th>53473</th>\n",
              "      <td>8f6ce2295bdbec03cd50e34b4bd7ba0a</td>\n",
              "      <td>537</td>\n",
              "    </tr>\n",
              "    <tr>\n",
              "      <th>18267</th>\n",
              "      <td>30b782a79466007756f170cb5bd6bbd8</td>\n",
              "      <td>525</td>\n",
              "    </tr>\n",
              "    <tr>\n",
              "      <th>60407</th>\n",
              "      <td>a1c61f8566347ec44ea37d22854634a1</td>\n",
              "      <td>524</td>\n",
              "    </tr>\n",
              "    <tr>\n",
              "      <th>29259</th>\n",
              "      <td>4e23e1826902ec9f208e8cc61329b494</td>\n",
              "      <td>524</td>\n",
              "    </tr>\n",
              "    <tr>\n",
              "      <th>60660</th>\n",
              "      <td>a262442e3ab89611b44877c7aaf77468</td>\n",
              "      <td>522</td>\n",
              "    </tr>\n",
              "    <tr>\n",
              "      <th>35594</th>\n",
              "      <td>5eefb861d4921a3e628bbc65c50a480a</td>\n",
              "      <td>518</td>\n",
              "    </tr>\n",
              "    <tr>\n",
              "      <th>9308</th>\n",
              "      <td>18bc87094128bbfe943cf88adcf72059</td>\n",
              "      <td>515</td>\n",
              "    </tr>\n",
              "    <tr>\n",
              "      <th>47335</th>\n",
              "      <td>7e7301841ddb4064c2f3a31e4c154932</td>\n",
              "      <td>514</td>\n",
              "    </tr>\n",
              "    <tr>\n",
              "      <th>10299</th>\n",
              "      <td>1b6e96ed99cb8d135efe220d761bbd67</td>\n",
              "      <td>511</td>\n",
              "    </tr>\n",
              "    <tr>\n",
              "      <th>13527</th>\n",
              "      <td>24072811917876a84c81166f96aed0c1</td>\n",
              "      <td>511</td>\n",
              "    </tr>\n",
              "    <tr>\n",
              "      <th>24164</th>\n",
              "      <td>408aee96c75632a92e5079eee61da399</td>\n",
              "      <td>506</td>\n",
              "    </tr>\n",
              "    <tr>\n",
              "      <th>56454</th>\n",
              "      <td>97258e1c1f77f32358eccd1c9ee5954d</td>\n",
              "      <td>505</td>\n",
              "    </tr>\n",
              "    <tr>\n",
              "      <th>47652</th>\n",
              "      <td>7f5dcde4d292354dd5e6968a27971126</td>\n",
              "      <td>493</td>\n",
              "    </tr>\n",
              "    <tr>\n",
              "      <th>85658</th>\n",
              "      <td>e53fd5575f1418397aae732c5755b6fc</td>\n",
              "      <td>492</td>\n",
              "    </tr>\n",
              "    <tr>\n",
              "      <th>29045</th>\n",
              "      <td>4d9e104764077f7dfae917c7cc803212</td>\n",
              "      <td>489</td>\n",
              "    </tr>\n",
              "    <tr>\n",
              "      <th>26346</th>\n",
              "      <td>4658b26bcea972ed0b86a5f8c61718be</td>\n",
              "      <td>489</td>\n",
              "    </tr>\n",
              "    <tr>\n",
              "      <th>17354</th>\n",
              "      <td>2e49a3bbeb76297ee0ff49df39c2456c</td>\n",
              "      <td>485</td>\n",
              "    </tr>\n",
              "    <tr>\n",
              "      <th>94102</th>\n",
              "      <td>fc19fe9ac733e36ff8227c29435c2030</td>\n",
              "      <td>483</td>\n",
              "    </tr>\n",
              "    <tr>\n",
              "      <th>10324</th>\n",
              "      <td>1b7b7f9631cd453251d0b328c9b38a2a</td>\n",
              "      <td>482</td>\n",
              "    </tr>\n",
              "    <tr>\n",
              "      <th>24779</th>\n",
              "      <td>423d40b193638955a782839886648464</td>\n",
              "      <td>472</td>\n",
              "    </tr>\n",
              "    <tr>\n",
              "      <th>84491</th>\n",
              "      <td>e219a439f6ca99e32824bcc7153969c9</td>\n",
              "      <td>469</td>\n",
              "    </tr>\n",
              "    <tr>\n",
              "      <th>22100</th>\n",
              "      <td>3af90f255e824d1d53b3584a4e89ad58</td>\n",
              "      <td>467</td>\n",
              "    </tr>\n",
              "    <tr>\n",
              "      <th>64660</th>\n",
              "      <td>acf91aaa6f337456d3c506a5a494552c</td>\n",
              "      <td>462</td>\n",
              "    </tr>\n",
              "    <tr>\n",
              "      <th>52676</th>\n",
              "      <td>8d50f5eadf50201ccdcedfb9e2ac8455</td>\n",
              "      <td>462</td>\n",
              "    </tr>\n",
              "    <tr>\n",
              "      <th>82341</th>\n",
              "      <td>dc48b0a1b0e6abb6586f322c189f6b93</td>\n",
              "      <td>459</td>\n",
              "    </tr>\n",
              "    <tr>\n",
              "      <th>26566</th>\n",
              "      <td>46ed126bcf1df6e195dbc63d7c320983</td>\n",
              "      <td>457</td>\n",
              "    </tr>\n",
              "    <tr>\n",
              "      <th>42533</th>\n",
              "      <td>71a92fd3087501bcfba6e6e1ef7e8fd7</td>\n",
              "      <td>457</td>\n",
              "    </tr>\n",
              "    <tr>\n",
              "      <th>93903</th>\n",
              "      <td>fb920961e4d8e55fd9c357976a611765</td>\n",
              "      <td>456</td>\n",
              "    </tr>\n",
              "    <tr>\n",
              "      <th>24175</th>\n",
              "      <td>4092bf290aa60e4f2d4a0dcc2f38c954</td>\n",
              "      <td>455</td>\n",
              "    </tr>\n",
              "    <tr>\n",
              "      <th>11878</th>\n",
              "      <td>1f98e3467d2b48dfb44fc12b137d3447</td>\n",
              "      <td>455</td>\n",
              "    </tr>\n",
              "    <tr>\n",
              "      <th>18466</th>\n",
              "      <td>313febe2adc914a7cb3f6e903f8e13cf</td>\n",
              "      <td>453</td>\n",
              "    </tr>\n",
              "    <tr>\n",
              "      <th>46753</th>\n",
              "      <td>7cf08f01ab6a6a1365e1613989a65158</td>\n",
              "      <td>453</td>\n",
              "    </tr>\n",
              "    <tr>\n",
              "      <th>89252</th>\n",
              "      <td>eeea20d93b0e221411defcabab3c8949</td>\n",
              "      <td>449</td>\n",
              "    </tr>\n",
              "    <tr>\n",
              "      <th>26607</th>\n",
              "      <td>4702ba5faa8283e0f6b6a545cdaf8a9f</td>\n",
              "      <td>449</td>\n",
              "    </tr>\n",
              "    <tr>\n",
              "      <th>74536</th>\n",
              "      <td>c7819760e70376028f519e3b57e6c441</td>\n",
              "      <td>445</td>\n",
              "    </tr>\n",
              "    <tr>\n",
              "      <th>29354</th>\n",
              "      <td>4e65032f1f574189fb793bac5a867bbc</td>\n",
              "      <td>445</td>\n",
              "    </tr>\n",
              "    <tr>\n",
              "      <th>5599</th>\n",
              "      <td>0ef7b906320b21fe4d39f99496aaa2d8</td>\n",
              "      <td>444</td>\n",
              "    </tr>\n",
              "    <tr>\n",
              "      <th>555</th>\n",
              "      <td>0178b244a5c281fb2ade54038dd4b161</td>\n",
              "      <td>444</td>\n",
              "    </tr>\n",
              "    <tr>\n",
              "      <th>41582</th>\n",
              "      <td>6f1b9f60ea8ee748140353648c2d8d8f</td>\n",
              "      <td>442</td>\n",
              "    </tr>\n",
              "    <tr>\n",
              "      <th>61278</th>\n",
              "      <td>a4030b5e97ffc14114e66d82df860f6f</td>\n",
              "      <td>438</td>\n",
              "    </tr>\n",
              "    <tr>\n",
              "      <th>87922</th>\n",
              "      <td>eb4520b16c32518b6615f2d50f1be1bb</td>\n",
              "      <td>436</td>\n",
              "    </tr>\n",
              "    <tr>\n",
              "      <th>1533</th>\n",
              "      <td>041caba6a63ace5818387698ea85cdb2</td>\n",
              "      <td>435</td>\n",
              "    </tr>\n",
              "    <tr>\n",
              "      <th>45402</th>\n",
              "      <td>796214f3f3b496b3b116986185984393</td>\n",
              "      <td>434</td>\n",
              "    </tr>\n",
              "    <tr>\n",
              "      <th>34950</th>\n",
              "      <td>5d323409404dee6bdb0f6cf9ef828dae</td>\n",
              "      <td>433</td>\n",
              "    </tr>\n",
              "    <tr>\n",
              "      <th>75933</th>\n",
              "      <td>cb36d0f12c99d07935b706269045f613</td>\n",
              "      <td>432</td>\n",
              "    </tr>\n",
              "  </tbody>\n",
              "</table>\n",
              "</div>"
            ],
            "text/plain": [
              "                     customer_unique_id  recency\n",
              "19056  32ea3bdedab835c3aa6cb68ce66565ef      633\n",
              "76491  ccafc1c3f270410521c3c6f3b249870f      609\n",
              "81074  d8f3c4f441a9b59a29f977df16724f38      583\n",
              "55554  94e5ea5a8c1bf546db2739673060c43f      581\n",
              "50699  87b3f231705783eb2217e25851c0a45d      573\n",
              "53473  8f6ce2295bdbec03cd50e34b4bd7ba0a      537\n",
              "18267  30b782a79466007756f170cb5bd6bbd8      525\n",
              "60407  a1c61f8566347ec44ea37d22854634a1      524\n",
              "29259  4e23e1826902ec9f208e8cc61329b494      524\n",
              "60660  a262442e3ab89611b44877c7aaf77468      522\n",
              "35594  5eefb861d4921a3e628bbc65c50a480a      518\n",
              "9308   18bc87094128bbfe943cf88adcf72059      515\n",
              "47335  7e7301841ddb4064c2f3a31e4c154932      514\n",
              "10299  1b6e96ed99cb8d135efe220d761bbd67      511\n",
              "13527  24072811917876a84c81166f96aed0c1      511\n",
              "24164  408aee96c75632a92e5079eee61da399      506\n",
              "56454  97258e1c1f77f32358eccd1c9ee5954d      505\n",
              "47652  7f5dcde4d292354dd5e6968a27971126      493\n",
              "85658  e53fd5575f1418397aae732c5755b6fc      492\n",
              "29045  4d9e104764077f7dfae917c7cc803212      489\n",
              "26346  4658b26bcea972ed0b86a5f8c61718be      489\n",
              "17354  2e49a3bbeb76297ee0ff49df39c2456c      485\n",
              "94102  fc19fe9ac733e36ff8227c29435c2030      483\n",
              "10324  1b7b7f9631cd453251d0b328c9b38a2a      482\n",
              "24779  423d40b193638955a782839886648464      472\n",
              "84491  e219a439f6ca99e32824bcc7153969c9      469\n",
              "22100  3af90f255e824d1d53b3584a4e89ad58      467\n",
              "64660  acf91aaa6f337456d3c506a5a494552c      462\n",
              "52676  8d50f5eadf50201ccdcedfb9e2ac8455      462\n",
              "82341  dc48b0a1b0e6abb6586f322c189f6b93      459\n",
              "26566  46ed126bcf1df6e195dbc63d7c320983      457\n",
              "42533  71a92fd3087501bcfba6e6e1ef7e8fd7      457\n",
              "93903  fb920961e4d8e55fd9c357976a611765      456\n",
              "24175  4092bf290aa60e4f2d4a0dcc2f38c954      455\n",
              "11878  1f98e3467d2b48dfb44fc12b137d3447      455\n",
              "18466  313febe2adc914a7cb3f6e903f8e13cf      453\n",
              "46753  7cf08f01ab6a6a1365e1613989a65158      453\n",
              "89252  eeea20d93b0e221411defcabab3c8949      449\n",
              "26607  4702ba5faa8283e0f6b6a545cdaf8a9f      449\n",
              "74536  c7819760e70376028f519e3b57e6c441      445\n",
              "29354  4e65032f1f574189fb793bac5a867bbc      445\n",
              "5599   0ef7b906320b21fe4d39f99496aaa2d8      444\n",
              "555    0178b244a5c281fb2ade54038dd4b161      444\n",
              "41582  6f1b9f60ea8ee748140353648c2d8d8f      442\n",
              "61278  a4030b5e97ffc14114e66d82df860f6f      438\n",
              "87922  eb4520b16c32518b6615f2d50f1be1bb      436\n",
              "1533   041caba6a63ace5818387698ea85cdb2      435\n",
              "45402  796214f3f3b496b3b116986185984393      434\n",
              "34950  5d323409404dee6bdb0f6cf9ef828dae      433\n",
              "75933  cb36d0f12c99d07935b706269045f613      432"
            ]
          },
          "metadata": {},
          "execution_count": 70
        }
      ]
    },
    {
      "cell_type": "markdown",
      "metadata": {
        "id": "NZ_ADHS6UiG3"
      },
      "source": [
        "This analysis tells us if recency is higher means Customer actively involved in the purchase. If recency is 0 means customer has made shopping only once."
      ]
    },
    {
      "cell_type": "markdown",
      "metadata": {
        "id": "eMTHH5YtUiG4"
      },
      "source": [
        "# <font color='red'>Sorting the customer based on Freequency of purchase"
      ]
    },
    {
      "cell_type": "markdown",
      "metadata": {
        "id": "zuYoq8-eUiG4"
      },
      "source": [
        "'Frequency' represents the number of repeat purchases the customer has made. This means that it’s one less than the total number of purchases. This is actually slightly wrong. It’s the count of time periods the customer had a purchase in. So if using days as units, then it’s the count of days the customer had a purchase on."
      ]
    },
    {
      "cell_type": "code",
      "metadata": {
        "colab": {
          "base_uri": "https://localhost:8080/",
          "height": 424
        },
        "id": "zedKjhMKUiG4",
        "outputId": "c55c591a-e79a-41f6-e9d0-ea73a4af3a74"
      },
      "source": [
        "df3 = df.groupby(['customer_unique_id']).agg({'date': 'count'}).reset_index()\n",
        "df3.rename(columns = {'date':'frequency'},inplace = True)\n",
        "df3"
      ],
      "execution_count": 71,
      "outputs": [
        {
          "output_type": "execute_result",
          "data": {
            "text/html": [
              "<div>\n",
              "<style scoped>\n",
              "    .dataframe tbody tr th:only-of-type {\n",
              "        vertical-align: middle;\n",
              "    }\n",
              "\n",
              "    .dataframe tbody tr th {\n",
              "        vertical-align: top;\n",
              "    }\n",
              "\n",
              "    .dataframe thead th {\n",
              "        text-align: right;\n",
              "    }\n",
              "</style>\n",
              "<table border=\"1\" class=\"dataframe\">\n",
              "  <thead>\n",
              "    <tr style=\"text-align: right;\">\n",
              "      <th></th>\n",
              "      <th>customer_unique_id</th>\n",
              "      <th>frequency</th>\n",
              "    </tr>\n",
              "  </thead>\n",
              "  <tbody>\n",
              "    <tr>\n",
              "      <th>0</th>\n",
              "      <td>0000366f3b9a7992bf8c76cfdf3221e2</td>\n",
              "      <td>1</td>\n",
              "    </tr>\n",
              "    <tr>\n",
              "      <th>1</th>\n",
              "      <td>0000b849f77a49e4a4ce2b2a4ca5be3f</td>\n",
              "      <td>1</td>\n",
              "    </tr>\n",
              "    <tr>\n",
              "      <th>2</th>\n",
              "      <td>0000f46a3911fa3c0805444483337064</td>\n",
              "      <td>1</td>\n",
              "    </tr>\n",
              "    <tr>\n",
              "      <th>3</th>\n",
              "      <td>0000f6ccb0745a6a4b88665a16c9f078</td>\n",
              "      <td>1</td>\n",
              "    </tr>\n",
              "    <tr>\n",
              "      <th>4</th>\n",
              "      <td>0004aac84e0df4da2b147fca70cf8255</td>\n",
              "      <td>1</td>\n",
              "    </tr>\n",
              "    <tr>\n",
              "      <th>...</th>\n",
              "      <td>...</td>\n",
              "      <td>...</td>\n",
              "    </tr>\n",
              "    <tr>\n",
              "      <th>95555</th>\n",
              "      <td>fffcf5a5ff07b0908bd4e2dbc735a684</td>\n",
              "      <td>1</td>\n",
              "    </tr>\n",
              "    <tr>\n",
              "      <th>95556</th>\n",
              "      <td>fffea47cd6d3cc0a88bd621562a9d061</td>\n",
              "      <td>1</td>\n",
              "    </tr>\n",
              "    <tr>\n",
              "      <th>95557</th>\n",
              "      <td>ffff371b4d645b6ecea244b27531430a</td>\n",
              "      <td>1</td>\n",
              "    </tr>\n",
              "    <tr>\n",
              "      <th>95558</th>\n",
              "      <td>ffff5962728ec6157033ef9805bacc48</td>\n",
              "      <td>1</td>\n",
              "    </tr>\n",
              "    <tr>\n",
              "      <th>95559</th>\n",
              "      <td>ffffd2657e2aad2907e67c3e9daecbeb</td>\n",
              "      <td>1</td>\n",
              "    </tr>\n",
              "  </tbody>\n",
              "</table>\n",
              "<p>95560 rows × 2 columns</p>\n",
              "</div>"
            ],
            "text/plain": [
              "                     customer_unique_id  frequency\n",
              "0      0000366f3b9a7992bf8c76cfdf3221e2          1\n",
              "1      0000b849f77a49e4a4ce2b2a4ca5be3f          1\n",
              "2      0000f46a3911fa3c0805444483337064          1\n",
              "3      0000f6ccb0745a6a4b88665a16c9f078          1\n",
              "4      0004aac84e0df4da2b147fca70cf8255          1\n",
              "...                                 ...        ...\n",
              "95555  fffcf5a5ff07b0908bd4e2dbc735a684          1\n",
              "95556  fffea47cd6d3cc0a88bd621562a9d061          1\n",
              "95557  ffff371b4d645b6ecea244b27531430a          1\n",
              "95558  ffff5962728ec6157033ef9805bacc48          1\n",
              "95559  ffffd2657e2aad2907e67c3e9daecbeb          1\n",
              "\n",
              "[95560 rows x 2 columns]"
            ]
          },
          "metadata": {},
          "execution_count": 71
        }
      ]
    },
    {
      "cell_type": "code",
      "metadata": {
        "colab": {
          "base_uri": "https://localhost:8080/"
        },
        "id": "JWsIJCbQUiG4",
        "outputId": "c101e183-40dd-4354-bfd8-fcfd2ade6c3a"
      },
      "source": [
        "df3.frequency.unique()"
      ],
      "execution_count": 72,
      "outputs": [
        {
          "output_type": "execute_result",
          "data": {
            "text/plain": [
              "array([ 1,  2,  3,  4,  7,  5,  6, 17])"
            ]
          },
          "metadata": {},
          "execution_count": 72
        }
      ]
    },
    {
      "cell_type": "code",
      "metadata": {
        "colab": {
          "base_uri": "https://localhost:8080/"
        },
        "id": "wVkKwd4zUiG5",
        "outputId": "1d31da27-1f09-4530-f277-79c42481d545"
      },
      "source": [
        "df3.frequency.value_counts()"
      ],
      "execution_count": 73,
      "outputs": [
        {
          "output_type": "execute_result",
          "data": {
            "text/plain": [
              "1     93468\n",
              "2      1936\n",
              "3       123\n",
              "4        19\n",
              "6         6\n",
              "5         5\n",
              "7         2\n",
              "17        1\n",
              "Name: frequency, dtype: int64"
            ]
          },
          "metadata": {},
          "execution_count": 73
        }
      ]
    },
    {
      "cell_type": "code",
      "metadata": {
        "colab": {
          "base_uri": "https://localhost:8080/",
          "height": 466
        },
        "id": "jGhH2nTIUiG5",
        "outputId": "2362c70e-1f14-49ce-8943-222759fded98"
      },
      "source": [
        "plt.figure(figsize=(15,8))\n",
        "df3.frequency.value_counts().plot(kind='pie',autopct='%1.1f%%');"
      ],
      "execution_count": 74,
      "outputs": [
        {
          "output_type": "display_data",
          "data": {
            "image/png": "[encoded data removed]",
            "text/plain": [
              "<Figure size 1080x576 with 1 Axes>"
            ]
          },
          "metadata": {}
        }
      ]
    },
    {
      "cell_type": "code",
      "metadata": {
        "colab": {
          "base_uri": "https://localhost:8080/",
          "height": 424
        },
        "id": "W9yaQLybUiG5",
        "outputId": "698617fc-5246-449d-e1b2-96056c554e70"
      },
      "source": [
        "df3.sort_values(by=['frequency'],ascending=False)"
      ],
      "execution_count": 75,
      "outputs": [
        {
          "output_type": "execute_result",
          "data": {
            "text/html": [
              "<div>\n",
              "<style scoped>\n",
              "    .dataframe tbody tr th:only-of-type {\n",
              "        vertical-align: middle;\n",
              "    }\n",
              "\n",
              "    .dataframe tbody tr th {\n",
              "        vertical-align: top;\n",
              "    }\n",
              "\n",
              "    .dataframe thead th {\n",
              "        text-align: right;\n",
              "    }\n",
              "</style>\n",
              "<table border=\"1\" class=\"dataframe\">\n",
              "  <thead>\n",
              "    <tr style=\"text-align: right;\">\n",
              "      <th></th>\n",
              "      <th>customer_unique_id</th>\n",
              "      <th>frequency</th>\n",
              "    </tr>\n",
              "  </thead>\n",
              "  <tbody>\n",
              "    <tr>\n",
              "      <th>52676</th>\n",
              "      <td>8d50f5eadf50201ccdcedfb9e2ac8455</td>\n",
              "      <td>17</td>\n",
              "    </tr>\n",
              "    <tr>\n",
              "      <th>75650</th>\n",
              "      <td>ca77025e7201e3b30c44b472ff346268</td>\n",
              "      <td>7</td>\n",
              "    </tr>\n",
              "    <tr>\n",
              "      <th>10291</th>\n",
              "      <td>1b6c7548a2a1f9037c1fd3ddfed95f33</td>\n",
              "      <td>7</td>\n",
              "    </tr>\n",
              "    <tr>\n",
              "      <th>23342</th>\n",
              "      <td>3e43e6105506432c953e165fb2acf44c</td>\n",
              "      <td>6</td>\n",
              "    </tr>\n",
              "    <tr>\n",
              "      <th>37598</th>\n",
              "      <td>6469f99c1f9dfae7733b25662e7f1782</td>\n",
              "      <td>6</td>\n",
              "    </tr>\n",
              "    <tr>\n",
              "      <th>...</th>\n",
              "      <td>...</td>\n",
              "      <td>...</td>\n",
              "    </tr>\n",
              "    <tr>\n",
              "      <th>32209</th>\n",
              "      <td>56018f90d636604006ef92df10174bc0</td>\n",
              "      <td>1</td>\n",
              "    </tr>\n",
              "    <tr>\n",
              "      <th>32208</th>\n",
              "      <td>560046dc7dd7b822bb2f7f1e5e33a2c8</td>\n",
              "      <td>1</td>\n",
              "    </tr>\n",
              "    <tr>\n",
              "      <th>32207</th>\n",
              "      <td>55ff07e0b97b4b60d2e22b2efbc35ae0</td>\n",
              "      <td>1</td>\n",
              "    </tr>\n",
              "    <tr>\n",
              "      <th>32206</th>\n",
              "      <td>55fe382ae8056da66b8558080f08da46</td>\n",
              "      <td>1</td>\n",
              "    </tr>\n",
              "    <tr>\n",
              "      <th>95559</th>\n",
              "      <td>ffffd2657e2aad2907e67c3e9daecbeb</td>\n",
              "      <td>1</td>\n",
              "    </tr>\n",
              "  </tbody>\n",
              "</table>\n",
              "<p>95560 rows × 2 columns</p>\n",
              "</div>"
            ],
            "text/plain": [
              "                     customer_unique_id  frequency\n",
              "52676  8d50f5eadf50201ccdcedfb9e2ac8455         17\n",
              "75650  ca77025e7201e3b30c44b472ff346268          7\n",
              "10291  1b6c7548a2a1f9037c1fd3ddfed95f33          7\n",
              "23342  3e43e6105506432c953e165fb2acf44c          6\n",
              "37598  6469f99c1f9dfae7733b25662e7f1782          6\n",
              "...                                 ...        ...\n",
              "32209  56018f90d636604006ef92df10174bc0          1\n",
              "32208  560046dc7dd7b822bb2f7f1e5e33a2c8          1\n",
              "32207  55ff07e0b97b4b60d2e22b2efbc35ae0          1\n",
              "32206  55fe382ae8056da66b8558080f08da46          1\n",
              "95559  ffffd2657e2aad2907e67c3e9daecbeb          1\n",
              "\n",
              "[95560 rows x 2 columns]"
            ]
          },
          "metadata": {},
          "execution_count": 75
        }
      ]
    },
    {
      "cell_type": "markdown",
      "metadata": {
        "id": "uR2oMEUiUiG5"
      },
      "source": [
        "This analysis shows customer based on freequency of purchase."
      ]
    },
    {
      "cell_type": "markdown",
      "metadata": {
        "id": "x8vxsOjYUiG6"
      },
      "source": [
        "# <font color = 'red'>Sorting the customer based on average value of a given customer's purchase(Monetary value)."
      ]
    },
    {
      "cell_type": "raw",
      "metadata": {
        "id": "5MOVJODAUiG6"
      },
      "source": [
        "Monetary represents the average value of a given customer’s purchases. This is equal to the sum of all a customer’s purchases divided by the total number of purchases. "
      ]
    },
    {
      "cell_type": "code",
      "metadata": {
        "colab": {
          "base_uri": "https://localhost:8080/",
          "height": 424
        },
        "id": "ym7BEcx2UiG6",
        "outputId": "531fbd67-f7a2-4ced-e1f5-575319f5847b"
      },
      "source": [
        "df4 = df.groupby(['customer_unique_id']).agg({'revenue':'sum'}).reset_index()\n",
        "df4.rename(columns ={'revenue':'total_monetary'},inplace = True)\n",
        "df4"
      ],
      "execution_count": 76,
      "outputs": [
        {
          "output_type": "execute_result",
          "data": {
            "text/html": [
              "<div>\n",
              "<style scoped>\n",
              "    .dataframe tbody tr th:only-of-type {\n",
              "        vertical-align: middle;\n",
              "    }\n",
              "\n",
              "    .dataframe tbody tr th {\n",
              "        vertical-align: top;\n",
              "    }\n",
              "\n",
              "    .dataframe thead th {\n",
              "        text-align: right;\n",
              "    }\n",
              "</style>\n",
              "<table border=\"1\" class=\"dataframe\">\n",
              "  <thead>\n",
              "    <tr style=\"text-align: right;\">\n",
              "      <th></th>\n",
              "      <th>customer_unique_id</th>\n",
              "      <th>total_monetary</th>\n",
              "    </tr>\n",
              "  </thead>\n",
              "  <tbody>\n",
              "    <tr>\n",
              "      <th>0</th>\n",
              "      <td>0000366f3b9a7992bf8c76cfdf3221e2</td>\n",
              "      <td>129.90</td>\n",
              "    </tr>\n",
              "    <tr>\n",
              "      <th>1</th>\n",
              "      <td>0000b849f77a49e4a4ce2b2a4ca5be3f</td>\n",
              "      <td>18.90</td>\n",
              "    </tr>\n",
              "    <tr>\n",
              "      <th>2</th>\n",
              "      <td>0000f46a3911fa3c0805444483337064</td>\n",
              "      <td>69.00</td>\n",
              "    </tr>\n",
              "    <tr>\n",
              "      <th>3</th>\n",
              "      <td>0000f6ccb0745a6a4b88665a16c9f078</td>\n",
              "      <td>25.99</td>\n",
              "    </tr>\n",
              "    <tr>\n",
              "      <th>4</th>\n",
              "      <td>0004aac84e0df4da2b147fca70cf8255</td>\n",
              "      <td>180.00</td>\n",
              "    </tr>\n",
              "    <tr>\n",
              "      <th>...</th>\n",
              "      <td>...</td>\n",
              "      <td>...</td>\n",
              "    </tr>\n",
              "    <tr>\n",
              "      <th>95555</th>\n",
              "      <td>fffcf5a5ff07b0908bd4e2dbc735a684</td>\n",
              "      <td>1570.00</td>\n",
              "    </tr>\n",
              "    <tr>\n",
              "      <th>95556</th>\n",
              "      <td>fffea47cd6d3cc0a88bd621562a9d061</td>\n",
              "      <td>64.89</td>\n",
              "    </tr>\n",
              "    <tr>\n",
              "      <th>95557</th>\n",
              "      <td>ffff371b4d645b6ecea244b27531430a</td>\n",
              "      <td>89.90</td>\n",
              "    </tr>\n",
              "    <tr>\n",
              "      <th>95558</th>\n",
              "      <td>ffff5962728ec6157033ef9805bacc48</td>\n",
              "      <td>115.00</td>\n",
              "    </tr>\n",
              "    <tr>\n",
              "      <th>95559</th>\n",
              "      <td>ffffd2657e2aad2907e67c3e9daecbeb</td>\n",
              "      <td>56.99</td>\n",
              "    </tr>\n",
              "  </tbody>\n",
              "</table>\n",
              "<p>95560 rows × 2 columns</p>\n",
              "</div>"
            ],
            "text/plain": [
              "                     customer_unique_id  total_monetary\n",
              "0      0000366f3b9a7992bf8c76cfdf3221e2          129.90\n",
              "1      0000b849f77a49e4a4ce2b2a4ca5be3f           18.90\n",
              "2      0000f46a3911fa3c0805444483337064           69.00\n",
              "3      0000f6ccb0745a6a4b88665a16c9f078           25.99\n",
              "4      0004aac84e0df4da2b147fca70cf8255          180.00\n",
              "...                                 ...             ...\n",
              "95555  fffcf5a5ff07b0908bd4e2dbc735a684         1570.00\n",
              "95556  fffea47cd6d3cc0a88bd621562a9d061           64.89\n",
              "95557  ffff371b4d645b6ecea244b27531430a           89.90\n",
              "95558  ffff5962728ec6157033ef9805bacc48          115.00\n",
              "95559  ffffd2657e2aad2907e67c3e9daecbeb           56.99\n",
              "\n",
              "[95560 rows x 2 columns]"
            ]
          },
          "metadata": {},
          "execution_count": 76
        }
      ]
    },
    {
      "cell_type": "code",
      "metadata": {
        "colab": {
          "base_uri": "https://localhost:8080/",
          "height": 363
        },
        "id": "8pRREMCUUiG6",
        "outputId": "b024efb9-0a03-4326-d103-7c62f7febdc8"
      },
      "source": [
        "df4.sort_values(by=['total_monetary'],ascending=False).head(10)"
      ],
      "execution_count": 77,
      "outputs": [
        {
          "output_type": "execute_result",
          "data": {
            "text/html": [
              "<div>\n",
              "<style scoped>\n",
              "    .dataframe tbody tr th:only-of-type {\n",
              "        vertical-align: middle;\n",
              "    }\n",
              "\n",
              "    .dataframe tbody tr th {\n",
              "        vertical-align: top;\n",
              "    }\n",
              "\n",
              "    .dataframe thead th {\n",
              "        text-align: right;\n",
              "    }\n",
              "</style>\n",
              "<table border=\"1\" class=\"dataframe\">\n",
              "  <thead>\n",
              "    <tr style=\"text-align: right;\">\n",
              "      <th></th>\n",
              "      <th>customer_unique_id</th>\n",
              "      <th>total_monetary</th>\n",
              "    </tr>\n",
              "  </thead>\n",
              "  <tbody>\n",
              "    <tr>\n",
              "      <th>3809</th>\n",
              "      <td>0a0a92112bd4c708ca5fde585afaa872</td>\n",
              "      <td>13440.0</td>\n",
              "    </tr>\n",
              "    <tr>\n",
              "      <th>81497</th>\n",
              "      <td>da122df9eeddfedc1dc1f5349a1a690c</td>\n",
              "      <td>7388.0</td>\n",
              "    </tr>\n",
              "    <tr>\n",
              "      <th>44205</th>\n",
              "      <td>763c8b1c9c68a0229c42c9fc6f662b93</td>\n",
              "      <td>7160.0</td>\n",
              "    </tr>\n",
              "    <tr>\n",
              "      <th>82340</th>\n",
              "      <td>dc4802a71eae9be1dd28f5d788ceb526</td>\n",
              "      <td>6735.0</td>\n",
              "    </tr>\n",
              "    <tr>\n",
              "      <th>26063</th>\n",
              "      <td>459bef486812aa25204be022145caa62</td>\n",
              "      <td>6729.0</td>\n",
              "    </tr>\n",
              "    <tr>\n",
              "      <th>95272</th>\n",
              "      <td>ff4159b92c40ebe40454e3e6a7c35ed6</td>\n",
              "      <td>6499.0</td>\n",
              "    </tr>\n",
              "    <tr>\n",
              "      <th>23989</th>\n",
              "      <td>4007669dec559734d6f53e029e360987</td>\n",
              "      <td>5934.6</td>\n",
              "    </tr>\n",
              "    <tr>\n",
              "      <th>89189</th>\n",
              "      <td>eebb5dda148d3893cdaf5b5ca3040ccb</td>\n",
              "      <td>4690.0</td>\n",
              "    </tr>\n",
              "    <tr>\n",
              "      <th>27293</th>\n",
              "      <td>48e1ac109decbb87765a3eade6854098</td>\n",
              "      <td>4590.0</td>\n",
              "    </tr>\n",
              "    <tr>\n",
              "      <th>60575</th>\n",
              "      <td>a229eba70ec1c2abef51f04987deb7a5</td>\n",
              "      <td>4400.0</td>\n",
              "    </tr>\n",
              "  </tbody>\n",
              "</table>\n",
              "</div>"
            ],
            "text/plain": [
              "                     customer_unique_id  total_monetary\n",
              "3809   0a0a92112bd4c708ca5fde585afaa872         13440.0\n",
              "81497  da122df9eeddfedc1dc1f5349a1a690c          7388.0\n",
              "44205  763c8b1c9c68a0229c42c9fc6f662b93          7160.0\n",
              "82340  dc4802a71eae9be1dd28f5d788ceb526          6735.0\n",
              "26063  459bef486812aa25204be022145caa62          6729.0\n",
              "95272  ff4159b92c40ebe40454e3e6a7c35ed6          6499.0\n",
              "23989  4007669dec559734d6f53e029e360987          5934.6\n",
              "89189  eebb5dda148d3893cdaf5b5ca3040ccb          4690.0\n",
              "27293  48e1ac109decbb87765a3eade6854098          4590.0\n",
              "60575  a229eba70ec1c2abef51f04987deb7a5          4400.0"
            ]
          },
          "metadata": {},
          "execution_count": 77
        }
      ]
    },
    {
      "cell_type": "markdown",
      "metadata": {
        "id": "v1tIueauUiG7"
      },
      "source": [
        "This tells us total_monetary value of first 10 customer. The maximum total_monetary value is $1344 made by a individual customer."
      ]
    },
    {
      "cell_type": "code",
      "metadata": {
        "colab": {
          "base_uri": "https://localhost:8080/",
          "height": 424
        },
        "id": "zDznV-5FUiG7",
        "outputId": "a9f207bc-8152-44ca-9624-1a54785ec51b"
      },
      "source": [
        "#meging freequency to the dataframe\n",
        "df5 =pd.merge(df3, df4, on = 'customer_unique_id', how ='left')\n",
        "df5"
      ],
      "execution_count": 78,
      "outputs": [
        {
          "output_type": "execute_result",
          "data": {
            "text/html": [
              "<div>\n",
              "<style scoped>\n",
              "    .dataframe tbody tr th:only-of-type {\n",
              "        vertical-align: middle;\n",
              "    }\n",
              "\n",
              "    .dataframe tbody tr th {\n",
              "        vertical-align: top;\n",
              "    }\n",
              "\n",
              "    .dataframe thead th {\n",
              "        text-align: right;\n",
              "    }\n",
              "</style>\n",
              "<table border=\"1\" class=\"dataframe\">\n",
              "  <thead>\n",
              "    <tr style=\"text-align: right;\">\n",
              "      <th></th>\n",
              "      <th>customer_unique_id</th>\n",
              "      <th>frequency</th>\n",
              "      <th>total_monetary</th>\n",
              "    </tr>\n",
              "  </thead>\n",
              "  <tbody>\n",
              "    <tr>\n",
              "      <th>0</th>\n",
              "      <td>0000366f3b9a7992bf8c76cfdf3221e2</td>\n",
              "      <td>1</td>\n",
              "      <td>129.90</td>\n",
              "    </tr>\n",
              "    <tr>\n",
              "      <th>1</th>\n",
              "      <td>0000b849f77a49e4a4ce2b2a4ca5be3f</td>\n",
              "      <td>1</td>\n",
              "      <td>18.90</td>\n",
              "    </tr>\n",
              "    <tr>\n",
              "      <th>2</th>\n",
              "      <td>0000f46a3911fa3c0805444483337064</td>\n",
              "      <td>1</td>\n",
              "      <td>69.00</td>\n",
              "    </tr>\n",
              "    <tr>\n",
              "      <th>3</th>\n",
              "      <td>0000f6ccb0745a6a4b88665a16c9f078</td>\n",
              "      <td>1</td>\n",
              "      <td>25.99</td>\n",
              "    </tr>\n",
              "    <tr>\n",
              "      <th>4</th>\n",
              "      <td>0004aac84e0df4da2b147fca70cf8255</td>\n",
              "      <td>1</td>\n",
              "      <td>180.00</td>\n",
              "    </tr>\n",
              "    <tr>\n",
              "      <th>...</th>\n",
              "      <td>...</td>\n",
              "      <td>...</td>\n",
              "      <td>...</td>\n",
              "    </tr>\n",
              "    <tr>\n",
              "      <th>95555</th>\n",
              "      <td>fffcf5a5ff07b0908bd4e2dbc735a684</td>\n",
              "      <td>1</td>\n",
              "      <td>1570.00</td>\n",
              "    </tr>\n",
              "    <tr>\n",
              "      <th>95556</th>\n",
              "      <td>fffea47cd6d3cc0a88bd621562a9d061</td>\n",
              "      <td>1</td>\n",
              "      <td>64.89</td>\n",
              "    </tr>\n",
              "    <tr>\n",
              "      <th>95557</th>\n",
              "      <td>ffff371b4d645b6ecea244b27531430a</td>\n",
              "      <td>1</td>\n",
              "      <td>89.90</td>\n",
              "    </tr>\n",
              "    <tr>\n",
              "      <th>95558</th>\n",
              "      <td>ffff5962728ec6157033ef9805bacc48</td>\n",
              "      <td>1</td>\n",
              "      <td>115.00</td>\n",
              "    </tr>\n",
              "    <tr>\n",
              "      <th>95559</th>\n",
              "      <td>ffffd2657e2aad2907e67c3e9daecbeb</td>\n",
              "      <td>1</td>\n",
              "      <td>56.99</td>\n",
              "    </tr>\n",
              "  </tbody>\n",
              "</table>\n",
              "<p>95560 rows × 3 columns</p>\n",
              "</div>"
            ],
            "text/plain": [
              "                     customer_unique_id  frequency  total_monetary\n",
              "0      0000366f3b9a7992bf8c76cfdf3221e2          1          129.90\n",
              "1      0000b849f77a49e4a4ce2b2a4ca5be3f          1           18.90\n",
              "2      0000f46a3911fa3c0805444483337064          1           69.00\n",
              "3      0000f6ccb0745a6a4b88665a16c9f078          1           25.99\n",
              "4      0004aac84e0df4da2b147fca70cf8255          1          180.00\n",
              "...                                 ...        ...             ...\n",
              "95555  fffcf5a5ff07b0908bd4e2dbc735a684          1         1570.00\n",
              "95556  fffea47cd6d3cc0a88bd621562a9d061          1           64.89\n",
              "95557  ffff371b4d645b6ecea244b27531430a          1           89.90\n",
              "95558  ffff5962728ec6157033ef9805bacc48          1          115.00\n",
              "95559  ffffd2657e2aad2907e67c3e9daecbeb          1           56.99\n",
              "\n",
              "[95560 rows x 3 columns]"
            ]
          },
          "metadata": {},
          "execution_count": 78
        }
      ]
    },
    {
      "cell_type": "code",
      "metadata": {
        "colab": {
          "base_uri": "https://localhost:8080/",
          "height": 424
        },
        "id": "k8By4zm7UiG7",
        "outputId": "4d20dc6c-b9c3-44fe-8fe7-a8e8da6947ff"
      },
      "source": [
        "# Finding average monetary value of customer\n",
        "df5['avg_monetary'] = df5['total_monetary'] / df5['frequency']\n",
        "df5['frequency'] = df5['frequency'] - 1\n",
        "df5 = df5.drop(columns=['total_monetary'])\n",
        "df5"
      ],
      "execution_count": 79,
      "outputs": [
        {
          "output_type": "execute_result",
          "data": {
            "text/html": [
              "<div>\n",
              "<style scoped>\n",
              "    .dataframe tbody tr th:only-of-type {\n",
              "        vertical-align: middle;\n",
              "    }\n",
              "\n",
              "    .dataframe tbody tr th {\n",
              "        vertical-align: top;\n",
              "    }\n",
              "\n",
              "    .dataframe thead th {\n",
              "        text-align: right;\n",
              "    }\n",
              "</style>\n",
              "<table border=\"1\" class=\"dataframe\">\n",
              "  <thead>\n",
              "    <tr style=\"text-align: right;\">\n",
              "      <th></th>\n",
              "      <th>customer_unique_id</th>\n",
              "      <th>frequency</th>\n",
              "      <th>avg_monetary</th>\n",
              "    </tr>\n",
              "  </thead>\n",
              "  <tbody>\n",
              "    <tr>\n",
              "      <th>0</th>\n",
              "      <td>0000366f3b9a7992bf8c76cfdf3221e2</td>\n",
              "      <td>0</td>\n",
              "      <td>129.90</td>\n",
              "    </tr>\n",
              "    <tr>\n",
              "      <th>1</th>\n",
              "      <td>0000b849f77a49e4a4ce2b2a4ca5be3f</td>\n",
              "      <td>0</td>\n",
              "      <td>18.90</td>\n",
              "    </tr>\n",
              "    <tr>\n",
              "      <th>2</th>\n",
              "      <td>0000f46a3911fa3c0805444483337064</td>\n",
              "      <td>0</td>\n",
              "      <td>69.00</td>\n",
              "    </tr>\n",
              "    <tr>\n",
              "      <th>3</th>\n",
              "      <td>0000f6ccb0745a6a4b88665a16c9f078</td>\n",
              "      <td>0</td>\n",
              "      <td>25.99</td>\n",
              "    </tr>\n",
              "    <tr>\n",
              "      <th>4</th>\n",
              "      <td>0004aac84e0df4da2b147fca70cf8255</td>\n",
              "      <td>0</td>\n",
              "      <td>180.00</td>\n",
              "    </tr>\n",
              "    <tr>\n",
              "      <th>...</th>\n",
              "      <td>...</td>\n",
              "      <td>...</td>\n",
              "      <td>...</td>\n",
              "    </tr>\n",
              "    <tr>\n",
              "      <th>95555</th>\n",
              "      <td>fffcf5a5ff07b0908bd4e2dbc735a684</td>\n",
              "      <td>0</td>\n",
              "      <td>1570.00</td>\n",
              "    </tr>\n",
              "    <tr>\n",
              "      <th>95556</th>\n",
              "      <td>fffea47cd6d3cc0a88bd621562a9d061</td>\n",
              "      <td>0</td>\n",
              "      <td>64.89</td>\n",
              "    </tr>\n",
              "    <tr>\n",
              "      <th>95557</th>\n",
              "      <td>ffff371b4d645b6ecea244b27531430a</td>\n",
              "      <td>0</td>\n",
              "      <td>89.90</td>\n",
              "    </tr>\n",
              "    <tr>\n",
              "      <th>95558</th>\n",
              "      <td>ffff5962728ec6157033ef9805bacc48</td>\n",
              "      <td>0</td>\n",
              "      <td>115.00</td>\n",
              "    </tr>\n",
              "    <tr>\n",
              "      <th>95559</th>\n",
              "      <td>ffffd2657e2aad2907e67c3e9daecbeb</td>\n",
              "      <td>0</td>\n",
              "      <td>56.99</td>\n",
              "    </tr>\n",
              "  </tbody>\n",
              "</table>\n",
              "<p>95560 rows × 3 columns</p>\n",
              "</div>"
            ],
            "text/plain": [
              "                     customer_unique_id  frequency  avg_monetary\n",
              "0      0000366f3b9a7992bf8c76cfdf3221e2          0        129.90\n",
              "1      0000b849f77a49e4a4ce2b2a4ca5be3f          0         18.90\n",
              "2      0000f46a3911fa3c0805444483337064          0         69.00\n",
              "3      0000f6ccb0745a6a4b88665a16c9f078          0         25.99\n",
              "4      0004aac84e0df4da2b147fca70cf8255          0        180.00\n",
              "...                                 ...        ...           ...\n",
              "95555  fffcf5a5ff07b0908bd4e2dbc735a684          0       1570.00\n",
              "95556  fffea47cd6d3cc0a88bd621562a9d061          0         64.89\n",
              "95557  ffff371b4d645b6ecea244b27531430a          0         89.90\n",
              "95558  ffff5962728ec6157033ef9805bacc48          0        115.00\n",
              "95559  ffffd2657e2aad2907e67c3e9daecbeb          0         56.99\n",
              "\n",
              "[95560 rows x 3 columns]"
            ]
          },
          "metadata": {},
          "execution_count": 79
        }
      ]
    },
    {
      "cell_type": "code",
      "metadata": {
        "colab": {
          "base_uri": "https://localhost:8080/",
          "height": 424
        },
        "id": "JdZ_HxBiUiG7",
        "outputId": "90ca0303-5aa0-4a3c-d5ea-bc3c11975372"
      },
      "source": [
        "# Let us consider only customer with freequency of purchase>0\n",
        "df5[df5['frequency'] != 0]"
      ],
      "execution_count": 80,
      "outputs": [
        {
          "output_type": "execute_result",
          "data": {
            "text/html": [
              "<div>\n",
              "<style scoped>\n",
              "    .dataframe tbody tr th:only-of-type {\n",
              "        vertical-align: middle;\n",
              "    }\n",
              "\n",
              "    .dataframe tbody tr th {\n",
              "        vertical-align: top;\n",
              "    }\n",
              "\n",
              "    .dataframe thead th {\n",
              "        text-align: right;\n",
              "    }\n",
              "</style>\n",
              "<table border=\"1\" class=\"dataframe\">\n",
              "  <thead>\n",
              "    <tr style=\"text-align: right;\">\n",
              "      <th></th>\n",
              "      <th>customer_unique_id</th>\n",
              "      <th>frequency</th>\n",
              "      <th>avg_monetary</th>\n",
              "    </tr>\n",
              "  </thead>\n",
              "  <tbody>\n",
              "    <tr>\n",
              "      <th>106</th>\n",
              "      <td>004288347e5e88a27ded2bb23747066c</td>\n",
              "      <td>1</td>\n",
              "      <td>158.945000</td>\n",
              "    </tr>\n",
              "    <tr>\n",
              "      <th>124</th>\n",
              "      <td>004b45ec5c64187465168251cd1c9c2f</td>\n",
              "      <td>1</td>\n",
              "      <td>43.450000</td>\n",
              "    </tr>\n",
              "    <tr>\n",
              "      <th>248</th>\n",
              "      <td>00a39521eb40f7012db50455bf083460</td>\n",
              "      <td>1</td>\n",
              "      <td>40.725000</td>\n",
              "    </tr>\n",
              "    <tr>\n",
              "      <th>412</th>\n",
              "      <td>011575986092c30523ecb71ff10cb473</td>\n",
              "      <td>1</td>\n",
              "      <td>91.450000</td>\n",
              "    </tr>\n",
              "    <tr>\n",
              "      <th>427</th>\n",
              "      <td>011b4adcd54683b480c4d841250a987f</td>\n",
              "      <td>1</td>\n",
              "      <td>91.715000</td>\n",
              "    </tr>\n",
              "    <tr>\n",
              "      <th>...</th>\n",
              "      <td>...</td>\n",
              "      <td>...</td>\n",
              "      <td>...</td>\n",
              "    </tr>\n",
              "    <tr>\n",
              "      <th>95107</th>\n",
              "      <td>fed519569d16e690df6f89cb99d4e682</td>\n",
              "      <td>1</td>\n",
              "      <td>124.950000</td>\n",
              "    </tr>\n",
              "    <tr>\n",
              "      <th>95175</th>\n",
              "      <td>ff03923ad1eb9e32304deb7f9b2a45c9</td>\n",
              "      <td>1</td>\n",
              "      <td>110.320000</td>\n",
              "    </tr>\n",
              "    <tr>\n",
              "      <th>95223</th>\n",
              "      <td>ff22e30958c13ffe219db7d711e8f564</td>\n",
              "      <td>1</td>\n",
              "      <td>145.000000</td>\n",
              "    </tr>\n",
              "    <tr>\n",
              "      <th>95382</th>\n",
              "      <td>ff8892f7c26aa0446da53d01b18df463</td>\n",
              "      <td>1</td>\n",
              "      <td>138.975000</td>\n",
              "    </tr>\n",
              "    <tr>\n",
              "      <th>95400</th>\n",
              "      <td>ff922bdd6bafcdf99cb90d7f39cea5b3</td>\n",
              "      <td>2</td>\n",
              "      <td>31.596667</td>\n",
              "    </tr>\n",
              "  </tbody>\n",
              "</table>\n",
              "<p>2092 rows × 3 columns</p>\n",
              "</div>"
            ],
            "text/plain": [
              "                     customer_unique_id  frequency  avg_monetary\n",
              "106    004288347e5e88a27ded2bb23747066c          1    158.945000\n",
              "124    004b45ec5c64187465168251cd1c9c2f          1     43.450000\n",
              "248    00a39521eb40f7012db50455bf083460          1     40.725000\n",
              "412    011575986092c30523ecb71ff10cb473          1     91.450000\n",
              "427    011b4adcd54683b480c4d841250a987f          1     91.715000\n",
              "...                                 ...        ...           ...\n",
              "95107  fed519569d16e690df6f89cb99d4e682          1    124.950000\n",
              "95175  ff03923ad1eb9e32304deb7f9b2a45c9          1    110.320000\n",
              "95223  ff22e30958c13ffe219db7d711e8f564          1    145.000000\n",
              "95382  ff8892f7c26aa0446da53d01b18df463          1    138.975000\n",
              "95400  ff922bdd6bafcdf99cb90d7f39cea5b3          2     31.596667\n",
              "\n",
              "[2092 rows x 3 columns]"
            ]
          },
          "metadata": {},
          "execution_count": 80
        }
      ]
    },
    {
      "cell_type": "code",
      "metadata": {
        "colab": {
          "base_uri": "https://localhost:8080/",
          "height": 81
        },
        "id": "7UtLbH4mUiG8",
        "outputId": "f3199674-a361-488b-eff5-9f34bd736318"
      },
      "source": [
        "# checking\n",
        "df5[df5['customer_unique_id'] == '02168ea18740a0fdaaa15f11bebba5db']"
      ],
      "execution_count": 81,
      "outputs": [
        {
          "output_type": "execute_result",
          "data": {
            "text/html": [
              "<div>\n",
              "<style scoped>\n",
              "    .dataframe tbody tr th:only-of-type {\n",
              "        vertical-align: middle;\n",
              "    }\n",
              "\n",
              "    .dataframe tbody tr th {\n",
              "        vertical-align: top;\n",
              "    }\n",
              "\n",
              "    .dataframe thead th {\n",
              "        text-align: right;\n",
              "    }\n",
              "</style>\n",
              "<table border=\"1\" class=\"dataframe\">\n",
              "  <thead>\n",
              "    <tr style=\"text-align: right;\">\n",
              "      <th></th>\n",
              "      <th>customer_unique_id</th>\n",
              "      <th>frequency</th>\n",
              "      <th>avg_monetary</th>\n",
              "    </tr>\n",
              "  </thead>\n",
              "  <tbody>\n",
              "    <tr>\n",
              "      <th>779</th>\n",
              "      <td>02168ea18740a0fdaaa15f11bebba5db</td>\n",
              "      <td>1</td>\n",
              "      <td>99.8</td>\n",
              "    </tr>\n",
              "  </tbody>\n",
              "</table>\n",
              "</div>"
            ],
            "text/plain": [
              "                   customer_unique_id  frequency  avg_monetary\n",
              "779  02168ea18740a0fdaaa15f11bebba5db          1          99.8"
            ]
          },
          "metadata": {},
          "execution_count": 81
        }
      ]
    },
    {
      "cell_type": "markdown",
      "metadata": {
        "id": "4kXY-Km8UiG8"
      },
      "source": [
        "Analysis like frequency and avg_monetary can be found for individual selected customer."
      ]
    },
    {
      "cell_type": "code",
      "metadata": {
        "colab": {
          "base_uri": "https://localhost:8080/",
          "height": 424
        },
        "id": "Jsd-MD_fUiG8",
        "outputId": "92be4032-061f-474e-f40e-b1703092f0fb"
      },
      "source": [
        "df_combined1 = pd.merge(df1,df2, on = 'customer_unique_id', how = 'outer')\n",
        "df_combined1"
      ],
      "execution_count": 82,
      "outputs": [
        {
          "output_type": "execute_result",
          "data": {
            "text/html": [
              "<div>\n",
              "<style scoped>\n",
              "    .dataframe tbody tr th:only-of-type {\n",
              "        vertical-align: middle;\n",
              "    }\n",
              "\n",
              "    .dataframe tbody tr th {\n",
              "        vertical-align: top;\n",
              "    }\n",
              "\n",
              "    .dataframe thead th {\n",
              "        text-align: right;\n",
              "    }\n",
              "</style>\n",
              "<table border=\"1\" class=\"dataframe\">\n",
              "  <thead>\n",
              "    <tr style=\"text-align: right;\">\n",
              "      <th></th>\n",
              "      <th>customer_unique_id</th>\n",
              "      <th>Duration</th>\n",
              "      <th>recency</th>\n",
              "    </tr>\n",
              "  </thead>\n",
              "  <tbody>\n",
              "    <tr>\n",
              "      <th>0</th>\n",
              "      <td>0000366f3b9a7992bf8c76cfdf3221e2</td>\n",
              "      <td>117</td>\n",
              "      <td>0</td>\n",
              "    </tr>\n",
              "    <tr>\n",
              "      <th>1</th>\n",
              "      <td>0000b849f77a49e4a4ce2b2a4ca5be3f</td>\n",
              "      <td>120</td>\n",
              "      <td>0</td>\n",
              "    </tr>\n",
              "    <tr>\n",
              "      <th>2</th>\n",
              "      <td>0000f46a3911fa3c0805444483337064</td>\n",
              "      <td>543</td>\n",
              "      <td>0</td>\n",
              "    </tr>\n",
              "    <tr>\n",
              "      <th>3</th>\n",
              "      <td>0000f6ccb0745a6a4b88665a16c9f078</td>\n",
              "      <td>327</td>\n",
              "      <td>0</td>\n",
              "    </tr>\n",
              "    <tr>\n",
              "      <th>4</th>\n",
              "      <td>0004aac84e0df4da2b147fca70cf8255</td>\n",
              "      <td>294</td>\n",
              "      <td>0</td>\n",
              "    </tr>\n",
              "    <tr>\n",
              "      <th>...</th>\n",
              "      <td>...</td>\n",
              "      <td>...</td>\n",
              "      <td>...</td>\n",
              "    </tr>\n",
              "    <tr>\n",
              "      <th>95555</th>\n",
              "      <td>fffcf5a5ff07b0908bd4e2dbc735a684</td>\n",
              "      <td>453</td>\n",
              "      <td>0</td>\n",
              "    </tr>\n",
              "    <tr>\n",
              "      <th>95556</th>\n",
              "      <td>fffea47cd6d3cc0a88bd621562a9d061</td>\n",
              "      <td>268</td>\n",
              "      <td>0</td>\n",
              "    </tr>\n",
              "    <tr>\n",
              "      <th>95557</th>\n",
              "      <td>ffff371b4d645b6ecea244b27531430a</td>\n",
              "      <td>574</td>\n",
              "      <td>0</td>\n",
              "    </tr>\n",
              "    <tr>\n",
              "      <th>95558</th>\n",
              "      <td>ffff5962728ec6157033ef9805bacc48</td>\n",
              "      <td>125</td>\n",
              "      <td>0</td>\n",
              "    </tr>\n",
              "    <tr>\n",
              "      <th>95559</th>\n",
              "      <td>ffffd2657e2aad2907e67c3e9daecbeb</td>\n",
              "      <td>490</td>\n",
              "      <td>0</td>\n",
              "    </tr>\n",
              "  </tbody>\n",
              "</table>\n",
              "<p>95560 rows × 3 columns</p>\n",
              "</div>"
            ],
            "text/plain": [
              "                     customer_unique_id  Duration  recency\n",
              "0      0000366f3b9a7992bf8c76cfdf3221e2       117        0\n",
              "1      0000b849f77a49e4a4ce2b2a4ca5be3f       120        0\n",
              "2      0000f46a3911fa3c0805444483337064       543        0\n",
              "3      0000f6ccb0745a6a4b88665a16c9f078       327        0\n",
              "4      0004aac84e0df4da2b147fca70cf8255       294        0\n",
              "...                                 ...       ...      ...\n",
              "95555  fffcf5a5ff07b0908bd4e2dbc735a684       453        0\n",
              "95556  fffea47cd6d3cc0a88bd621562a9d061       268        0\n",
              "95557  ffff371b4d645b6ecea244b27531430a       574        0\n",
              "95558  ffff5962728ec6157033ef9805bacc48       125        0\n",
              "95559  ffffd2657e2aad2907e67c3e9daecbeb       490        0\n",
              "\n",
              "[95560 rows x 3 columns]"
            ]
          },
          "metadata": {},
          "execution_count": 82
        }
      ]
    },
    {
      "cell_type": "code",
      "metadata": {
        "colab": {
          "base_uri": "https://localhost:8080/",
          "height": 424
        },
        "id": "PwTWI-DpUiG8",
        "outputId": "5367f5dc-04b6-49d1-d37a-a46a3b811336"
      },
      "source": [
        "df_combined2 = pd.merge(df_combined1, df5, on = 'customer_unique_id', how = 'outer')\n",
        "df_combined2"
      ],
      "execution_count": 83,
      "outputs": [
        {
          "output_type": "execute_result",
          "data": {
            "text/html": [
              "<div>\n",
              "<style scoped>\n",
              "    .dataframe tbody tr th:only-of-type {\n",
              "        vertical-align: middle;\n",
              "    }\n",
              "\n",
              "    .dataframe tbody tr th {\n",
              "        vertical-align: top;\n",
              "    }\n",
              "\n",
              "    .dataframe thead th {\n",
              "        text-align: right;\n",
              "    }\n",
              "</style>\n",
              "<table border=\"1\" class=\"dataframe\">\n",
              "  <thead>\n",
              "    <tr style=\"text-align: right;\">\n",
              "      <th></th>\n",
              "      <th>customer_unique_id</th>\n",
              "      <th>Duration</th>\n",
              "      <th>recency</th>\n",
              "      <th>frequency</th>\n",
              "      <th>avg_monetary</th>\n",
              "    </tr>\n",
              "  </thead>\n",
              "  <tbody>\n",
              "    <tr>\n",
              "      <th>0</th>\n",
              "      <td>0000366f3b9a7992bf8c76cfdf3221e2</td>\n",
              "      <td>117</td>\n",
              "      <td>0</td>\n",
              "      <td>0</td>\n",
              "      <td>129.90</td>\n",
              "    </tr>\n",
              "    <tr>\n",
              "      <th>1</th>\n",
              "      <td>0000b849f77a49e4a4ce2b2a4ca5be3f</td>\n",
              "      <td>120</td>\n",
              "      <td>0</td>\n",
              "      <td>0</td>\n",
              "      <td>18.90</td>\n",
              "    </tr>\n",
              "    <tr>\n",
              "      <th>2</th>\n",
              "      <td>0000f46a3911fa3c0805444483337064</td>\n",
              "      <td>543</td>\n",
              "      <td>0</td>\n",
              "      <td>0</td>\n",
              "      <td>69.00</td>\n",
              "    </tr>\n",
              "    <tr>\n",
              "      <th>3</th>\n",
              "      <td>0000f6ccb0745a6a4b88665a16c9f078</td>\n",
              "      <td>327</td>\n",
              "      <td>0</td>\n",
              "      <td>0</td>\n",
              "      <td>25.99</td>\n",
              "    </tr>\n",
              "    <tr>\n",
              "      <th>4</th>\n",
              "      <td>0004aac84e0df4da2b147fca70cf8255</td>\n",
              "      <td>294</td>\n",
              "      <td>0</td>\n",
              "      <td>0</td>\n",
              "      <td>180.00</td>\n",
              "    </tr>\n",
              "    <tr>\n",
              "      <th>...</th>\n",
              "      <td>...</td>\n",
              "      <td>...</td>\n",
              "      <td>...</td>\n",
              "      <td>...</td>\n",
              "      <td>...</td>\n",
              "    </tr>\n",
              "    <tr>\n",
              "      <th>95555</th>\n",
              "      <td>fffcf5a5ff07b0908bd4e2dbc735a684</td>\n",
              "      <td>453</td>\n",
              "      <td>0</td>\n",
              "      <td>0</td>\n",
              "      <td>1570.00</td>\n",
              "    </tr>\n",
              "    <tr>\n",
              "      <th>95556</th>\n",
              "      <td>fffea47cd6d3cc0a88bd621562a9d061</td>\n",
              "      <td>268</td>\n",
              "      <td>0</td>\n",
              "      <td>0</td>\n",
              "      <td>64.89</td>\n",
              "    </tr>\n",
              "    <tr>\n",
              "      <th>95557</th>\n",
              "      <td>ffff371b4d645b6ecea244b27531430a</td>\n",
              "      <td>574</td>\n",
              "      <td>0</td>\n",
              "      <td>0</td>\n",
              "      <td>89.90</td>\n",
              "    </tr>\n",
              "    <tr>\n",
              "      <th>95558</th>\n",
              "      <td>ffff5962728ec6157033ef9805bacc48</td>\n",
              "      <td>125</td>\n",
              "      <td>0</td>\n",
              "      <td>0</td>\n",
              "      <td>115.00</td>\n",
              "    </tr>\n",
              "    <tr>\n",
              "      <th>95559</th>\n",
              "      <td>ffffd2657e2aad2907e67c3e9daecbeb</td>\n",
              "      <td>490</td>\n",
              "      <td>0</td>\n",
              "      <td>0</td>\n",
              "      <td>56.99</td>\n",
              "    </tr>\n",
              "  </tbody>\n",
              "</table>\n",
              "<p>95560 rows × 5 columns</p>\n",
              "</div>"
            ],
            "text/plain": [
              "                     customer_unique_id  Duration  ...  frequency  avg_monetary\n",
              "0      0000366f3b9a7992bf8c76cfdf3221e2       117  ...          0        129.90\n",
              "1      0000b849f77a49e4a4ce2b2a4ca5be3f       120  ...          0         18.90\n",
              "2      0000f46a3911fa3c0805444483337064       543  ...          0         69.00\n",
              "3      0000f6ccb0745a6a4b88665a16c9f078       327  ...          0         25.99\n",
              "4      0004aac84e0df4da2b147fca70cf8255       294  ...          0        180.00\n",
              "...                                 ...       ...  ...        ...           ...\n",
              "95555  fffcf5a5ff07b0908bd4e2dbc735a684       453  ...          0       1570.00\n",
              "95556  fffea47cd6d3cc0a88bd621562a9d061       268  ...          0         64.89\n",
              "95557  ffff371b4d645b6ecea244b27531430a       574  ...          0         89.90\n",
              "95558  ffff5962728ec6157033ef9805bacc48       125  ...          0        115.00\n",
              "95559  ffffd2657e2aad2907e67c3e9daecbeb       490  ...          0         56.99\n",
              "\n",
              "[95560 rows x 5 columns]"
            ]
          },
          "metadata": {},
          "execution_count": 83
        }
      ]
    },
    {
      "cell_type": "markdown",
      "metadata": {
        "id": "W4OrIxKjUiG9"
      },
      "source": [
        "All the four metrics Duration,recency,frequency and avg_monetary value are comined. These four metrics can be used to analyze the porential customer in terms of number of purchase,purchasing history and monetary value."
      ]
    },
    {
      "cell_type": "code",
      "metadata": {
        "colab": {
          "base_uri": "https://localhost:8080/",
          "height": 81
        },
        "id": "ETPAkgvMUiG9",
        "outputId": "915b128a-b39e-4bb0-e7e5-75cb8dd6237d"
      },
      "source": [
        "df_combined2[df_combined2['customer_unique_id'] == 'ff922bdd6bafcdf99cb90d7f39cea5b3']"
      ],
      "execution_count": 84,
      "outputs": [
        {
          "output_type": "execute_result",
          "data": {
            "text/html": [
              "<div>\n",
              "<style scoped>\n",
              "    .dataframe tbody tr th:only-of-type {\n",
              "        vertical-align: middle;\n",
              "    }\n",
              "\n",
              "    .dataframe tbody tr th {\n",
              "        vertical-align: top;\n",
              "    }\n",
              "\n",
              "    .dataframe thead th {\n",
              "        text-align: right;\n",
              "    }\n",
              "</style>\n",
              "<table border=\"1\" class=\"dataframe\">\n",
              "  <thead>\n",
              "    <tr style=\"text-align: right;\">\n",
              "      <th></th>\n",
              "      <th>customer_unique_id</th>\n",
              "      <th>Duration</th>\n",
              "      <th>recency</th>\n",
              "      <th>frequency</th>\n",
              "      <th>avg_monetary</th>\n",
              "    </tr>\n",
              "  </thead>\n",
              "  <tbody>\n",
              "    <tr>\n",
              "      <th>95400</th>\n",
              "      <td>ff922bdd6bafcdf99cb90d7f39cea5b3</td>\n",
              "      <td>559</td>\n",
              "      <td>204</td>\n",
              "      <td>2</td>\n",
              "      <td>31.596667</td>\n",
              "    </tr>\n",
              "  </tbody>\n",
              "</table>\n",
              "</div>"
            ],
            "text/plain": [
              "                     customer_unique_id  Duration  ...  frequency  avg_monetary\n",
              "95400  ff922bdd6bafcdf99cb90d7f39cea5b3       559  ...          2     31.596667\n",
              "\n",
              "[1 rows x 5 columns]"
            ]
          },
          "metadata": {},
          "execution_count": 84
        }
      ]
    },
    {
      "cell_type": "code",
      "metadata": {
        "colab": {
          "base_uri": "https://localhost:8080/",
          "height": 424
        },
        "id": "uXs4U4WBUiG9",
        "outputId": "014b3af6-80f5-4a62-c9aa-429b0b8fcc05"
      },
      "source": [
        "# Testing\n",
        "df_combined2[df_combined2['recency'] != 0]"
      ],
      "execution_count": 85,
      "outputs": [
        {
          "output_type": "execute_result",
          "data": {
            "text/html": [
              "<div>\n",
              "<style scoped>\n",
              "    .dataframe tbody tr th:only-of-type {\n",
              "        vertical-align: middle;\n",
              "    }\n",
              "\n",
              "    .dataframe tbody tr th {\n",
              "        vertical-align: top;\n",
              "    }\n",
              "\n",
              "    .dataframe thead th {\n",
              "        text-align: right;\n",
              "    }\n",
              "</style>\n",
              "<table border=\"1\" class=\"dataframe\">\n",
              "  <thead>\n",
              "    <tr style=\"text-align: right;\">\n",
              "      <th></th>\n",
              "      <th>customer_unique_id</th>\n",
              "      <th>Duration</th>\n",
              "      <th>recency</th>\n",
              "      <th>frequency</th>\n",
              "      <th>avg_monetary</th>\n",
              "    </tr>\n",
              "  </thead>\n",
              "  <tbody>\n",
              "    <tr>\n",
              "      <th>106</th>\n",
              "      <td>004288347e5e88a27ded2bb23747066c</td>\n",
              "      <td>404</td>\n",
              "      <td>171</td>\n",
              "      <td>1</td>\n",
              "      <td>158.945000</td>\n",
              "    </tr>\n",
              "    <tr>\n",
              "      <th>124</th>\n",
              "      <td>004b45ec5c64187465168251cd1c9c2f</td>\n",
              "      <td>368</td>\n",
              "      <td>267</td>\n",
              "      <td>1</td>\n",
              "      <td>43.450000</td>\n",
              "    </tr>\n",
              "    <tr>\n",
              "      <th>248</th>\n",
              "      <td>00a39521eb40f7012db50455bf083460</td>\n",
              "      <td>104</td>\n",
              "      <td>11</td>\n",
              "      <td>1</td>\n",
              "      <td>40.725000</td>\n",
              "    </tr>\n",
              "    <tr>\n",
              "      <th>412</th>\n",
              "      <td>011575986092c30523ecb71ff10cb473</td>\n",
              "      <td>199</td>\n",
              "      <td>60</td>\n",
              "      <td>1</td>\n",
              "      <td>91.450000</td>\n",
              "    </tr>\n",
              "    <tr>\n",
              "      <th>427</th>\n",
              "      <td>011b4adcd54683b480c4d841250a987f</td>\n",
              "      <td>378</td>\n",
              "      <td>177</td>\n",
              "      <td>1</td>\n",
              "      <td>91.715000</td>\n",
              "    </tr>\n",
              "    <tr>\n",
              "      <th>...</th>\n",
              "      <td>...</td>\n",
              "      <td>...</td>\n",
              "      <td>...</td>\n",
              "      <td>...</td>\n",
              "      <td>...</td>\n",
              "    </tr>\n",
              "    <tr>\n",
              "      <th>95107</th>\n",
              "      <td>fed519569d16e690df6f89cb99d4e682</td>\n",
              "      <td>258</td>\n",
              "      <td>88</td>\n",
              "      <td>1</td>\n",
              "      <td>124.950000</td>\n",
              "    </tr>\n",
              "    <tr>\n",
              "      <th>95175</th>\n",
              "      <td>ff03923ad1eb9e32304deb7f9b2a45c9</td>\n",
              "      <td>134</td>\n",
              "      <td>33</td>\n",
              "      <td>1</td>\n",
              "      <td>110.320000</td>\n",
              "    </tr>\n",
              "    <tr>\n",
              "      <th>95223</th>\n",
              "      <td>ff22e30958c13ffe219db7d711e8f564</td>\n",
              "      <td>11</td>\n",
              "      <td>10</td>\n",
              "      <td>1</td>\n",
              "      <td>145.000000</td>\n",
              "    </tr>\n",
              "    <tr>\n",
              "      <th>95382</th>\n",
              "      <td>ff8892f7c26aa0446da53d01b18df463</td>\n",
              "      <td>468</td>\n",
              "      <td>186</td>\n",
              "      <td>1</td>\n",
              "      <td>138.975000</td>\n",
              "    </tr>\n",
              "    <tr>\n",
              "      <th>95400</th>\n",
              "      <td>ff922bdd6bafcdf99cb90d7f39cea5b3</td>\n",
              "      <td>559</td>\n",
              "      <td>204</td>\n",
              "      <td>2</td>\n",
              "      <td>31.596667</td>\n",
              "    </tr>\n",
              "  </tbody>\n",
              "</table>\n",
              "<p>2092 rows × 5 columns</p>\n",
              "</div>"
            ],
            "text/plain": [
              "                     customer_unique_id  Duration  ...  frequency  avg_monetary\n",
              "106    004288347e5e88a27ded2bb23747066c       404  ...          1    158.945000\n",
              "124    004b45ec5c64187465168251cd1c9c2f       368  ...          1     43.450000\n",
              "248    00a39521eb40f7012db50455bf083460       104  ...          1     40.725000\n",
              "412    011575986092c30523ecb71ff10cb473       199  ...          1     91.450000\n",
              "427    011b4adcd54683b480c4d841250a987f       378  ...          1     91.715000\n",
              "...                                 ...       ...  ...        ...           ...\n",
              "95107  fed519569d16e690df6f89cb99d4e682       258  ...          1    124.950000\n",
              "95175  ff03923ad1eb9e32304deb7f9b2a45c9       134  ...          1    110.320000\n",
              "95223  ff22e30958c13ffe219db7d711e8f564        11  ...          1    145.000000\n",
              "95382  ff8892f7c26aa0446da53d01b18df463       468  ...          1    138.975000\n",
              "95400  ff922bdd6bafcdf99cb90d7f39cea5b3       559  ...          2     31.596667\n",
              "\n",
              "[2092 rows x 5 columns]"
            ]
          },
          "metadata": {},
          "execution_count": 85
        }
      ]
    },
    {
      "cell_type": "code",
      "metadata": {
        "colab": {
          "base_uri": "https://localhost:8080/",
          "height": 424
        },
        "id": "YBk9KkqUUiG9",
        "outputId": "6c2b740b-52dd-4db4-8f03-5478897de924"
      },
      "source": [
        "# extracting customer_unique_id based on avg_monetary\n",
        "threshold =1000\n",
        "df_combined2[(df_combined2.avg_monetary > threshold)]"
      ],
      "execution_count": 86,
      "outputs": [
        {
          "output_type": "execute_result",
          "data": {
            "text/html": [
              "<div>\n",
              "<style scoped>\n",
              "    .dataframe tbody tr th:only-of-type {\n",
              "        vertical-align: middle;\n",
              "    }\n",
              "\n",
              "    .dataframe tbody tr th {\n",
              "        vertical-align: top;\n",
              "    }\n",
              "\n",
              "    .dataframe thead th {\n",
              "        text-align: right;\n",
              "    }\n",
              "</style>\n",
              "<table border=\"1\" class=\"dataframe\">\n",
              "  <thead>\n",
              "    <tr style=\"text-align: right;\">\n",
              "      <th></th>\n",
              "      <th>customer_unique_id</th>\n",
              "      <th>Duration</th>\n",
              "      <th>recency</th>\n",
              "      <th>frequency</th>\n",
              "      <th>avg_monetary</th>\n",
              "    </tr>\n",
              "  </thead>\n",
              "  <tbody>\n",
              "    <tr>\n",
              "      <th>133</th>\n",
              "      <td>005226be8d5b972d0f72b4e8a79f322b</td>\n",
              "      <td>156</td>\n",
              "      <td>0</td>\n",
              "      <td>0</td>\n",
              "      <td>1561.0</td>\n",
              "    </tr>\n",
              "    <tr>\n",
              "      <th>261</th>\n",
              "      <td>00adeda9b742746c0c66e10d00ea1b74</td>\n",
              "      <td>301</td>\n",
              "      <td>0</td>\n",
              "      <td>0</td>\n",
              "      <td>2078.5</td>\n",
              "    </tr>\n",
              "    <tr>\n",
              "      <th>294</th>\n",
              "      <td>00c07da5ba0e07b4f248a3a373b07476</td>\n",
              "      <td>39</td>\n",
              "      <td>0</td>\n",
              "      <td>0</td>\n",
              "      <td>2258.0</td>\n",
              "    </tr>\n",
              "    <tr>\n",
              "      <th>424</th>\n",
              "      <td>011875f0176909c5cf0b14a9138bb691</td>\n",
              "      <td>535</td>\n",
              "      <td>0</td>\n",
              "      <td>0</td>\n",
              "      <td>3999.9</td>\n",
              "    </tr>\n",
              "    <tr>\n",
              "      <th>445</th>\n",
              "      <td>0129d48dce554d95f641d01eaa88904a</td>\n",
              "      <td>173</td>\n",
              "      <td>0</td>\n",
              "      <td>0</td>\n",
              "      <td>1390.0</td>\n",
              "    </tr>\n",
              "    <tr>\n",
              "      <th>...</th>\n",
              "      <td>...</td>\n",
              "      <td>...</td>\n",
              "      <td>...</td>\n",
              "      <td>...</td>\n",
              "      <td>...</td>\n",
              "    </tr>\n",
              "    <tr>\n",
              "      <th>95272</th>\n",
              "      <td>ff4159b92c40ebe40454e3e6a7c35ed6</td>\n",
              "      <td>468</td>\n",
              "      <td>0</td>\n",
              "      <td>0</td>\n",
              "      <td>6499.0</td>\n",
              "    </tr>\n",
              "    <tr>\n",
              "      <th>95341</th>\n",
              "      <td>ff6c9c45f6cee4ec0785650b18322d73</td>\n",
              "      <td>48</td>\n",
              "      <td>0</td>\n",
              "      <td>0</td>\n",
              "      <td>1499.0</td>\n",
              "    </tr>\n",
              "    <tr>\n",
              "      <th>95461</th>\n",
              "      <td>ffba9f9dff87b05e310ecc46c8591044</td>\n",
              "      <td>554</td>\n",
              "      <td>0</td>\n",
              "      <td>0</td>\n",
              "      <td>1591.2</td>\n",
              "    </tr>\n",
              "    <tr>\n",
              "      <th>95547</th>\n",
              "      <td>fff5eb4918b2bf4b2da476788d42051c</td>\n",
              "      <td>64</td>\n",
              "      <td>0</td>\n",
              "      <td>0</td>\n",
              "      <td>1050.0</td>\n",
              "    </tr>\n",
              "    <tr>\n",
              "      <th>95555</th>\n",
              "      <td>fffcf5a5ff07b0908bd4e2dbc735a684</td>\n",
              "      <td>453</td>\n",
              "      <td>0</td>\n",
              "      <td>0</td>\n",
              "      <td>1570.0</td>\n",
              "    </tr>\n",
              "  </tbody>\n",
              "</table>\n",
              "<p>909 rows × 5 columns</p>\n",
              "</div>"
            ],
            "text/plain": [
              "                     customer_unique_id  Duration  ...  frequency  avg_monetary\n",
              "133    005226be8d5b972d0f72b4e8a79f322b       156  ...          0        1561.0\n",
              "261    00adeda9b742746c0c66e10d00ea1b74       301  ...          0        2078.5\n",
              "294    00c07da5ba0e07b4f248a3a373b07476        39  ...          0        2258.0\n",
              "424    011875f0176909c5cf0b14a9138bb691       535  ...          0        3999.9\n",
              "445    0129d48dce554d95f641d01eaa88904a       173  ...          0        1390.0\n",
              "...                                 ...       ...  ...        ...           ...\n",
              "95272  ff4159b92c40ebe40454e3e6a7c35ed6       468  ...          0        6499.0\n",
              "95341  ff6c9c45f6cee4ec0785650b18322d73        48  ...          0        1499.0\n",
              "95461  ffba9f9dff87b05e310ecc46c8591044       554  ...          0        1591.2\n",
              "95547  fff5eb4918b2bf4b2da476788d42051c        64  ...          0        1050.0\n",
              "95555  fffcf5a5ff07b0908bd4e2dbc735a684       453  ...          0        1570.0\n",
              "\n",
              "[909 rows x 5 columns]"
            ]
          },
          "metadata": {},
          "execution_count": 86
        }
      ]
    },
    {
      "cell_type": "raw",
      "metadata": {
        "id": "gzPTl6ZzUiG-"
      },
      "source": [
        "Recency, frequency, monetary value (RFM) is a marketing analysis tool used to identify a firm's best clients based on the nature of their spending habits.\n",
        "An RFM analysis evaluates clients and customers by scoring them in three categories: how recently they've made a purchase, how often they buy, and the size of their purchases.\n",
        "RFM analysis helps firms reasonably predict which customers are likely to purchase their products again, how much revenue comes from new (versus repeat) clients, and how to turn occasional buyers into habitual ones."
      ]
    },
    {
      "cell_type": "markdown",
      "metadata": {
        "id": "R4MQTelRUiG-"
      },
      "source": [
        "# Outlier Analysis, Scaling and Clustering"
      ]
    },
    {
      "cell_type": "code",
      "metadata": {
        "colab": {
          "base_uri": "https://localhost:8080/",
          "height": 279
        },
        "id": "fyzIo-2IUiG-",
        "outputId": "76df6637-e233-4d99-c8ab-9d2ca4a16ff6"
      },
      "source": [
        "sns.boxplot(df_combined2['recency']);"
      ],
      "execution_count": 87,
      "outputs": [
        {
          "output_type": "display_data",
          "data": {
            "image/png": "[encoded data removed]",
            "text/plain": [
              "<Figure size 432x288 with 1 Axes>"
            ]
          },
          "metadata": {
            "needs_background": "light"
          }
        }
      ]
    },
    {
      "cell_type": "code",
      "metadata": {
        "colab": {
          "base_uri": "https://localhost:8080/",
          "height": 279
        },
        "id": "CHDUkUL7UiG-",
        "outputId": "3a232eb1-3f71-48b9-ccbd-668c8991588c"
      },
      "source": [
        "sns.boxplot(df_combined2['frequency']);"
      ],
      "execution_count": 88,
      "outputs": [
        {
          "output_type": "display_data",
          "data": {
            "image/png": "[encoded data removed]",
            "text/plain": [
              "<Figure size 432x288 with 1 Axes>"
            ]
          },
          "metadata": {
            "needs_background": "light"
          }
        }
      ]
    },
    {
      "cell_type": "code",
      "metadata": {
        "colab": {
          "base_uri": "https://localhost:8080/",
          "height": 280
        },
        "id": "u-rATz7_UiG_",
        "outputId": "74ebcf32-6a98-4815-e7b0-f67774509465"
      },
      "source": [
        "sns.boxplot(df_combined2['avg_monetary']);"
      ],
      "execution_count": 89,
      "outputs": [
        {
          "output_type": "display_data",
          "data": {
            "image/png": "[encoded data removed]",
            "text/plain": [
              "<Figure size 432x288 with 1 Axes>"
            ]
          },
          "metadata": {
            "needs_background": "light"
          }
        }
      ]
    },
    {
      "cell_type": "code",
      "metadata": {
        "colab": {
          "base_uri": "https://localhost:8080/",
          "height": 206
        },
        "id": "SKssWdeeUiG_",
        "outputId": "26c94a78-2a7e-4563-f133-d4f800148e40"
      },
      "source": [
        "rfm_df = df_combined2.copy()\n",
        "rfm_df.head()"
      ],
      "execution_count": 90,
      "outputs": [
        {
          "output_type": "execute_result",
          "data": {
            "text/html": [
              "<div>\n",
              "<style scoped>\n",
              "    .dataframe tbody tr th:only-of-type {\n",
              "        vertical-align: middle;\n",
              "    }\n",
              "\n",
              "    .dataframe tbody tr th {\n",
              "        vertical-align: top;\n",
              "    }\n",
              "\n",
              "    .dataframe thead th {\n",
              "        text-align: right;\n",
              "    }\n",
              "</style>\n",
              "<table border=\"1\" class=\"dataframe\">\n",
              "  <thead>\n",
              "    <tr style=\"text-align: right;\">\n",
              "      <th></th>\n",
              "      <th>customer_unique_id</th>\n",
              "      <th>Duration</th>\n",
              "      <th>recency</th>\n",
              "      <th>frequency</th>\n",
              "      <th>avg_monetary</th>\n",
              "    </tr>\n",
              "  </thead>\n",
              "  <tbody>\n",
              "    <tr>\n",
              "      <th>0</th>\n",
              "      <td>0000366f3b9a7992bf8c76cfdf3221e2</td>\n",
              "      <td>117</td>\n",
              "      <td>0</td>\n",
              "      <td>0</td>\n",
              "      <td>129.90</td>\n",
              "    </tr>\n",
              "    <tr>\n",
              "      <th>1</th>\n",
              "      <td>0000b849f77a49e4a4ce2b2a4ca5be3f</td>\n",
              "      <td>120</td>\n",
              "      <td>0</td>\n",
              "      <td>0</td>\n",
              "      <td>18.90</td>\n",
              "    </tr>\n",
              "    <tr>\n",
              "      <th>2</th>\n",
              "      <td>0000f46a3911fa3c0805444483337064</td>\n",
              "      <td>543</td>\n",
              "      <td>0</td>\n",
              "      <td>0</td>\n",
              "      <td>69.00</td>\n",
              "    </tr>\n",
              "    <tr>\n",
              "      <th>3</th>\n",
              "      <td>0000f6ccb0745a6a4b88665a16c9f078</td>\n",
              "      <td>327</td>\n",
              "      <td>0</td>\n",
              "      <td>0</td>\n",
              "      <td>25.99</td>\n",
              "    </tr>\n",
              "    <tr>\n",
              "      <th>4</th>\n",
              "      <td>0004aac84e0df4da2b147fca70cf8255</td>\n",
              "      <td>294</td>\n",
              "      <td>0</td>\n",
              "      <td>0</td>\n",
              "      <td>180.00</td>\n",
              "    </tr>\n",
              "  </tbody>\n",
              "</table>\n",
              "</div>"
            ],
            "text/plain": [
              "                 customer_unique_id  Duration  recency  frequency  avg_monetary\n",
              "0  0000366f3b9a7992bf8c76cfdf3221e2       117        0          0        129.90\n",
              "1  0000b849f77a49e4a4ce2b2a4ca5be3f       120        0          0         18.90\n",
              "2  0000f46a3911fa3c0805444483337064       543        0          0         69.00\n",
              "3  0000f6ccb0745a6a4b88665a16c9f078       327        0          0         25.99\n",
              "4  0004aac84e0df4da2b147fca70cf8255       294        0          0        180.00"
            ]
          },
          "metadata": {},
          "execution_count": 90
        }
      ]
    },
    {
      "cell_type": "code",
      "metadata": {
        "colab": {
          "base_uri": "https://localhost:8080/"
        },
        "id": "-4RM33StUiG_",
        "outputId": "94f880b7-e917-4bc0-f73e-18f850be552a"
      },
      "source": [
        "# Let us consider scaling before clustering\n",
        "rfm_df_scaled = rfm_df[['avg_monetary', 'frequency', 'recency']]\n",
        "\n",
        "# instantiate\n",
        "scaler = StandardScaler()\n",
        "\n",
        "# fit_transform\n",
        "rfm_df_scaled = scaler.fit_transform(rfm_df_scaled)\n",
        "rfm_df_scaled.shape"
      ],
      "execution_count": 91,
      "outputs": [
        {
          "output_type": "execute_result",
          "data": {
            "text/plain": [
              "(95560, 3)"
            ]
          },
          "metadata": {},
          "execution_count": 91
        }
      ]
    },
    {
      "cell_type": "code",
      "metadata": {
        "colab": {
          "base_uri": "https://localhost:8080/",
          "height": 206
        },
        "id": "D6NnyRhvUiG_",
        "outputId": "394e2b94-9919-40a4-88ee-ef675ebff1a4"
      },
      "source": [
        "rfm_df_scaled = pd.DataFrame(rfm_df_scaled)\n",
        "rfm_df_scaled.columns = ['monetary', 'frequency', 'recency']\n",
        "rfm_df_scaled.head()"
      ],
      "execution_count": 92,
      "outputs": [
        {
          "output_type": "execute_result",
          "data": {
            "text/html": [
              "<div>\n",
              "<style scoped>\n",
              "    .dataframe tbody tr th:only-of-type {\n",
              "        vertical-align: middle;\n",
              "    }\n",
              "\n",
              "    .dataframe tbody tr th {\n",
              "        vertical-align: top;\n",
              "    }\n",
              "\n",
              "    .dataframe thead th {\n",
              "        text-align: right;\n",
              "    }\n",
              "</style>\n",
              "<table border=\"1\" class=\"dataframe\">\n",
              "  <thead>\n",
              "    <tr style=\"text-align: right;\">\n",
              "      <th></th>\n",
              "      <th>monetary</th>\n",
              "      <th>frequency</th>\n",
              "      <th>recency</th>\n",
              "    </tr>\n",
              "  </thead>\n",
              "  <tbody>\n",
              "    <tr>\n",
              "      <th>0</th>\n",
              "      <td>-0.038864</td>\n",
              "      <td>-0.134601</td>\n",
              "      <td>-0.106454</td>\n",
              "    </tr>\n",
              "    <tr>\n",
              "      <th>1</th>\n",
              "      <td>-0.562935</td>\n",
              "      <td>-0.134601</td>\n",
              "      <td>-0.106454</td>\n",
              "    </tr>\n",
              "    <tr>\n",
              "      <th>2</th>\n",
              "      <td>-0.326395</td>\n",
              "      <td>-0.134601</td>\n",
              "      <td>-0.106454</td>\n",
              "    </tr>\n",
              "    <tr>\n",
              "      <th>3</th>\n",
              "      <td>-0.529460</td>\n",
              "      <td>-0.134601</td>\n",
              "      <td>-0.106454</td>\n",
              "    </tr>\n",
              "    <tr>\n",
              "      <th>4</th>\n",
              "      <td>0.197676</td>\n",
              "      <td>-0.134601</td>\n",
              "      <td>-0.106454</td>\n",
              "    </tr>\n",
              "  </tbody>\n",
              "</table>\n",
              "</div>"
            ],
            "text/plain": [
              "   monetary  frequency   recency\n",
              "0 -0.038864  -0.134601 -0.106454\n",
              "1 -0.562935  -0.134601 -0.106454\n",
              "2 -0.326395  -0.134601 -0.106454\n",
              "3 -0.529460  -0.134601 -0.106454\n",
              "4  0.197676  -0.134601 -0.106454"
            ]
          },
          "metadata": {},
          "execution_count": 92
        }
      ]
    },
    {
      "cell_type": "markdown",
      "metadata": {
        "id": "EsjCJ-4SUiHA"
      },
      "source": [
        "# K-Means Clustering"
      ]
    },
    {
      "cell_type": "markdown",
      "metadata": {
        "id": "XWrpBELeUiHA"
      },
      "source": [
        "# Finding the Optimal Number of Clusters"
      ]
    },
    {
      "cell_type": "code",
      "metadata": {
        "colab": {
          "base_uri": "https://localhost:8080/",
          "height": 282
        },
        "id": "NssPlKoOUiHA",
        "outputId": "333ace98-ba19-4217-9888-a2745980df07"
      },
      "source": [
        "# elbow-curve/SSD\n",
        "ssd = []\n",
        "range_n_clusters = [2, 3, 4, 5, 6, 7, 8]\n",
        "for num_clusters in range_n_clusters:\n",
        "    kmeans = KMeans(n_clusters=num_clusters, max_iter=50)\n",
        "    kmeans.fit(rfm_df_scaled)\n",
        "    \n",
        "    ssd.append(kmeans.inertia_)\n",
        "    \n",
        "# plot the SSDs for each n_clusters\n",
        "# ssd\n",
        "plt.plot(ssd)"
      ],
      "execution_count": 93,
      "outputs": [
        {
          "output_type": "execute_result",
          "data": {
            "text/plain": [
              "[<matplotlib.lines.Line2D at 0x7f02d7499a50>]"
            ]
          },
          "metadata": {},
          "execution_count": 93
        },
        {
          "output_type": "display_data",
          "data": {
            "image/png": "[encoded data removed]",
            "text/plain": [
              "<Figure size 432x288 with 1 Axes>"
            ]
          },
          "metadata": {
            "needs_background": "light"
          }
        }
      ]
    },
    {
      "cell_type": "markdown",
      "metadata": {
        "id": "ld6U-9L8UiHA"
      },
      "source": [
        "# Silhouette Analysis"
      ]
    },
    {
      "cell_type": "code",
      "metadata": {
        "id": "0NJysvHhUiHA"
      },
      "source": [
        "# # silhouette analysis\n",
        "# range_n_clusters = [2, 3, 4, 5, 6, 7, 8]\n",
        "\n",
        "# for num_clusters in range_n_clusters:\n",
        "    \n",
        "#     # intialise kmeans\n",
        "#     kmeans = KMeans(n_clusters=num_clusters, max_iter=50)\n",
        "#     kmeans.fit(rfm_df_scaled)\n",
        "    \n",
        "#     cluster_labels = kmeans.labels_\n",
        "    \n",
        "#     # silhouette score\n",
        "#     silhouette_avg = silhouette_score(rfm_df_scaled, cluster_labels)\n",
        "#     print(\"For n_clusters={0}, the silhouette score is {1}\".format(num_clusters, silhouette_avg))"
      ],
      "execution_count": 94,
      "outputs": []
    },
    {
      "cell_type": "markdown",
      "metadata": {
        "id": "wEkwBQiMUiHB"
      },
      "source": [
        "For 2 cluster=2 the Silhouette score found was 90.94\n",
        "For 3 clusters i.e cluster=3 Silhouette score found was 85.4\n",
        "We can decide number of cluster 2 or 3. Let us go with 3 cluster"
      ]
    },
    {
      "cell_type": "code",
      "metadata": {
        "colab": {
          "base_uri": "https://localhost:8080/"
        },
        "id": "wObVfWSPUiHB",
        "outputId": "3de249d5-5e2f-4468-e454-f53ee5cd48f5"
      },
      "source": [
        "# final model with k=3\n",
        "kmeans = KMeans(n_clusters=3, max_iter=50)\n",
        "kmeans.fit(rfm_df_scaled)\n",
        "kmeans.labels_"
      ],
      "execution_count": 95,
      "outputs": [
        {
          "output_type": "execute_result",
          "data": {
            "text/plain": [
              "array([0, 0, 0, ..., 0, 0, 0], dtype=int32)"
            ]
          },
          "metadata": {},
          "execution_count": 95
        }
      ]
    },
    {
      "cell_type": "code",
      "metadata": {
        "colab": {
          "base_uri": "https://localhost:8080/",
          "height": 0
        },
        "id": "9TQz9l3YUiHB",
        "outputId": "1ba61c70-e6c4-48aa-afa2-66e573c33912"
      },
      "source": [
        "# assign the label\n",
        "rfm_df['cluster_id'] = kmeans.labels_\n",
        "rfm_df.head()"
      ],
      "execution_count": 96,
      "outputs": [
        {
          "output_type": "execute_result",
          "data": {
            "text/html": [
              "<div>\n",
              "<style scoped>\n",
              "    .dataframe tbody tr th:only-of-type {\n",
              "        vertical-align: middle;\n",
              "    }\n",
              "\n",
              "    .dataframe tbody tr th {\n",
              "        vertical-align: top;\n",
              "    }\n",
              "\n",
              "    .dataframe thead th {\n",
              "        text-align: right;\n",
              "    }\n",
              "</style>\n",
              "<table border=\"1\" class=\"dataframe\">\n",
              "  <thead>\n",
              "    <tr style=\"text-align: right;\">\n",
              "      <th></th>\n",
              "      <th>customer_unique_id</th>\n",
              "      <th>Duration</th>\n",
              "      <th>recency</th>\n",
              "      <th>frequency</th>\n",
              "      <th>avg_monetary</th>\n",
              "      <th>cluster_id</th>\n",
              "    </tr>\n",
              "  </thead>\n",
              "  <tbody>\n",
              "    <tr>\n",
              "      <th>0</th>\n",
              "      <td>0000366f3b9a7992bf8c76cfdf3221e2</td>\n",
              "      <td>117</td>\n",
              "      <td>0</td>\n",
              "      <td>0</td>\n",
              "      <td>129.90</td>\n",
              "      <td>0</td>\n",
              "    </tr>\n",
              "    <tr>\n",
              "      <th>1</th>\n",
              "      <td>0000b849f77a49e4a4ce2b2a4ca5be3f</td>\n",
              "      <td>120</td>\n",
              "      <td>0</td>\n",
              "      <td>0</td>\n",
              "      <td>18.90</td>\n",
              "      <td>0</td>\n",
              "    </tr>\n",
              "    <tr>\n",
              "      <th>2</th>\n",
              "      <td>0000f46a3911fa3c0805444483337064</td>\n",
              "      <td>543</td>\n",
              "      <td>0</td>\n",
              "      <td>0</td>\n",
              "      <td>69.00</td>\n",
              "      <td>0</td>\n",
              "    </tr>\n",
              "    <tr>\n",
              "      <th>3</th>\n",
              "      <td>0000f6ccb0745a6a4b88665a16c9f078</td>\n",
              "      <td>327</td>\n",
              "      <td>0</td>\n",
              "      <td>0</td>\n",
              "      <td>25.99</td>\n",
              "      <td>0</td>\n",
              "    </tr>\n",
              "    <tr>\n",
              "      <th>4</th>\n",
              "      <td>0004aac84e0df4da2b147fca70cf8255</td>\n",
              "      <td>294</td>\n",
              "      <td>0</td>\n",
              "      <td>0</td>\n",
              "      <td>180.00</td>\n",
              "      <td>0</td>\n",
              "    </tr>\n",
              "  </tbody>\n",
              "</table>\n",
              "</div>"
            ],
            "text/plain": [
              "                 customer_unique_id  Duration  ...  avg_monetary  cluster_id\n",
              "0  0000366f3b9a7992bf8c76cfdf3221e2       117  ...        129.90           0\n",
              "1  0000b849f77a49e4a4ce2b2a4ca5be3f       120  ...         18.90           0\n",
              "2  0000f46a3911fa3c0805444483337064       543  ...         69.00           0\n",
              "3  0000f6ccb0745a6a4b88665a16c9f078       327  ...         25.99           0\n",
              "4  0004aac84e0df4da2b147fca70cf8255       294  ...        180.00           0\n",
              "\n",
              "[5 rows x 6 columns]"
            ]
          },
          "metadata": {},
          "execution_count": 96
        }
      ]
    },
    {
      "cell_type": "code",
      "metadata": {
        "colab": {
          "base_uri": "https://localhost:8080/",
          "height": 0
        },
        "id": "nGgSgIPTUiHB",
        "outputId": "660f7d8f-65aa-4af5-8851-79d2c2eb4411"
      },
      "source": [
        "# plot\n",
        "sns.boxplot(x='cluster_id', y='avg_monetary', data=rfm_df);"
      ],
      "execution_count": 97,
      "outputs": [
        {
          "output_type": "display_data",
          "data": {
            "image/png": "[encoded data removed]",
            "text/plain": [
              "<Figure size 432x288 with 1 Axes>"
            ]
          },
          "metadata": {
            "needs_background": "light"
          }
        }
      ]
    },
    {
      "cell_type": "code",
      "metadata": {
        "colab": {
          "base_uri": "https://localhost:8080/",
          "height": 0
        },
        "id": "PI7e4EMJUiHC",
        "outputId": "9af679fc-0baa-4b29-db58-9f343b59bc0e"
      },
      "source": [
        "# plot\n",
        "sns.boxplot(x='cluster_id', y='frequency', data=rfm_df);"
      ],
      "execution_count": 98,
      "outputs": [
        {
          "output_type": "display_data",
          "data": {
            "image/png": "[encoded data removed]",
            "text/plain": [
              "<Figure size 432x288 with 1 Axes>"
            ]
          },
          "metadata": {
            "needs_background": "light"
          }
        }
      ]
    },
    {
      "cell_type": "code",
      "metadata": {
        "colab": {
          "base_uri": "https://localhost:8080/",
          "height": 0
        },
        "id": "6jrrH50cUiHC",
        "outputId": "7b47b135-efaa-4808-a64a-2c41d0a6fe37"
      },
      "source": [
        "# plot\n",
        "sns.boxplot(x='cluster_id', y='recency', data=rfm_df);"
      ],
      "execution_count": 99,
      "outputs": [
        {
          "output_type": "display_data",
          "data": {
            "image/png": "[encoded data removed]",
            "text/plain": [
              "<Figure size 432x288 with 1 Axes>"
            ]
          },
          "metadata": {
            "needs_background": "light"
          }
        }
      ]
    },
    {
      "cell_type": "code",
      "metadata": {
        "colab": {
          "base_uri": "https://localhost:8080/",
          "height": 0
        },
        "id": "TJqG_OHHUiHC",
        "outputId": "3a3f0e13-151b-4892-8149-4cc72d338daf"
      },
      "source": [
        "#plotting the clusters formed\n",
        "plt.figure(figsize=(10, 8))\n",
        "sns.scatterplot(x=\"recency\", y=\"avg_monetary\", hue=\"cluster_id\",data=rfm_df, palette=['green','brown','orange']);"
      ],
      "execution_count": 100,
      "outputs": [
        {
          "output_type": "display_data",
          "data": {
            "image/png": "[encoded data removed]",
            "text/plain": [
              "<Figure size 720x576 with 1 Axes>"
            ]
          },
          "metadata": {
            "needs_background": "light"
          }
        }
      ]
    },
    {
      "cell_type": "code",
      "metadata": {
        "colab": {
          "base_uri": "https://localhost:8080/",
          "height": 0
        },
        "id": "lZWDJ_8XUiHC",
        "outputId": "cc1d3e22-06cd-4f96-f302-c7bd6abb5f03"
      },
      "source": [
        "#plotting the clusters formed\n",
        "plt.figure(figsize=(10, 8))\n",
        "sns.scatterplot(x=\"frequency\", y=\"avg_monetary\", hue=\"cluster_id\",data=rfm_df, palette=['green','brown','orange']);"
      ],
      "execution_count": 101,
      "outputs": [
        {
          "output_type": "display_data",
          "data": {
            "image/png": "[encoded data removed]",
            "text/plain": [
              "<Figure size 720x576 with 1 Axes>"
            ]
          },
          "metadata": {
            "needs_background": "light"
          }
        }
      ]
    },
    {
      "cell_type": "code",
      "metadata": {
        "colab": {
          "base_uri": "https://localhost:8080/",
          "height": 0
        },
        "id": "tQwcegT6UiHD",
        "outputId": "d2e9a319-81e9-4ef0-dd9a-29282d194036"
      },
      "source": [
        "rfm_df.head()"
      ],
      "execution_count": 102,
      "outputs": [
        {
          "output_type": "execute_result",
          "data": {
            "text/html": [
              "<div>\n",
              "<style scoped>\n",
              "    .dataframe tbody tr th:only-of-type {\n",
              "        vertical-align: middle;\n",
              "    }\n",
              "\n",
              "    .dataframe tbody tr th {\n",
              "        vertical-align: top;\n",
              "    }\n",
              "\n",
              "    .dataframe thead th {\n",
              "        text-align: right;\n",
              "    }\n",
              "</style>\n",
              "<table border=\"1\" class=\"dataframe\">\n",
              "  <thead>\n",
              "    <tr style=\"text-align: right;\">\n",
              "      <th></th>\n",
              "      <th>customer_unique_id</th>\n",
              "      <th>Duration</th>\n",
              "      <th>recency</th>\n",
              "      <th>frequency</th>\n",
              "      <th>avg_monetary</th>\n",
              "      <th>cluster_id</th>\n",
              "    </tr>\n",
              "  </thead>\n",
              "  <tbody>\n",
              "    <tr>\n",
              "      <th>0</th>\n",
              "      <td>0000366f3b9a7992bf8c76cfdf3221e2</td>\n",
              "      <td>117</td>\n",
              "      <td>0</td>\n",
              "      <td>0</td>\n",
              "      <td>129.90</td>\n",
              "      <td>0</td>\n",
              "    </tr>\n",
              "    <tr>\n",
              "      <th>1</th>\n",
              "      <td>0000b849f77a49e4a4ce2b2a4ca5be3f</td>\n",
              "      <td>120</td>\n",
              "      <td>0</td>\n",
              "      <td>0</td>\n",
              "      <td>18.90</td>\n",
              "      <td>0</td>\n",
              "    </tr>\n",
              "    <tr>\n",
              "      <th>2</th>\n",
              "      <td>0000f46a3911fa3c0805444483337064</td>\n",
              "      <td>543</td>\n",
              "      <td>0</td>\n",
              "      <td>0</td>\n",
              "      <td>69.00</td>\n",
              "      <td>0</td>\n",
              "    </tr>\n",
              "    <tr>\n",
              "      <th>3</th>\n",
              "      <td>0000f6ccb0745a6a4b88665a16c9f078</td>\n",
              "      <td>327</td>\n",
              "      <td>0</td>\n",
              "      <td>0</td>\n",
              "      <td>25.99</td>\n",
              "      <td>0</td>\n",
              "    </tr>\n",
              "    <tr>\n",
              "      <th>4</th>\n",
              "      <td>0004aac84e0df4da2b147fca70cf8255</td>\n",
              "      <td>294</td>\n",
              "      <td>0</td>\n",
              "      <td>0</td>\n",
              "      <td>180.00</td>\n",
              "      <td>0</td>\n",
              "    </tr>\n",
              "  </tbody>\n",
              "</table>\n",
              "</div>"
            ],
            "text/plain": [
              "                 customer_unique_id  Duration  ...  avg_monetary  cluster_id\n",
              "0  0000366f3b9a7992bf8c76cfdf3221e2       117  ...        129.90           0\n",
              "1  0000b849f77a49e4a4ce2b2a4ca5be3f       120  ...         18.90           0\n",
              "2  0000f46a3911fa3c0805444483337064       543  ...         69.00           0\n",
              "3  0000f6ccb0745a6a4b88665a16c9f078       327  ...         25.99           0\n",
              "4  0004aac84e0df4da2b147fca70cf8255       294  ...        180.00           0\n",
              "\n",
              "[5 rows x 6 columns]"
            ]
          },
          "metadata": {},
          "execution_count": 102
        }
      ]
    },
    {
      "cell_type": "code",
      "metadata": {
        "id": "53MR8I5ZUiHD"
      },
      "source": [
        "new_df = rfm_df.copy()"
      ],
      "execution_count": 103,
      "outputs": []
    },
    {
      "cell_type": "code",
      "metadata": {
        "colab": {
          "base_uri": "https://localhost:8080/",
          "height": 0
        },
        "id": "_bFMQPHpUiHD",
        "outputId": "f0fa92c1-f715-4541-aae8-9064e7a9ceb5"
      },
      "source": [
        "rfm_df_scaled.head()"
      ],
      "execution_count": 104,
      "outputs": [
        {
          "output_type": "execute_result",
          "data": {
            "text/html": [
              "<div>\n",
              "<style scoped>\n",
              "    .dataframe tbody tr th:only-of-type {\n",
              "        vertical-align: middle;\n",
              "    }\n",
              "\n",
              "    .dataframe tbody tr th {\n",
              "        vertical-align: top;\n",
              "    }\n",
              "\n",
              "    .dataframe thead th {\n",
              "        text-align: right;\n",
              "    }\n",
              "</style>\n",
              "<table border=\"1\" class=\"dataframe\">\n",
              "  <thead>\n",
              "    <tr style=\"text-align: right;\">\n",
              "      <th></th>\n",
              "      <th>monetary</th>\n",
              "      <th>frequency</th>\n",
              "      <th>recency</th>\n",
              "    </tr>\n",
              "  </thead>\n",
              "  <tbody>\n",
              "    <tr>\n",
              "      <th>0</th>\n",
              "      <td>-0.038864</td>\n",
              "      <td>-0.134601</td>\n",
              "      <td>-0.106454</td>\n",
              "    </tr>\n",
              "    <tr>\n",
              "      <th>1</th>\n",
              "      <td>-0.562935</td>\n",
              "      <td>-0.134601</td>\n",
              "      <td>-0.106454</td>\n",
              "    </tr>\n",
              "    <tr>\n",
              "      <th>2</th>\n",
              "      <td>-0.326395</td>\n",
              "      <td>-0.134601</td>\n",
              "      <td>-0.106454</td>\n",
              "    </tr>\n",
              "    <tr>\n",
              "      <th>3</th>\n",
              "      <td>-0.529460</td>\n",
              "      <td>-0.134601</td>\n",
              "      <td>-0.106454</td>\n",
              "    </tr>\n",
              "    <tr>\n",
              "      <th>4</th>\n",
              "      <td>0.197676</td>\n",
              "      <td>-0.134601</td>\n",
              "      <td>-0.106454</td>\n",
              "    </tr>\n",
              "  </tbody>\n",
              "</table>\n",
              "</div>"
            ],
            "text/plain": [
              "   monetary  frequency   recency\n",
              "0 -0.038864  -0.134601 -0.106454\n",
              "1 -0.562935  -0.134601 -0.106454\n",
              "2 -0.326395  -0.134601 -0.106454\n",
              "3 -0.529460  -0.134601 -0.106454\n",
              "4  0.197676  -0.134601 -0.106454"
            ]
          },
          "metadata": {},
          "execution_count": 104
        }
      ]
    },
    {
      "cell_type": "markdown",
      "metadata": {
        "id": "QjEg9SszUiHD"
      },
      "source": [
        "# Recency Clustering analysis"
      ]
    },
    {
      "cell_type": "code",
      "metadata": {
        "id": "eQu9QON6UiHD"
      },
      "source": [
        "#build 3 clusters for recency and add it to dataframe\n",
        "kmeans = KMeans(n_clusters=3)\n",
        "kmeans.fit(rfm_df_scaled[['recency']])\n",
        "rfm_df_scaled['RecencyCluster'] = kmeans.predict(rfm_df_scaled[['recency']])"
      ],
      "execution_count": 105,
      "outputs": []
    },
    {
      "cell_type": "code",
      "metadata": {
        "id": "RPdDAT9zUiHE"
      },
      "source": [
        "#function for ordering cluster numbers\n",
        "def order_cluster(cluster_field_name, target_field_name,df,ascending):\n",
        "    new_cluster_field_name = 'new_' + cluster_field_name\n",
        "    df_new = df.groupby(cluster_field_name)[target_field_name].mean().reset_index()\n",
        "    df_new = df_new.sort_values(by=target_field_name,ascending=ascending).reset_index(drop=True)\n",
        "    df_new['index'] = df_new.index\n",
        "    df_final = pd.merge(df,df_new[[cluster_field_name,'index']], on=cluster_field_name)\n",
        "    df_final = df_final.drop([cluster_field_name],axis=1)\n",
        "    df_final = df_final.rename(columns={\"index\":cluster_field_name})\n",
        "    return df_final\n",
        "\n",
        "rfm_df_scaled = order_cluster('RecencyCluster','recency',rfm_df_scaled,True)"
      ],
      "execution_count": 106,
      "outputs": []
    },
    {
      "cell_type": "code",
      "metadata": {
        "colab": {
          "base_uri": "https://localhost:8080/",
          "height": 175
        },
        "id": "F7Zq3STDUiHE",
        "outputId": "b9851db5-f254-48e3-e9f7-5fee262ecf8a"
      },
      "source": [
        "rfm_df_scaled.groupby('RecencyCluster')['recency'].describe()"
      ],
      "execution_count": 107,
      "outputs": [
        {
          "output_type": "execute_result",
          "data": {
            "text/html": [
              "<div>\n",
              "<style scoped>\n",
              "    .dataframe tbody tr th:only-of-type {\n",
              "        vertical-align: middle;\n",
              "    }\n",
              "\n",
              "    .dataframe tbody tr th {\n",
              "        vertical-align: top;\n",
              "    }\n",
              "\n",
              "    .dataframe thead th {\n",
              "        text-align: right;\n",
              "    }\n",
              "</style>\n",
              "<table border=\"1\" class=\"dataframe\">\n",
              "  <thead>\n",
              "    <tr style=\"text-align: right;\">\n",
              "      <th></th>\n",
              "      <th>count</th>\n",
              "      <th>mean</th>\n",
              "      <th>std</th>\n",
              "      <th>min</th>\n",
              "      <th>25%</th>\n",
              "      <th>50%</th>\n",
              "      <th>75%</th>\n",
              "      <th>max</th>\n",
              "    </tr>\n",
              "    <tr>\n",
              "      <th>RecencyCluster</th>\n",
              "      <th></th>\n",
              "      <th></th>\n",
              "      <th></th>\n",
              "      <th></th>\n",
              "      <th></th>\n",
              "      <th></th>\n",
              "      <th></th>\n",
              "      <th></th>\n",
              "    </tr>\n",
              "  </thead>\n",
              "  <tbody>\n",
              "    <tr>\n",
              "      <th>0</th>\n",
              "      <td>94452.0</td>\n",
              "      <td>-0.095003</td>\n",
              "      <td>0.139818</td>\n",
              "      <td>-0.106454</td>\n",
              "      <td>-0.106454</td>\n",
              "      <td>-0.106454</td>\n",
              "      <td>-0.106454</td>\n",
              "      <td>2.771135</td>\n",
              "    </tr>\n",
              "    <tr>\n",
              "      <th>1</th>\n",
              "      <td>756.0</td>\n",
              "      <td>5.656910</td>\n",
              "      <td>1.917288</td>\n",
              "      <td>2.810554</td>\n",
              "      <td>3.953706</td>\n",
              "      <td>5.491048</td>\n",
              "      <td>7.195921</td>\n",
              "      <td>9.472370</td>\n",
              "    </tr>\n",
              "    <tr>\n",
              "      <th>2</th>\n",
              "      <td>352.0</td>\n",
              "      <td>13.342713</td>\n",
              "      <td>3.032290</td>\n",
              "      <td>9.551208</td>\n",
              "      <td>10.999857</td>\n",
              "      <td>12.685020</td>\n",
              "      <td>15.000888</td>\n",
              "      <td>24.845790</td>\n",
              "    </tr>\n",
              "  </tbody>\n",
              "</table>\n",
              "</div>"
            ],
            "text/plain": [
              "                  count       mean       std  ...        50%        75%        max\n",
              "RecencyCluster                                ...                                 \n",
              "0               94452.0  -0.095003  0.139818  ...  -0.106454  -0.106454   2.771135\n",
              "1                 756.0   5.656910  1.917288  ...   5.491048   7.195921   9.472370\n",
              "2                 352.0  13.342713  3.032290  ...  12.685020  15.000888  24.845790\n",
              "\n",
              "[3 rows x 8 columns]"
            ]
          },
          "metadata": {},
          "execution_count": 107
        }
      ]
    },
    {
      "cell_type": "code",
      "metadata": {
        "colab": {
          "base_uri": "https://localhost:8080/",
          "height": 497
        },
        "id": "2YslC-nWUiHE",
        "outputId": "6a1c997b-c68f-456c-975e-2906cf0bb471"
      },
      "source": [
        "#plotting the clusters formed\n",
        "plt.figure(figsize=(10, 8))\n",
        "sns.scatterplot(x=\"RecencyCluster\",y=\"recency\",data=rfm_df_scaled);"
      ],
      "execution_count": 108,
      "outputs": [
        {
          "output_type": "display_data",
          "data": {
            "image/png": "[encoded data removed]",
            "text/plain": [
              "<Figure size 720x576 with 1 Axes>"
            ]
          },
          "metadata": {
            "needs_background": "light"
          }
        }
      ]
    },
    {
      "cell_type": "markdown",
      "metadata": {
        "id": "XbVIkTB1UiHE"
      },
      "source": [
        "# Freequency Clustering analysis"
      ]
    },
    {
      "cell_type": "code",
      "metadata": {
        "colab": {
          "base_uri": "https://localhost:8080/",
          "height": 175
        },
        "id": "bJlHoyfeUiHE",
        "outputId": "ff4845dc-d59e-4841-af2d-937fd9fffe20"
      },
      "source": [
        "#k-means\n",
        "kmeans = KMeans(n_clusters=3)\n",
        "kmeans.fit(rfm_df_scaled[['frequency']])\n",
        "rfm_df_scaled['FrequencyCluster'] = kmeans.predict(rfm_df_scaled[['frequency']])\n",
        "\n",
        "#order the frequency cluster\n",
        "rfm_df_scaled= order_cluster('FrequencyCluster', 'frequency',rfm_df_scaled,True)\n",
        "\n",
        "#see details of each cluster\n",
        "rfm_df_scaled.groupby('FrequencyCluster')['frequency'].describe()"
      ],
      "execution_count": 109,
      "outputs": [
        {
          "output_type": "execute_result",
          "data": {
            "text/html": [
              "<div>\n",
              "<style scoped>\n",
              "    .dataframe tbody tr th:only-of-type {\n",
              "        vertical-align: middle;\n",
              "    }\n",
              "\n",
              "    .dataframe tbody tr th {\n",
              "        vertical-align: top;\n",
              "    }\n",
              "\n",
              "    .dataframe thead th {\n",
              "        text-align: right;\n",
              "    }\n",
              "</style>\n",
              "<table border=\"1\" class=\"dataframe\">\n",
              "  <thead>\n",
              "    <tr style=\"text-align: right;\">\n",
              "      <th></th>\n",
              "      <th>count</th>\n",
              "      <th>mean</th>\n",
              "      <th>std</th>\n",
              "      <th>min</th>\n",
              "      <th>25%</th>\n",
              "      <th>50%</th>\n",
              "      <th>75%</th>\n",
              "      <th>max</th>\n",
              "    </tr>\n",
              "    <tr>\n",
              "      <th>FrequencyCluster</th>\n",
              "      <th></th>\n",
              "      <th></th>\n",
              "      <th></th>\n",
              "      <th></th>\n",
              "      <th></th>\n",
              "      <th></th>\n",
              "      <th></th>\n",
              "      <th></th>\n",
              "    </tr>\n",
              "  </thead>\n",
              "  <tbody>\n",
              "    <tr>\n",
              "      <th>0</th>\n",
              "      <td>93468.0</td>\n",
              "      <td>-0.134601</td>\n",
              "      <td>2.923233e-13</td>\n",
              "      <td>-0.134601</td>\n",
              "      <td>-0.134601</td>\n",
              "      <td>-0.134601</td>\n",
              "      <td>-0.134601</td>\n",
              "      <td>-0.134601</td>\n",
              "    </tr>\n",
              "    <tr>\n",
              "      <th>1</th>\n",
              "      <td>1936.0</td>\n",
              "      <td>5.416763</td>\n",
              "      <td>8.706397e-14</td>\n",
              "      <td>5.416763</td>\n",
              "      <td>5.416763</td>\n",
              "      <td>5.416763</td>\n",
              "      <td>5.416763</td>\n",
              "      <td>5.416763</td>\n",
              "    </tr>\n",
              "    <tr>\n",
              "      <th>2</th>\n",
              "      <td>156.0</td>\n",
              "      <td>13.423539</td>\n",
              "      <td>7.599632e+00</td>\n",
              "      <td>10.968127</td>\n",
              "      <td>10.968127</td>\n",
              "      <td>10.968127</td>\n",
              "      <td>10.968127</td>\n",
              "      <td>88.687230</td>\n",
              "    </tr>\n",
              "  </tbody>\n",
              "</table>\n",
              "</div>"
            ],
            "text/plain": [
              "                    count       mean  ...        75%        max\n",
              "FrequencyCluster                      ...                      \n",
              "0                 93468.0  -0.134601  ...  -0.134601  -0.134601\n",
              "1                  1936.0   5.416763  ...   5.416763   5.416763\n",
              "2                   156.0  13.423539  ...  10.968127  88.687230\n",
              "\n",
              "[3 rows x 8 columns]"
            ]
          },
          "metadata": {},
          "execution_count": 109
        }
      ]
    },
    {
      "cell_type": "code",
      "metadata": {
        "colab": {
          "base_uri": "https://localhost:8080/",
          "height": 497
        },
        "id": "F6VGNZmdUiHF",
        "outputId": "f3aca80f-f543-4857-a66e-6512b3847a1c"
      },
      "source": [
        "#plotting the clusters formed\n",
        "plt.figure(figsize=(10, 8))\n",
        "sns.scatterplot(x=\"FrequencyCluster\",y=\"frequency\",data=rfm_df_scaled);"
      ],
      "execution_count": 110,
      "outputs": [
        {
          "output_type": "display_data",
          "data": {
            "image/png": "[encoded data removed]",
            "text/plain": [
              "<Figure size 720x576 with 1 Axes>"
            ]
          },
          "metadata": {
            "needs_background": "light"
          }
        }
      ]
    },
    {
      "cell_type": "markdown",
      "metadata": {
        "id": "UcAYplDIUiHF"
      },
      "source": [
        "# Monetary Clustering analysis"
      ]
    },
    {
      "cell_type": "code",
      "metadata": {
        "colab": {
          "base_uri": "https://localhost:8080/",
          "height": 175
        },
        "id": "e_YQIxxlUiHF",
        "outputId": "c462a325-c5fd-464a-e94d-0f08d07c051d"
      },
      "source": [
        "#apply clustering\n",
        "kmeans = KMeans(n_clusters=3)\n",
        "kmeans.fit(rfm_df_scaled[['monetary']])\n",
        "rfm_df_scaled['MonetaryCluster'] = kmeans.predict(rfm_df_scaled[['monetary']])\n",
        "\n",
        "\n",
        "#order the cluster numbers\n",
        "rfm_df_scaled = order_cluster('MonetaryCluster', 'monetary',rfm_df_scaled,True)\n",
        "\n",
        "#show details of the dataframe\n",
        "rfm_df_scaled.groupby('MonetaryCluster')['monetary'].describe()"
      ],
      "execution_count": 111,
      "outputs": [
        {
          "output_type": "execute_result",
          "data": {
            "text/html": [
              "<div>\n",
              "<style scoped>\n",
              "    .dataframe tbody tr th:only-of-type {\n",
              "        vertical-align: middle;\n",
              "    }\n",
              "\n",
              "    .dataframe tbody tr th {\n",
              "        vertical-align: top;\n",
              "    }\n",
              "\n",
              "    .dataframe thead th {\n",
              "        text-align: right;\n",
              "    }\n",
              "</style>\n",
              "<table border=\"1\" class=\"dataframe\">\n",
              "  <thead>\n",
              "    <tr style=\"text-align: right;\">\n",
              "      <th></th>\n",
              "      <th>count</th>\n",
              "      <th>mean</th>\n",
              "      <th>std</th>\n",
              "      <th>min</th>\n",
              "      <th>25%</th>\n",
              "      <th>50%</th>\n",
              "      <th>75%</th>\n",
              "      <th>max</th>\n",
              "    </tr>\n",
              "    <tr>\n",
              "      <th>MonetaryCluster</th>\n",
              "      <th></th>\n",
              "      <th></th>\n",
              "      <th></th>\n",
              "      <th></th>\n",
              "      <th></th>\n",
              "      <th></th>\n",
              "      <th></th>\n",
              "      <th></th>\n",
              "    </tr>\n",
              "  </thead>\n",
              "  <tbody>\n",
              "    <tr>\n",
              "      <th>0</th>\n",
              "      <td>86552.0</td>\n",
              "      <td>-0.219908</td>\n",
              "      <td>0.293599</td>\n",
              "      <td>-0.652169</td>\n",
              "      <td>-0.453871</td>\n",
              "      <td>-0.283902</td>\n",
              "      <td>-0.043113</td>\n",
              "      <td>0.669812</td>\n",
              "    </tr>\n",
              "    <tr>\n",
              "      <th>1</th>\n",
              "      <td>8182.0</td>\n",
              "      <td>1.587412</td>\n",
              "      <td>0.882423</td>\n",
              "      <td>0.670285</td>\n",
              "      <td>0.905408</td>\n",
              "      <td>1.231654</td>\n",
              "      <td>2.086173</td>\n",
              "      <td>4.420367</td>\n",
              "    </tr>\n",
              "    <tr>\n",
              "      <th>2</th>\n",
              "      <td>826.0</td>\n",
              "      <td>7.318765</td>\n",
              "      <td>3.920667</td>\n",
              "      <td>4.446429</td>\n",
              "      <td>5.070156</td>\n",
              "      <td>6.139509</td>\n",
              "      <td>8.271203</td>\n",
              "      <td>62.802917</td>\n",
              "    </tr>\n",
              "  </tbody>\n",
              "</table>\n",
              "</div>"
            ],
            "text/plain": [
              "                   count      mean       std  ...       50%       75%        max\n",
              "MonetaryCluster                               ...                               \n",
              "0                86552.0 -0.219908  0.293599  ... -0.283902 -0.043113   0.669812\n",
              "1                 8182.0  1.587412  0.882423  ...  1.231654  2.086173   4.420367\n",
              "2                  826.0  7.318765  3.920667  ...  6.139509  8.271203  62.802917\n",
              "\n",
              "[3 rows x 8 columns]"
            ]
          },
          "metadata": {},
          "execution_count": 111
        }
      ]
    },
    {
      "cell_type": "code",
      "metadata": {
        "colab": {
          "base_uri": "https://localhost:8080/",
          "height": 497
        },
        "id": "iAoq0Kz1UiHF",
        "outputId": "f62b05d7-c1ae-4088-9297-eaea20cd049c"
      },
      "source": [
        "#plotting the clusters formed\n",
        "plt.figure(figsize=(10, 8))\n",
        "sns.scatterplot(x=\"MonetaryCluster\",y=\"monetary\",data=rfm_df_scaled);"
      ],
      "execution_count": 112,
      "outputs": [
        {
          "output_type": "display_data",
          "data": {
            "image/png": "[encoded data removed]",
            "text/plain": [
              "<Figure size 720x576 with 1 Axes>"
            ]
          },
          "metadata": {
            "needs_background": "light"
          }
        }
      ]
    },
    {
      "cell_type": "markdown",
      "metadata": {
        "id": "NYalBDREUiHG"
      },
      "source": [
        "# Overall Score"
      ]
    },
    {
      "cell_type": "code",
      "metadata": {
        "colab": {
          "base_uri": "https://localhost:8080/",
          "height": 269
        },
        "id": "yUij7ofOUiHG",
        "outputId": "e8f53a4e-b57f-44e5-a956-39325cb3b93d"
      },
      "source": [
        "#calculate overall score and use mean() to see details\n",
        "rfm_df_scaled['OverallScore'] = rfm_df_scaled['RecencyCluster'] + rfm_df_scaled['FrequencyCluster'] + rfm_df_scaled['MonetaryCluster']\n",
        "rfm_df_scaled.groupby('OverallScore')['recency','frequency','monetary'].mean()"
      ],
      "execution_count": 113,
      "outputs": [
        {
          "output_type": "execute_result",
          "data": {
            "text/html": [
              "<div>\n",
              "<style scoped>\n",
              "    .dataframe tbody tr th:only-of-type {\n",
              "        vertical-align: middle;\n",
              "    }\n",
              "\n",
              "    .dataframe tbody tr th {\n",
              "        vertical-align: top;\n",
              "    }\n",
              "\n",
              "    .dataframe thead th {\n",
              "        text-align: right;\n",
              "    }\n",
              "</style>\n",
              "<table border=\"1\" class=\"dataframe\">\n",
              "  <thead>\n",
              "    <tr style=\"text-align: right;\">\n",
              "      <th></th>\n",
              "      <th>recency</th>\n",
              "      <th>frequency</th>\n",
              "      <th>monetary</th>\n",
              "    </tr>\n",
              "    <tr>\n",
              "      <th>OverallScore</th>\n",
              "      <th></th>\n",
              "      <th></th>\n",
              "      <th></th>\n",
              "    </tr>\n",
              "  </thead>\n",
              "  <tbody>\n",
              "    <tr>\n",
              "      <th>0</th>\n",
              "      <td>-0.106454</td>\n",
              "      <td>-0.134601</td>\n",
              "      <td>-0.220900</td>\n",
              "    </tr>\n",
              "    <tr>\n",
              "      <th>1</th>\n",
              "      <td>0.002817</td>\n",
              "      <td>0.413120</td>\n",
              "      <td>1.415455</td>\n",
              "    </tr>\n",
              "    <tr>\n",
              "      <th>2</th>\n",
              "      <td>2.299544</td>\n",
              "      <td>2.600236</td>\n",
              "      <td>3.848809</td>\n",
              "    </tr>\n",
              "    <tr>\n",
              "      <th>3</th>\n",
              "      <td>11.020122</td>\n",
              "      <td>6.669379</td>\n",
              "      <td>0.076969</td>\n",
              "    </tr>\n",
              "    <tr>\n",
              "      <th>4</th>\n",
              "      <td>13.174726</td>\n",
              "      <td>12.605068</td>\n",
              "      <td>0.352703</td>\n",
              "    </tr>\n",
              "    <tr>\n",
              "      <th>5</th>\n",
              "      <td>12.562821</td>\n",
              "      <td>12.078400</td>\n",
              "      <td>1.595005</td>\n",
              "    </tr>\n",
              "  </tbody>\n",
              "</table>\n",
              "</div>"
            ],
            "text/plain": [
              "                recency  frequency  monetary\n",
              "OverallScore                                \n",
              "0             -0.106454  -0.134601 -0.220900\n",
              "1              0.002817   0.413120  1.415455\n",
              "2              2.299544   2.600236  3.848809\n",
              "3             11.020122   6.669379  0.076969\n",
              "4             13.174726  12.605068  0.352703\n",
              "5             12.562821  12.078400  1.595005"
            ]
          },
          "metadata": {},
          "execution_count": 113
        }
      ]
    },
    {
      "cell_type": "raw",
      "metadata": {
        "id": "6fGNWEFUUiHG"
      },
      "source": [
        "Since higher value of Recency,Frequency and monetary are desired for potential customer. In this segmentation process higher values are expected for clusters in ascending order. For example customer belongs to last cluster,k=2 in our case have higher values of recency,frequency and monetary. Here overall score is taken as the summation of respective RFM cluster's higher the better. Based on this value we will segregate the different segments of customer."
      ]
    },
    {
      "cell_type": "code",
      "metadata": {
        "colab": {
          "base_uri": "https://localhost:8080/",
          "height": 226
        },
        "id": "5IHJwf9bUiHG",
        "outputId": "0ce2d2e2-ec87-4be3-e33c-0813a2cd0fa3"
      },
      "source": [
        "rfm_df_scaled_final= pd.concat([rfm_df.customer_unique_id,rfm_df_scaled],axis=1)\n",
        "rfm_df_scaled_final.head()"
      ],
      "execution_count": 114,
      "outputs": [
        {
          "output_type": "execute_result",
          "data": {
            "text/html": [
              "<div>\n",
              "<style scoped>\n",
              "    .dataframe tbody tr th:only-of-type {\n",
              "        vertical-align: middle;\n",
              "    }\n",
              "\n",
              "    .dataframe tbody tr th {\n",
              "        vertical-align: top;\n",
              "    }\n",
              "\n",
              "    .dataframe thead th {\n",
              "        text-align: right;\n",
              "    }\n",
              "</style>\n",
              "<table border=\"1\" class=\"dataframe\">\n",
              "  <thead>\n",
              "    <tr style=\"text-align: right;\">\n",
              "      <th></th>\n",
              "      <th>customer_unique_id</th>\n",
              "      <th>monetary</th>\n",
              "      <th>frequency</th>\n",
              "      <th>recency</th>\n",
              "      <th>RecencyCluster</th>\n",
              "      <th>FrequencyCluster</th>\n",
              "      <th>MonetaryCluster</th>\n",
              "      <th>OverallScore</th>\n",
              "    </tr>\n",
              "  </thead>\n",
              "  <tbody>\n",
              "    <tr>\n",
              "      <th>0</th>\n",
              "      <td>0000366f3b9a7992bf8c76cfdf3221e2</td>\n",
              "      <td>-0.038864</td>\n",
              "      <td>-0.134601</td>\n",
              "      <td>-0.106454</td>\n",
              "      <td>0</td>\n",
              "      <td>0</td>\n",
              "      <td>0</td>\n",
              "      <td>0</td>\n",
              "    </tr>\n",
              "    <tr>\n",
              "      <th>1</th>\n",
              "      <td>0000b849f77a49e4a4ce2b2a4ca5be3f</td>\n",
              "      <td>-0.562935</td>\n",
              "      <td>-0.134601</td>\n",
              "      <td>-0.106454</td>\n",
              "      <td>0</td>\n",
              "      <td>0</td>\n",
              "      <td>0</td>\n",
              "      <td>0</td>\n",
              "    </tr>\n",
              "    <tr>\n",
              "      <th>2</th>\n",
              "      <td>0000f46a3911fa3c0805444483337064</td>\n",
              "      <td>-0.326395</td>\n",
              "      <td>-0.134601</td>\n",
              "      <td>-0.106454</td>\n",
              "      <td>0</td>\n",
              "      <td>0</td>\n",
              "      <td>0</td>\n",
              "      <td>0</td>\n",
              "    </tr>\n",
              "    <tr>\n",
              "      <th>3</th>\n",
              "      <td>0000f6ccb0745a6a4b88665a16c9f078</td>\n",
              "      <td>-0.529460</td>\n",
              "      <td>-0.134601</td>\n",
              "      <td>-0.106454</td>\n",
              "      <td>0</td>\n",
              "      <td>0</td>\n",
              "      <td>0</td>\n",
              "      <td>0</td>\n",
              "    </tr>\n",
              "    <tr>\n",
              "      <th>4</th>\n",
              "      <td>0004aac84e0df4da2b147fca70cf8255</td>\n",
              "      <td>0.197676</td>\n",
              "      <td>-0.134601</td>\n",
              "      <td>-0.106454</td>\n",
              "      <td>0</td>\n",
              "      <td>0</td>\n",
              "      <td>0</td>\n",
              "      <td>0</td>\n",
              "    </tr>\n",
              "  </tbody>\n",
              "</table>\n",
              "</div>"
            ],
            "text/plain": [
              "                 customer_unique_id  monetary  ...  MonetaryCluster  OverallScore\n",
              "0  0000366f3b9a7992bf8c76cfdf3221e2 -0.038864  ...                0             0\n",
              "1  0000b849f77a49e4a4ce2b2a4ca5be3f -0.562935  ...                0             0\n",
              "2  0000f46a3911fa3c0805444483337064 -0.326395  ...                0             0\n",
              "3  0000f6ccb0745a6a4b88665a16c9f078 -0.529460  ...                0             0\n",
              "4  0004aac84e0df4da2b147fca70cf8255  0.197676  ...                0             0\n",
              "\n",
              "[5 rows x 8 columns]"
            ]
          },
          "metadata": {},
          "execution_count": 114
        }
      ]
    },
    {
      "cell_type": "code",
      "metadata": {
        "colab": {
          "base_uri": "https://localhost:8080/",
          "height": 226
        },
        "id": "6gf2snWAUiHH",
        "outputId": "609bc1e1-0f2b-4aa8-b82a-c7eb2672e1f4"
      },
      "source": [
        "rfm_df_scaled_final['OverallScore'] = rfm_df_scaled['RecencyCluster'] + rfm_df_scaled['FrequencyCluster'] + rfm_df_scaled['MonetaryCluster']\n",
        "rfm_df_scaled_final.head()"
      ],
      "execution_count": 115,
      "outputs": [
        {
          "output_type": "execute_result",
          "data": {
            "text/html": [
              "<div>\n",
              "<style scoped>\n",
              "    .dataframe tbody tr th:only-of-type {\n",
              "        vertical-align: middle;\n",
              "    }\n",
              "\n",
              "    .dataframe tbody tr th {\n",
              "        vertical-align: top;\n",
              "    }\n",
              "\n",
              "    .dataframe thead th {\n",
              "        text-align: right;\n",
              "    }\n",
              "</style>\n",
              "<table border=\"1\" class=\"dataframe\">\n",
              "  <thead>\n",
              "    <tr style=\"text-align: right;\">\n",
              "      <th></th>\n",
              "      <th>customer_unique_id</th>\n",
              "      <th>monetary</th>\n",
              "      <th>frequency</th>\n",
              "      <th>recency</th>\n",
              "      <th>RecencyCluster</th>\n",
              "      <th>FrequencyCluster</th>\n",
              "      <th>MonetaryCluster</th>\n",
              "      <th>OverallScore</th>\n",
              "    </tr>\n",
              "  </thead>\n",
              "  <tbody>\n",
              "    <tr>\n",
              "      <th>0</th>\n",
              "      <td>0000366f3b9a7992bf8c76cfdf3221e2</td>\n",
              "      <td>-0.038864</td>\n",
              "      <td>-0.134601</td>\n",
              "      <td>-0.106454</td>\n",
              "      <td>0</td>\n",
              "      <td>0</td>\n",
              "      <td>0</td>\n",
              "      <td>0</td>\n",
              "    </tr>\n",
              "    <tr>\n",
              "      <th>1</th>\n",
              "      <td>0000b849f77a49e4a4ce2b2a4ca5be3f</td>\n",
              "      <td>-0.562935</td>\n",
              "      <td>-0.134601</td>\n",
              "      <td>-0.106454</td>\n",
              "      <td>0</td>\n",
              "      <td>0</td>\n",
              "      <td>0</td>\n",
              "      <td>0</td>\n",
              "    </tr>\n",
              "    <tr>\n",
              "      <th>2</th>\n",
              "      <td>0000f46a3911fa3c0805444483337064</td>\n",
              "      <td>-0.326395</td>\n",
              "      <td>-0.134601</td>\n",
              "      <td>-0.106454</td>\n",
              "      <td>0</td>\n",
              "      <td>0</td>\n",
              "      <td>0</td>\n",
              "      <td>0</td>\n",
              "    </tr>\n",
              "    <tr>\n",
              "      <th>3</th>\n",
              "      <td>0000f6ccb0745a6a4b88665a16c9f078</td>\n",
              "      <td>-0.529460</td>\n",
              "      <td>-0.134601</td>\n",
              "      <td>-0.106454</td>\n",
              "      <td>0</td>\n",
              "      <td>0</td>\n",
              "      <td>0</td>\n",
              "      <td>0</td>\n",
              "    </tr>\n",
              "    <tr>\n",
              "      <th>4</th>\n",
              "      <td>0004aac84e0df4da2b147fca70cf8255</td>\n",
              "      <td>0.197676</td>\n",
              "      <td>-0.134601</td>\n",
              "      <td>-0.106454</td>\n",
              "      <td>0</td>\n",
              "      <td>0</td>\n",
              "      <td>0</td>\n",
              "      <td>0</td>\n",
              "    </tr>\n",
              "  </tbody>\n",
              "</table>\n",
              "</div>"
            ],
            "text/plain": [
              "                 customer_unique_id  monetary  ...  MonetaryCluster  OverallScore\n",
              "0  0000366f3b9a7992bf8c76cfdf3221e2 -0.038864  ...                0             0\n",
              "1  0000b849f77a49e4a4ce2b2a4ca5be3f -0.562935  ...                0             0\n",
              "2  0000f46a3911fa3c0805444483337064 -0.326395  ...                0             0\n",
              "3  0000f6ccb0745a6a4b88665a16c9f078 -0.529460  ...                0             0\n",
              "4  0004aac84e0df4da2b147fca70cf8255  0.197676  ...                0             0\n",
              "\n",
              "[5 rows x 8 columns]"
            ]
          },
          "metadata": {},
          "execution_count": 115
        }
      ]
    },
    {
      "cell_type": "code",
      "metadata": {
        "id": "b2xNyDKFUiHH"
      },
      "source": [
        "rfm_df_scaled_final['Segment'] = 'Low-Value'\n",
        "rfm_df_scaled_final.loc[rfm_df_scaled_final['OverallScore']>2,'Segment'] = 'Mid-Value' \n",
        "rfm_df_scaled_final.loc[rfm_df_scaled_final['OverallScore']>4,'Segment'] = 'High-Value' "
      ],
      "execution_count": 116,
      "outputs": []
    },
    {
      "cell_type": "raw",
      "metadata": {
        "id": "Vhkd2cUYUiHI"
      },
      "source": [
        "Low Value: Customers who are less active than others, not very frequent buyer/visitor and generates very low - zero - maybe negative revenue.\n",
        "Mid Value: In the middle of everything. Often using the platform (but not as much as High Values), fairly frequent and generates moderate revenue.\n",
        "High Value: The group we don’t want to lose. High Revenue, Frequency and low Inactivity."
      ]
    },
    {
      "cell_type": "code",
      "metadata": {
        "colab": {
          "base_uri": "https://localhost:8080/",
          "height": 557
        },
        "id": "6ZjmvGneUiHI",
        "outputId": "21b8b242-f93b-49d5-a4e1-50ca0a8feb10"
      },
      "source": [
        "rfm_df_scaled_final.head(10)"
      ],
      "execution_count": 117,
      "outputs": [
        {
          "output_type": "execute_result",
          "data": {
            "text/html": [
              "<div>\n",
              "<style scoped>\n",
              "    .dataframe tbody tr th:only-of-type {\n",
              "        vertical-align: middle;\n",
              "    }\n",
              "\n",
              "    .dataframe tbody tr th {\n",
              "        vertical-align: top;\n",
              "    }\n",
              "\n",
              "    .dataframe thead th {\n",
              "        text-align: right;\n",
              "    }\n",
              "</style>\n",
              "<table border=\"1\" class=\"dataframe\">\n",
              "  <thead>\n",
              "    <tr style=\"text-align: right;\">\n",
              "      <th></th>\n",
              "      <th>customer_unique_id</th>\n",
              "      <th>monetary</th>\n",
              "      <th>frequency</th>\n",
              "      <th>recency</th>\n",
              "      <th>RecencyCluster</th>\n",
              "      <th>FrequencyCluster</th>\n",
              "      <th>MonetaryCluster</th>\n",
              "      <th>OverallScore</th>\n",
              "      <th>Segment</th>\n",
              "    </tr>\n",
              "  </thead>\n",
              "  <tbody>\n",
              "    <tr>\n",
              "      <th>0</th>\n",
              "      <td>0000366f3b9a7992bf8c76cfdf3221e2</td>\n",
              "      <td>-0.038864</td>\n",
              "      <td>-0.134601</td>\n",
              "      <td>-0.106454</td>\n",
              "      <td>0</td>\n",
              "      <td>0</td>\n",
              "      <td>0</td>\n",
              "      <td>0</td>\n",
              "      <td>Low-Value</td>\n",
              "    </tr>\n",
              "    <tr>\n",
              "      <th>1</th>\n",
              "      <td>0000b849f77a49e4a4ce2b2a4ca5be3f</td>\n",
              "      <td>-0.562935</td>\n",
              "      <td>-0.134601</td>\n",
              "      <td>-0.106454</td>\n",
              "      <td>0</td>\n",
              "      <td>0</td>\n",
              "      <td>0</td>\n",
              "      <td>0</td>\n",
              "      <td>Low-Value</td>\n",
              "    </tr>\n",
              "    <tr>\n",
              "      <th>2</th>\n",
              "      <td>0000f46a3911fa3c0805444483337064</td>\n",
              "      <td>-0.326395</td>\n",
              "      <td>-0.134601</td>\n",
              "      <td>-0.106454</td>\n",
              "      <td>0</td>\n",
              "      <td>0</td>\n",
              "      <td>0</td>\n",
              "      <td>0</td>\n",
              "      <td>Low-Value</td>\n",
              "    </tr>\n",
              "    <tr>\n",
              "      <th>3</th>\n",
              "      <td>0000f6ccb0745a6a4b88665a16c9f078</td>\n",
              "      <td>-0.529460</td>\n",
              "      <td>-0.134601</td>\n",
              "      <td>-0.106454</td>\n",
              "      <td>0</td>\n",
              "      <td>0</td>\n",
              "      <td>0</td>\n",
              "      <td>0</td>\n",
              "      <td>Low-Value</td>\n",
              "    </tr>\n",
              "    <tr>\n",
              "      <th>4</th>\n",
              "      <td>0004aac84e0df4da2b147fca70cf8255</td>\n",
              "      <td>0.197676</td>\n",
              "      <td>-0.134601</td>\n",
              "      <td>-0.106454</td>\n",
              "      <td>0</td>\n",
              "      <td>0</td>\n",
              "      <td>0</td>\n",
              "      <td>0</td>\n",
              "      <td>Low-Value</td>\n",
              "    </tr>\n",
              "    <tr>\n",
              "      <th>5</th>\n",
              "      <td>0004bd2a26a76fe21f786e4fbd80607f</td>\n",
              "      <td>0.074921</td>\n",
              "      <td>-0.134601</td>\n",
              "      <td>-0.106454</td>\n",
              "      <td>0</td>\n",
              "      <td>0</td>\n",
              "      <td>0</td>\n",
              "      <td>0</td>\n",
              "      <td>Low-Value</td>\n",
              "    </tr>\n",
              "    <tr>\n",
              "      <th>6</th>\n",
              "      <td>00050ab1314c0e55a6ca13cf7181fecf</td>\n",
              "      <td>-0.520018</td>\n",
              "      <td>-0.134601</td>\n",
              "      <td>-0.106454</td>\n",
              "      <td>0</td>\n",
              "      <td>0</td>\n",
              "      <td>0</td>\n",
              "      <td>0</td>\n",
              "      <td>Low-Value</td>\n",
              "    </tr>\n",
              "    <tr>\n",
              "      <th>7</th>\n",
              "      <td>00053a61a98854899e70ed204dd4bafe</td>\n",
              "      <td>-0.014785</td>\n",
              "      <td>-0.134601</td>\n",
              "      <td>-0.106454</td>\n",
              "      <td>0</td>\n",
              "      <td>0</td>\n",
              "      <td>0</td>\n",
              "      <td>0</td>\n",
              "      <td>Low-Value</td>\n",
              "    </tr>\n",
              "    <tr>\n",
              "      <th>8</th>\n",
              "      <td>0005e1862207bf6ccc02e4228effd9a0</td>\n",
              "      <td>-0.156898</td>\n",
              "      <td>-0.134601</td>\n",
              "      <td>-0.106454</td>\n",
              "      <td>0</td>\n",
              "      <td>0</td>\n",
              "      <td>0</td>\n",
              "      <td>0</td>\n",
              "      <td>Low-Value</td>\n",
              "    </tr>\n",
              "    <tr>\n",
              "      <th>9</th>\n",
              "      <td>0005ef4cd20d2893f0d9fbd94d3c0d97</td>\n",
              "      <td>-0.586542</td>\n",
              "      <td>-0.134601</td>\n",
              "      <td>-0.106454</td>\n",
              "      <td>0</td>\n",
              "      <td>0</td>\n",
              "      <td>0</td>\n",
              "      <td>0</td>\n",
              "      <td>Low-Value</td>\n",
              "    </tr>\n",
              "  </tbody>\n",
              "</table>\n",
              "</div>"
            ],
            "text/plain": [
              "                 customer_unique_id  monetary  ...  OverallScore    Segment\n",
              "0  0000366f3b9a7992bf8c76cfdf3221e2 -0.038864  ...             0  Low-Value\n",
              "1  0000b849f77a49e4a4ce2b2a4ca5be3f -0.562935  ...             0  Low-Value\n",
              "2  0000f46a3911fa3c0805444483337064 -0.326395  ...             0  Low-Value\n",
              "3  0000f6ccb0745a6a4b88665a16c9f078 -0.529460  ...             0  Low-Value\n",
              "4  0004aac84e0df4da2b147fca70cf8255  0.197676  ...             0  Low-Value\n",
              "5  0004bd2a26a76fe21f786e4fbd80607f  0.074921  ...             0  Low-Value\n",
              "6  00050ab1314c0e55a6ca13cf7181fecf -0.520018  ...             0  Low-Value\n",
              "7  00053a61a98854899e70ed204dd4bafe -0.014785  ...             0  Low-Value\n",
              "8  0005e1862207bf6ccc02e4228effd9a0 -0.156898  ...             0  Low-Value\n",
              "9  0005ef4cd20d2893f0d9fbd94d3c0d97 -0.586542  ...             0  Low-Value\n",
              "\n",
              "[10 rows x 9 columns]"
            ]
          },
          "metadata": {},
          "execution_count": 117
        }
      ]
    },
    {
      "cell_type": "raw",
      "metadata": {
        "id": "U7ypSrCPUiHI"
      },
      "source": [
        "Here we have taken as if the sum of cluster value is up to 2 they are categorized as Low-value customer\n",
        "Customer whose overall score is between 3 to 4 mid-value customer. And Customer with more than 4 are high-valued customer."
      ]
    },
    {
      "cell_type": "code",
      "metadata": {
        "colab": {
          "base_uri": "https://localhost:8080/",
          "height": 1000
        },
        "id": "N2BMigIGUiHJ",
        "outputId": "9894ffc2-fa80-4636-b2b0-b7761ae8d2be"
      },
      "source": [
        "rfm_df_scaled_final.tail(20)"
      ],
      "execution_count": 118,
      "outputs": [
        {
          "output_type": "execute_result",
          "data": {
            "text/html": [
              "<div>\n",
              "<style scoped>\n",
              "    .dataframe tbody tr th:only-of-type {\n",
              "        vertical-align: middle;\n",
              "    }\n",
              "\n",
              "    .dataframe tbody tr th {\n",
              "        vertical-align: top;\n",
              "    }\n",
              "\n",
              "    .dataframe thead th {\n",
              "        text-align: right;\n",
              "    }\n",
              "</style>\n",
              "<table border=\"1\" class=\"dataframe\">\n",
              "  <thead>\n",
              "    <tr style=\"text-align: right;\">\n",
              "      <th></th>\n",
              "      <th>customer_unique_id</th>\n",
              "      <th>monetary</th>\n",
              "      <th>frequency</th>\n",
              "      <th>recency</th>\n",
              "      <th>RecencyCluster</th>\n",
              "      <th>FrequencyCluster</th>\n",
              "      <th>MonetaryCluster</th>\n",
              "      <th>OverallScore</th>\n",
              "      <th>Segment</th>\n",
              "    </tr>\n",
              "  </thead>\n",
              "  <tbody>\n",
              "    <tr>\n",
              "      <th>95540</th>\n",
              "      <td>ffef0ffa736c7b3d9af741611089729b</td>\n",
              "      <td>5.367566</td>\n",
              "      <td>-0.134601</td>\n",
              "      <td>-0.106454</td>\n",
              "      <td>0</td>\n",
              "      <td>0</td>\n",
              "      <td>2</td>\n",
              "      <td>2</td>\n",
              "      <td>Low-Value</td>\n",
              "    </tr>\n",
              "    <tr>\n",
              "      <th>95541</th>\n",
              "      <td>fff1afc79f6b5db1e235a4a6c30ceda7</td>\n",
              "      <td>5.485128</td>\n",
              "      <td>-0.134601</td>\n",
              "      <td>-0.106454</td>\n",
              "      <td>0</td>\n",
              "      <td>0</td>\n",
              "      <td>2</td>\n",
              "      <td>2</td>\n",
              "      <td>Low-Value</td>\n",
              "    </tr>\n",
              "    <tr>\n",
              "      <th>95542</th>\n",
              "      <td>fff1bdd5c5e37ca79dd74deeb91aa5b6</td>\n",
              "      <td>6.132426</td>\n",
              "      <td>-0.134601</td>\n",
              "      <td>-0.106454</td>\n",
              "      <td>0</td>\n",
              "      <td>0</td>\n",
              "      <td>2</td>\n",
              "      <td>2</td>\n",
              "      <td>Low-Value</td>\n",
              "    </tr>\n",
              "    <tr>\n",
              "      <th>95543</th>\n",
              "      <td>fff22793223fe80c97a8fd02ac5c6295</td>\n",
              "      <td>12.001078</td>\n",
              "      <td>-0.134601</td>\n",
              "      <td>-0.106454</td>\n",
              "      <td>0</td>\n",
              "      <td>0</td>\n",
              "      <td>2</td>\n",
              "      <td>2</td>\n",
              "      <td>Low-Value</td>\n",
              "    </tr>\n",
              "    <tr>\n",
              "      <th>95544</th>\n",
              "      <td>fff2ae16b99c6f3c785f0e052f2a9cfb</td>\n",
              "      <td>4.574330</td>\n",
              "      <td>-0.134601</td>\n",
              "      <td>-0.106454</td>\n",
              "      <td>0</td>\n",
              "      <td>0</td>\n",
              "      <td>2</td>\n",
              "      <td>2</td>\n",
              "      <td>Low-Value</td>\n",
              "    </tr>\n",
              "    <tr>\n",
              "      <th>95545</th>\n",
              "      <td>fff3a9369e4b7102fab406a334a678c3</td>\n",
              "      <td>5.230599</td>\n",
              "      <td>-0.134601</td>\n",
              "      <td>-0.106454</td>\n",
              "      <td>0</td>\n",
              "      <td>0</td>\n",
              "      <td>2</td>\n",
              "      <td>2</td>\n",
              "      <td>Low-Value</td>\n",
              "    </tr>\n",
              "    <tr>\n",
              "      <th>95546</th>\n",
              "      <td>fff3e1d7bc75f11dc7670619b2e61840</td>\n",
              "      <td>5.953015</td>\n",
              "      <td>-0.134601</td>\n",
              "      <td>-0.106454</td>\n",
              "      <td>0</td>\n",
              "      <td>0</td>\n",
              "      <td>2</td>\n",
              "      <td>2</td>\n",
              "      <td>Low-Value</td>\n",
              "    </tr>\n",
              "    <tr>\n",
              "      <th>95547</th>\n",
              "      <td>fff5eb4918b2bf4b2da476788d42051c</td>\n",
              "      <td>5.012048</td>\n",
              "      <td>-0.134601</td>\n",
              "      <td>-0.106454</td>\n",
              "      <td>0</td>\n",
              "      <td>0</td>\n",
              "      <td>2</td>\n",
              "      <td>2</td>\n",
              "      <td>Low-Value</td>\n",
              "    </tr>\n",
              "    <tr>\n",
              "      <th>95548</th>\n",
              "      <td>fff699c184bcc967d62fa2c6171765f7</td>\n",
              "      <td>6.897287</td>\n",
              "      <td>-0.134601</td>\n",
              "      <td>-0.106454</td>\n",
              "      <td>0</td>\n",
              "      <td>0</td>\n",
              "      <td>2</td>\n",
              "      <td>2</td>\n",
              "      <td>Low-Value</td>\n",
              "    </tr>\n",
              "    <tr>\n",
              "      <th>95549</th>\n",
              "      <td>fff7219c86179ca6441b8f37823ba3d3</td>\n",
              "      <td>8.223989</td>\n",
              "      <td>-0.134601</td>\n",
              "      <td>-0.106454</td>\n",
              "      <td>0</td>\n",
              "      <td>0</td>\n",
              "      <td>2</td>\n",
              "      <td>2</td>\n",
              "      <td>Low-Value</td>\n",
              "    </tr>\n",
              "    <tr>\n",
              "      <th>95550</th>\n",
              "      <td>fff96bc586f78b1f070da28c4977e810</td>\n",
              "      <td>4.966250</td>\n",
              "      <td>-0.134601</td>\n",
              "      <td>-0.106454</td>\n",
              "      <td>0</td>\n",
              "      <td>0</td>\n",
              "      <td>2</td>\n",
              "      <td>2</td>\n",
              "      <td>Low-Value</td>\n",
              "    </tr>\n",
              "    <tr>\n",
              "      <th>95551</th>\n",
              "      <td>fffa431dd3fcdefea4b1777d114144f2</td>\n",
              "      <td>13.511394</td>\n",
              "      <td>-0.134601</td>\n",
              "      <td>-0.106454</td>\n",
              "      <td>0</td>\n",
              "      <td>0</td>\n",
              "      <td>2</td>\n",
              "      <td>2</td>\n",
              "      <td>Low-Value</td>\n",
              "    </tr>\n",
              "    <tr>\n",
              "      <th>95552</th>\n",
              "      <td>fffb09418989a0dbff854a28163e47c6</td>\n",
              "      <td>7.159039</td>\n",
              "      <td>-0.134601</td>\n",
              "      <td>-0.106454</td>\n",
              "      <td>0</td>\n",
              "      <td>0</td>\n",
              "      <td>2</td>\n",
              "      <td>2</td>\n",
              "      <td>Low-Value</td>\n",
              "    </tr>\n",
              "    <tr>\n",
              "      <th>95553</th>\n",
              "      <td>fffbf87b7a1a6fa8b03f081c5f51a201</td>\n",
              "      <td>30.031953</td>\n",
              "      <td>-0.134601</td>\n",
              "      <td>-0.106454</td>\n",
              "      <td>0</td>\n",
              "      <td>0</td>\n",
              "      <td>2</td>\n",
              "      <td>2</td>\n",
              "      <td>Low-Value</td>\n",
              "    </tr>\n",
              "    <tr>\n",
              "      <th>95554</th>\n",
              "      <td>fffcc512b7dfecaffd80f13614af1d16</td>\n",
              "      <td>6.425151</td>\n",
              "      <td>-0.134601</td>\n",
              "      <td>-0.106454</td>\n",
              "      <td>0</td>\n",
              "      <td>0</td>\n",
              "      <td>2</td>\n",
              "      <td>2</td>\n",
              "      <td>Low-Value</td>\n",
              "    </tr>\n",
              "    <tr>\n",
              "      <th>95555</th>\n",
              "      <td>fffcf5a5ff07b0908bd4e2dbc735a684</td>\n",
              "      <td>6.860460</td>\n",
              "      <td>-0.134601</td>\n",
              "      <td>-0.106454</td>\n",
              "      <td>0</td>\n",
              "      <td>0</td>\n",
              "      <td>2</td>\n",
              "      <td>2</td>\n",
              "      <td>Low-Value</td>\n",
              "    </tr>\n",
              "    <tr>\n",
              "      <th>95556</th>\n",
              "      <td>fffea47cd6d3cc0a88bd621562a9d061</td>\n",
              "      <td>6.760367</td>\n",
              "      <td>-0.134601</td>\n",
              "      <td>-0.106454</td>\n",
              "      <td>0</td>\n",
              "      <td>0</td>\n",
              "      <td>2</td>\n",
              "      <td>2</td>\n",
              "      <td>Low-Value</td>\n",
              "    </tr>\n",
              "    <tr>\n",
              "      <th>95557</th>\n",
              "      <td>ffff371b4d645b6ecea244b27531430a</td>\n",
              "      <td>6.429825</td>\n",
              "      <td>5.416763</td>\n",
              "      <td>-0.067035</td>\n",
              "      <td>0</td>\n",
              "      <td>1</td>\n",
              "      <td>2</td>\n",
              "      <td>3</td>\n",
              "      <td>Mid-Value</td>\n",
              "    </tr>\n",
              "    <tr>\n",
              "      <th>95558</th>\n",
              "      <td>ffff5962728ec6157033ef9805bacc48</td>\n",
              "      <td>8.979407</td>\n",
              "      <td>5.416763</td>\n",
              "      <td>-0.067035</td>\n",
              "      <td>0</td>\n",
              "      <td>1</td>\n",
              "      <td>2</td>\n",
              "      <td>3</td>\n",
              "      <td>Mid-Value</td>\n",
              "    </tr>\n",
              "    <tr>\n",
              "      <th>95559</th>\n",
              "      <td>ffffd2657e2aad2907e67c3e9daecbeb</td>\n",
              "      <td>7.513424</td>\n",
              "      <td>5.416763</td>\n",
              "      <td>6.240010</td>\n",
              "      <td>1</td>\n",
              "      <td>1</td>\n",
              "      <td>2</td>\n",
              "      <td>4</td>\n",
              "      <td>Mid-Value</td>\n",
              "    </tr>\n",
              "  </tbody>\n",
              "</table>\n",
              "</div>"
            ],
            "text/plain": [
              "                     customer_unique_id   monetary  ...  OverallScore    Segment\n",
              "95540  ffef0ffa736c7b3d9af741611089729b   5.367566  ...             2  Low-Value\n",
              "95541  fff1afc79f6b5db1e235a4a6c30ceda7   5.485128  ...             2  Low-Value\n",
              "95542  fff1bdd5c5e37ca79dd74deeb91aa5b6   6.132426  ...             2  Low-Value\n",
              "95543  fff22793223fe80c97a8fd02ac5c6295  12.001078  ...             2  Low-Value\n",
              "95544  fff2ae16b99c6f3c785f0e052f2a9cfb   4.574330  ...             2  Low-Value\n",
              "95545  fff3a9369e4b7102fab406a334a678c3   5.230599  ...             2  Low-Value\n",
              "95546  fff3e1d7bc75f11dc7670619b2e61840   5.953015  ...             2  Low-Value\n",
              "95547  fff5eb4918b2bf4b2da476788d42051c   5.012048  ...             2  Low-Value\n",
              "95548  fff699c184bcc967d62fa2c6171765f7   6.897287  ...             2  Low-Value\n",
              "95549  fff7219c86179ca6441b8f37823ba3d3   8.223989  ...             2  Low-Value\n",
              "95550  fff96bc586f78b1f070da28c4977e810   4.966250  ...             2  Low-Value\n",
              "95551  fffa431dd3fcdefea4b1777d114144f2  13.511394  ...             2  Low-Value\n",
              "95552  fffb09418989a0dbff854a28163e47c6   7.159039  ...             2  Low-Value\n",
              "95553  fffbf87b7a1a6fa8b03f081c5f51a201  30.031953  ...             2  Low-Value\n",
              "95554  fffcc512b7dfecaffd80f13614af1d16   6.425151  ...             2  Low-Value\n",
              "95555  fffcf5a5ff07b0908bd4e2dbc735a684   6.860460  ...             2  Low-Value\n",
              "95556  fffea47cd6d3cc0a88bd621562a9d061   6.760367  ...             2  Low-Value\n",
              "95557  ffff371b4d645b6ecea244b27531430a   6.429825  ...             3  Mid-Value\n",
              "95558  ffff5962728ec6157033ef9805bacc48   8.979407  ...             3  Mid-Value\n",
              "95559  ffffd2657e2aad2907e67c3e9daecbeb   7.513424  ...             4  Mid-Value\n",
              "\n",
              "[20 rows x 9 columns]"
            ]
          },
          "metadata": {},
          "execution_count": 118
        }
      ]
    },
    {
      "cell_type": "code",
      "metadata": {
        "colab": {
          "base_uri": "https://localhost:8080/"
        },
        "id": "lN82cwY3UiHJ",
        "outputId": "2d7f4664-9783-4e14-ab2d-7484d2a86082"
      },
      "source": [
        "rfm_df_scaled_final.Segment.value_counts()"
      ],
      "execution_count": 119,
      "outputs": [
        {
          "output_type": "execute_result",
          "data": {
            "text/plain": [
              "Low-Value     95087\n",
              "Mid-Value       468\n",
              "High-Value        5\n",
              "Name: Segment, dtype: int64"
            ]
          },
          "metadata": {},
          "execution_count": 119
        }
      ]
    },
    {
      "cell_type": "code",
      "metadata": {
        "colab": {
          "base_uri": "https://localhost:8080/",
          "height": 497
        },
        "id": "B1yHiN5rUiHJ",
        "outputId": "d76c345b-eea8-4ca8-db4c-811b826d90ed"
      },
      "source": [
        "#plotting the clusters formed\n",
        "plt.figure(figsize=(10, 8))\n",
        "sns.scatterplot(y=\"recency\", x=\"RecencyCluster\", hue=\"Segment\",\n",
        "              data=rfm_df_scaled_final, \n",
        "                    palette=['green','brown','orange']);"
      ],
      "execution_count": 120,
      "outputs": [
        {
          "output_type": "display_data",
          "data": {
            "image/png": "[encoded data removed]",
            "text/plain": [
              "<Figure size 720x576 with 1 Axes>"
            ]
          },
          "metadata": {
            "needs_background": "light"
          }
        }
      ]
    },
    {
      "cell_type": "code",
      "metadata": {
        "colab": {
          "base_uri": "https://localhost:8080/",
          "height": 497
        },
        "id": "BJK4EVxoUiHK",
        "outputId": "d108f2af-6bae-4c4e-bb4f-fa2573e257f8"
      },
      "source": [
        "#plotting the clusters formed\n",
        "plt.figure(figsize=(10, 8))\n",
        "sns.scatterplot(y=\"frequency\", x=\"FrequencyCluster\", hue=\"Segment\",\n",
        "              data=rfm_df_scaled_final, \n",
        "                    palette=['green','brown','orange']);"
      ],
      "execution_count": 121,
      "outputs": [
        {
          "output_type": "display_data",
          "data": {
            "image/png": "[encoded data removed]",
            "text/plain": [
              "<Figure size 720x576 with 1 Axes>"
            ]
          },
          "metadata": {
            "needs_background": "light"
          }
        }
      ]
    },
    {
      "cell_type": "code",
      "metadata": {
        "colab": {
          "base_uri": "https://localhost:8080/",
          "height": 497
        },
        "id": "f8-s6ccXUiHK",
        "outputId": "f3abeba4-bd34-490c-cf34-d9bf3075e8b8"
      },
      "source": [
        "#plotting the clusters formed\n",
        "plt.figure(figsize=(10, 8))\n",
        "sns.scatterplot(x=\"monetary\", y=\"MonetaryCluster\",hue=\"Segment\",\n",
        "              data=rfm_df_scaled_final, \n",
        "                    palette=['green','brown','orange']);"
      ],
      "execution_count": 122,
      "outputs": [
        {
          "output_type": "display_data",
          "data": {
            "image/png": "[encoded data removed]",
            "text/plain": [
              "<Figure size 720x576 with 1 Axes>"
            ]
          },
          "metadata": {
            "needs_background": "light"
          }
        }
      ]
    }
  ]
}